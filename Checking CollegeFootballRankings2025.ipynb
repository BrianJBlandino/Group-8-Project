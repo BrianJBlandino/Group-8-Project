{
 "cells": [
  {
   "cell_type": "code",
   "execution_count": 1,
   "id": "d7530c7b",
   "metadata": {},
   "outputs": [],
   "source": [
    "import pandas as pd\n",
    "import numpy as np\n",
    "pd.set_option('display.max_rows', None)"
   ]
  },
  {
   "cell_type": "code",
   "execution_count": null,
   "id": "b6c89319",
   "metadata": {},
   "outputs": [],
   "source": [
    "df = pd.read_csv('CollegeFootballRankings2025.csv')\n",
    "df"
   ]
  },
  {
   "cell_type": "code",
   "execution_count": 3,
   "id": "4e615015",
   "metadata": {},
   "outputs": [
    {
     "data": {
      "text/plain": [
       "np.int64(0)"
      ]
     },
     "execution_count": 3,
     "metadata": {},
     "output_type": "execute_result"
    }
   ],
   "source": [
    "df['Team'].isna().sum()"
   ]
  },
  {
   "cell_type": "code",
   "execution_count": 4,
   "id": "8de83f2c",
   "metadata": {},
   "outputs": [
    {
     "data": {
      "text/plain": [
       "Team\n",
       "Utah State Aggies                 12\n",
       "Hawai'i Rainbow Warriors          12\n",
       "Washington State Cougars          11\n",
       "Nevada Wolf Pack                  11\n",
       "Air Force Falcons                 10\n",
       "Liberty Flames                    10\n",
       "Louisiana Tech Bulldogs           10\n",
       "Oregon State Beavers              10\n",
       "UNLV Rebels                       10\n",
       "Wyoming Cowboys                   10\n",
       "Sam Houston Bearkats               9\n",
       "UConn Huskies                      9\n",
       "UTEP Miners                        9\n",
       "San José State Spartans            9\n",
       "Western Kentucky Hilltoppers       9\n",
       "San Diego State Aztecs             9\n",
       "New Mexico Lobos                   9\n",
       "New Mexico State Aggies            9\n",
       "Middle Tennessee Blue Raiders      9\n",
       "Florida International Panthers     9\n",
       "Missouri State Bears               9\n",
       "Kennesaw State Owls                9\n",
       "Georgia Bulldogs                   9\n",
       "Navy Midshipmen                    9\n",
       "Ole Miss Rebels                    8\n",
       "Jacksonville State Gamecocks       8\n",
       "Colorado State Rams                8\n",
       "Army Black Knights                 8\n",
       "Fresno State Bulldogs              8\n",
       "Delaware Blue Hens                 8\n",
       "Notre Dame Fighting Irish          8\n",
       "Arkansas State Red Wolves          7\n",
       "Mississippi State Bulldogs         7\n",
       "Charlotte 49ers                    7\n",
       "Boise State Broncos                7\n",
       "California Golden Bears            7\n",
       "Oklahoma Sooners                   7\n",
       "North Texas Mean Green             7\n",
       "Central Michigan Chippewas         7\n",
       "Ball State Cardinals               7\n",
       "Western Michigan Broncos           7\n",
       "Texas Longhorns                    7\n",
       "Syracuse Orange                    7\n",
       "South Florida Bulls                6\n",
       "Akron Zips                         6\n",
       "Alabama Crimson Tide               6\n",
       "Ohio Bobcats                       6\n",
       "Oregon Ducks                       6\n",
       "Virginia Cavaliers                 6\n",
       "Utah Utes                          6\n",
       "Tennessee Volunteers               6\n",
       "USC Trojans                        6\n",
       "Texas A&M Aggies                   6\n",
       "Toledo Rockets                     6\n",
       "Vanderbilt Commodores              6\n",
       "West Virginia Mountaineers         6\n",
       "Kentucky Wildcats                  6\n",
       "Stanford Cardinal                  6\n",
       "Eastern Michigan Eagles            6\n",
       "Louisville Cardinals               6\n",
       "Memphis Tigers                     6\n",
       "Missouri Tigers                    6\n",
       "Kansas Jayhawks                    6\n",
       "Kent State Golden Flashes          6\n",
       "Georgia Southern Eagles            6\n",
       "Georgia Tech Yellow Jackets        6\n",
       "Buffalo Bulls                      6\n",
       "Auburn Tigers                      6\n",
       "Clemson Tigers                     6\n",
       "Florida State Seminoles            6\n",
       "Arizona State Sun Devils           5\n",
       "Arkansas Razorbacks                5\n",
       "Indiana Hoosiers                   5\n",
       "Iowa Hawkeyes                      5\n",
       "Texas State Bobcats                5\n",
       "Temple Owls                        5\n",
       "Tulane Green Wave                  5\n",
       "Rutgers Scarlet Knights            5\n",
       "South Carolina Gamecocks           5\n",
       "Virginia Tech Hokies               5\n",
       "Rice Owls                          5\n",
       "Purdue Boilermakers                5\n",
       "North Carolina Tar Heels           5\n",
       "Northern Illinois Huskies          5\n",
       "South Alabama Jaguars              5\n",
       "LSU Tigers                         5\n",
       "Michigan State Spartans            5\n",
       "Southern Miss Golden Eagles        5\n",
       "Marshall Thundering Herd           5\n",
       "Massachusetts Minutemen            5\n",
       "Iowa State Cyclones                5\n",
       "Duke Blue Devils                   5\n",
       "Colorado Buffaloes                 5\n",
       "Baylor Bears                       5\n",
       "BYU Cougars                        5\n",
       "Florida Gators                     5\n",
       "Louisiana Ragin' Cajuns            5\n",
       "Nebraska Cornhuskers               5\n",
       "Minnesota Golden Gophers           5\n",
       "Kansas State Wildcats              5\n",
       "Michigan Wolverines                5\n",
       "App State Mountaineers             4\n",
       "Arizona Wildcats                   4\n",
       "Illinois Fighting Illini           4\n",
       "UTSA Roadrunners                   4\n",
       "Washington Huskies                 4\n",
       "Penn State Nittany Lions           4\n",
       "NC State Wolfpack                  4\n",
       "James Madison Dukes                4\n",
       "Maryland Terrapins                 4\n",
       "Miami Hurricanes                   4\n",
       "Miami (OH) RedHawks                4\n",
       "Georgia State Panthers             4\n",
       "Coastal Carolina Chanticleers      4\n",
       "Boston College Eagles              4\n",
       "Bowling Green Falcons              4\n",
       "Florida Atlantic Owls              4\n",
       "Ohio State Buckeyes                4\n",
       "Old Dominion Monarchs              4\n",
       "Pittsburgh Panthers                4\n",
       "Wake Forest Demon Deacons          4\n",
       "UCLA Bruins                        4\n",
       "UAB Blazers                        4\n",
       "SMU Mustangs                       4\n",
       "Northwestern Wildcats              4\n",
       "Tulsa Golden Hurricane             4\n",
       "Texas Tech Red Raiders             4\n",
       "Troy Trojans                       4\n",
       "East Carolina Pirates              3\n",
       "Cincinnati Bearcats                3\n",
       "Houston Cougars                    3\n",
       "TCU Horned Frogs                   3\n",
       "UL Monroe Warhawks                 3\n",
       "UCF Knights                        3\n",
       "Wisconsin Badgers                  3\n",
       "Oklahoma State Cowboys             2\n",
       "Name: count, dtype: int64"
      ]
     },
     "execution_count": 4,
     "metadata": {},
     "output_type": "execute_result"
    }
   ],
   "source": [
    "df['Team'].value_counts()"
   ]
  },
  {
   "cell_type": "code",
   "execution_count": 5,
   "id": "ce496ed8",
   "metadata": {},
   "outputs": [
    {
     "data": {
      "text/plain": [
       "['Air Force Falcons',\n",
       " 'Akron Zips',\n",
       " 'Alabama Crimson Tide',\n",
       " 'App State Mountaineers',\n",
       " 'Arizona State Sun Devils',\n",
       " 'Arizona Wildcats',\n",
       " 'Arkansas Razorbacks',\n",
       " 'Arkansas State Red Wolves',\n",
       " 'Army Black Knights',\n",
       " 'Auburn Tigers',\n",
       " 'BYU Cougars',\n",
       " 'Ball State Cardinals',\n",
       " 'Baylor Bears',\n",
       " 'Boise State Broncos',\n",
       " 'Boston College Eagles',\n",
       " 'Bowling Green Falcons',\n",
       " 'Buffalo Bulls',\n",
       " 'California Golden Bears',\n",
       " 'Central Michigan Chippewas',\n",
       " 'Charlotte 49ers',\n",
       " 'Cincinnati Bearcats',\n",
       " 'Clemson Tigers',\n",
       " 'Coastal Carolina Chanticleers',\n",
       " 'Colorado Buffaloes',\n",
       " 'Colorado State Rams',\n",
       " 'Delaware Blue Hens',\n",
       " 'Duke Blue Devils',\n",
       " 'East Carolina Pirates',\n",
       " 'Eastern Michigan Eagles',\n",
       " 'Florida Atlantic Owls',\n",
       " 'Florida Gators',\n",
       " 'Florida International Panthers',\n",
       " 'Florida State Seminoles',\n",
       " 'Fresno State Bulldogs',\n",
       " 'Georgia Bulldogs',\n",
       " 'Georgia Southern Eagles',\n",
       " 'Georgia State Panthers',\n",
       " 'Georgia Tech Yellow Jackets',\n",
       " \"Hawai'i Rainbow Warriors\",\n",
       " 'Houston Cougars',\n",
       " 'Illinois Fighting Illini',\n",
       " 'Indiana Hoosiers',\n",
       " 'Iowa Hawkeyes',\n",
       " 'Iowa State Cyclones',\n",
       " 'Jacksonville State Gamecocks',\n",
       " 'James Madison Dukes',\n",
       " 'Kansas Jayhawks',\n",
       " 'Kansas State Wildcats',\n",
       " 'Kennesaw State Owls',\n",
       " 'Kent State Golden Flashes',\n",
       " 'Kentucky Wildcats',\n",
       " 'LSU Tigers',\n",
       " 'Liberty Flames',\n",
       " \"Louisiana Ragin' Cajuns\",\n",
       " 'Louisiana Tech Bulldogs',\n",
       " 'Louisville Cardinals',\n",
       " 'Marshall Thundering Herd',\n",
       " 'Maryland Terrapins',\n",
       " 'Massachusetts Minutemen',\n",
       " 'Memphis Tigers',\n",
       " 'Miami (OH) RedHawks',\n",
       " 'Miami Hurricanes',\n",
       " 'Michigan State Spartans',\n",
       " 'Michigan Wolverines',\n",
       " 'Middle Tennessee Blue Raiders',\n",
       " 'Minnesota Golden Gophers',\n",
       " 'Mississippi State Bulldogs',\n",
       " 'Missouri State Bears',\n",
       " 'Missouri Tigers',\n",
       " 'NC State Wolfpack',\n",
       " 'Navy Midshipmen',\n",
       " 'Nebraska Cornhuskers',\n",
       " 'Nevada Wolf Pack',\n",
       " 'New Mexico Lobos',\n",
       " 'New Mexico State Aggies',\n",
       " 'North Carolina Tar Heels',\n",
       " 'North Texas Mean Green',\n",
       " 'Northern Illinois Huskies',\n",
       " 'Northwestern Wildcats',\n",
       " 'Notre Dame Fighting Irish',\n",
       " 'Ohio Bobcats',\n",
       " 'Ohio State Buckeyes',\n",
       " 'Oklahoma Sooners',\n",
       " 'Oklahoma State Cowboys',\n",
       " 'Old Dominion Monarchs',\n",
       " 'Ole Miss Rebels',\n",
       " 'Oregon Ducks',\n",
       " 'Oregon State Beavers',\n",
       " 'Penn State Nittany Lions',\n",
       " 'Pittsburgh Panthers',\n",
       " 'Purdue Boilermakers',\n",
       " 'Rice Owls',\n",
       " 'Rutgers Scarlet Knights',\n",
       " 'SMU Mustangs',\n",
       " 'Sam Houston Bearkats',\n",
       " 'San Diego State Aztecs',\n",
       " 'San José State Spartans',\n",
       " 'South Alabama Jaguars',\n",
       " 'South Carolina Gamecocks',\n",
       " 'South Florida Bulls',\n",
       " 'Southern Miss Golden Eagles',\n",
       " 'Stanford Cardinal',\n",
       " 'Syracuse Orange',\n",
       " 'TCU Horned Frogs',\n",
       " 'Temple Owls',\n",
       " 'Tennessee Volunteers',\n",
       " 'Texas A&M Aggies',\n",
       " 'Texas Longhorns',\n",
       " 'Texas State Bobcats',\n",
       " 'Texas Tech Red Raiders',\n",
       " 'Toledo Rockets',\n",
       " 'Troy Trojans',\n",
       " 'Tulane Green Wave',\n",
       " 'Tulsa Golden Hurricane',\n",
       " 'UAB Blazers',\n",
       " 'UCF Knights',\n",
       " 'UCLA Bruins',\n",
       " 'UConn Huskies',\n",
       " 'UL Monroe Warhawks',\n",
       " 'UNLV Rebels',\n",
       " 'USC Trojans',\n",
       " 'UTEP Miners',\n",
       " 'UTSA Roadrunners',\n",
       " 'Utah State Aggies',\n",
       " 'Utah Utes',\n",
       " 'Vanderbilt Commodores',\n",
       " 'Virginia Cavaliers',\n",
       " 'Virginia Tech Hokies',\n",
       " 'Wake Forest Demon Deacons',\n",
       " 'Washington Huskies',\n",
       " 'Washington State Cougars',\n",
       " 'West Virginia Mountaineers',\n",
       " 'Western Kentucky Hilltoppers',\n",
       " 'Western Michigan Broncos',\n",
       " 'Wisconsin Badgers',\n",
       " 'Wyoming Cowboys']"
      ]
     },
     "execution_count": 5,
     "metadata": {},
     "output_type": "execute_result"
    }
   ],
   "source": [
    "unique_team = df['Team'].unique()\n",
    "unique_team = sorted(unique_team)\n",
    "unique_team"
   ]
  },
  {
   "cell_type": "code",
   "execution_count": 6,
   "id": "f1126c26",
   "metadata": {},
   "outputs": [
    {
     "data": {
      "text/plain": [
       "np.int64(0)"
      ]
     },
     "execution_count": 6,
     "metadata": {},
     "output_type": "execute_result"
    }
   ],
   "source": [
    "df['date'].isna().sum()"
   ]
  },
  {
   "cell_type": "code",
   "execution_count": 7,
   "id": "cb193fd0",
   "metadata": {},
   "outputs": [
    {
     "data": {
      "text/plain": [
       "array(['Sat, Aug 30', 'Sat, Sep 13', 'Sat, Sep 20', 'Sat, Sep 27',\n",
       "       'Sat, Oct 4', 'Sat, Oct 11', 'Sat, Oct 18', 'Sat, Nov 1',\n",
       "       'Sat, Nov 15', 'Sat, Nov 22', 'Sat, Sep 6', 'Fri, Aug 29',\n",
       "       'Fri, Sep 26', 'Fri, Sep 12', 'Sat, Oct 25', 'Sat, Nov 8',\n",
       "       'Sat, Dec 13', 'Fri, Sep 5', 'Fri, Oct 24', 'Fri, Nov 28',\n",
       "       'Fri, Oct 3', 'Fri, Oct 17', 'Fri, Nov 14', 'Sat, Nov 29',\n",
       "       'Fri, Oct 10', 'Fri, Nov 21', 'Sat, Aug 23', 'Fri, Sep 19',\n",
       "       'Fri, Oct 31', 'Fri, Nov 7'], dtype=object)"
      ]
     },
     "execution_count": 7,
     "metadata": {},
     "output_type": "execute_result"
    }
   ],
   "source": [
    "df['date'].unique()"
   ]
  },
  {
   "cell_type": "code",
   "execution_count": 8,
   "id": "1b8f4f6d",
   "metadata": {},
   "outputs": [
    {
     "data": {
      "text/plain": [
       "date\n",
       "Sat, Sep 6     127\n",
       "Sat, Sep 13    107\n",
       "Sat, Sep 20    105\n",
       "Sat, Aug 30     86\n",
       "Sat, Sep 27     84\n",
       "Sat, Nov 22     27\n",
       "Sat, Nov 15     25\n",
       "Sat, Nov 8      25\n",
       "Sat, Oct 11     24\n",
       "Sat, Oct 4      22\n",
       "Sat, Nov 29     22\n",
       "Fri, Nov 28     20\n",
       "Sat, Nov 1      20\n",
       "Fri, Aug 29     19\n",
       "Sat, Oct 25     14\n",
       "Sat, Oct 18     13\n",
       "Fri, Oct 3      10\n",
       "Sat, Aug 23      9\n",
       "Fri, Oct 17      8\n",
       "Fri, Sep 12      8\n",
       "Fri, Sep 26      6\n",
       "Fri, Sep 5       6\n",
       "Fri, Oct 31      6\n",
       "Fri, Oct 24      6\n",
       "Fri, Oct 10      6\n",
       "Fri, Nov 7       4\n",
       "Fri, Nov 14      4\n",
       "Fri, Nov 21      3\n",
       "Sat, Dec 13      2\n",
       "Fri, Sep 19      2\n",
       "Name: count, dtype: int64"
      ]
     },
     "execution_count": 8,
     "metadata": {},
     "output_type": "execute_result"
    }
   ],
   "source": [
    "df['date'].value_counts()"
   ]
  },
  {
   "cell_type": "code",
   "execution_count": 9,
   "id": "ea5bbca7",
   "metadata": {},
   "outputs": [
    {
     "data": {
      "text/plain": [
       "np.int64(0)"
      ]
     },
     "execution_count": 9,
     "metadata": {},
     "output_type": "execute_result"
    }
   ],
   "source": [
    "df['opponent'].isna().sum()"
   ]
  },
  {
   "cell_type": "code",
   "execution_count": 11,
   "id": "28e99d75",
   "metadata": {},
   "outputs": [
    {
     "data": {
      "text/plain": [
       "opponent\n",
       " Alabama                     5\n",
       " Arizona State               1\n",
       " Auburn                      3\n",
       " Clemson                     3\n",
       " Florida                     1\n",
       " Florida State               3\n",
       " Georgia                     6\n",
       " Georgia                     2\n",
       " Georgia Tech                3\n",
       " Georgia Tech                1\n",
       " Illinois                    3\n",
       " Indiana                     4\n",
       " Iowa State                  3\n",
       " Iowa State                  1\n",
       " Kansas State                1\n",
       " LSU                         4\n",
       " Miami                       3\n",
       " Michigan                    5\n",
       " Missouri                    5\n",
       " Notre Dame                  7\n",
       " Ohio State                  3\n",
       " Oklahoma                    5\n",
       " Oklahoma                    1\n",
       " Ole Miss                    7\n",
       " Oregon                      5\n",
       " Penn State                  3\n",
       " SMU                         1\n",
       " South Carolina              1\n",
       " South Florida               1\n",
       " Tennessee                   4\n",
       " Tennessee                   1\n",
       " Texas                       6\n",
       " Texas                       1\n",
       " Texas A&M                   5\n",
       " Texas Tech                  3\n",
       " USC                         3\n",
       " Utah                        4\n",
       " Vanderbilt                  3\n",
       "Abilene Christian            2\n",
       "Air Force                    9\n",
       "Akron                        5\n",
       "Alabama A&M                  1\n",
       "Alcorn State                 1\n",
       "App State                    2\n",
       "App State                    1\n",
       "Arizona                      3\n",
       "Arizona State                3\n",
       "Arkansas                     4\n",
       "Arkansas State               6\n",
       "Arkansas-Pine Bluff          1\n",
       "Army                         6\n",
       "Army                         1\n",
       "Auburn                       2\n",
       "Austin Peay                  2\n",
       "BYU                          4\n",
       "Ball State                   6\n",
       "Baylor                       4\n",
       "Bethune-Cookman              2\n",
       "Boise State                  6\n",
       "Boston College               3\n",
       "Bowling Green                4\n",
       "Bryant                       2\n",
       "Bucknell                     1\n",
       "Buffalo                      5\n",
       "Cal Poly                     1\n",
       "California                   6\n",
       "Campbell                     1\n",
       "Central Connecticut          1\n",
       "Central Michigan             6\n",
       "Charleston Southern          2\n",
       "Charlotte                    5\n",
       "Charlotte                    1\n",
       "Chattanooga                  1\n",
       "Cincinnati                   2\n",
       "Clemson                      3\n",
       "Coastal Carolina             3\n",
       "Colgate                      1\n",
       "Colorado                     5\n",
       "Colorado State               7\n",
       "Delaware                     8\n",
       "Duke                         4\n",
       "Duquesne                     2\n",
       "East Carolina                2\n",
       "East Tennessee State         1\n",
       "East Texas A&M               2\n",
       "Eastern Illinois             1\n",
       "Eastern Kentucky             2\n",
       "Eastern Michigan             5\n",
       "Eastern Washington           1\n",
       "Florida                      2\n",
       "Florida                      1\n",
       "Florida A&M                  1\n",
       "Florida Atlantic             3\n",
       "Florida International        8\n",
       "Florida State                1\n",
       "Fordham                      1\n",
       "Fresno State                 7\n",
       "Gardner-Webb                 2\n",
       "Georgia Southern             5\n",
       "Georgia State                3\n",
       "Georgia Tech                 2\n",
       "Grambling                    1\n",
       "Hawai'i                     11\n",
       "Holy Cross                   1\n",
       "Houston                      3\n",
       "Houston Christian            1\n",
       "Howard                       1\n",
       "Idaho                        2\n",
       "Idaho State                  2\n",
       "Illinois State               1\n",
       "Incarnate Word               1\n",
       "Indiana State                1\n",
       "Iowa                         4\n",
       "Jackson State                1\n",
       "Jacksonville State           7\n",
       "James Madison                3\n",
       "Kansas                       5\n",
       "Kansas State                 3\n",
       "Kennesaw State               9\n",
       "Kent State                   5\n",
       "Kentucky                     5\n",
       "Lafayette                    1\n",
       "Lamar                        1\n",
       "Liberty                      9\n",
       "Lindenwood                   2\n",
       "Long Island University       2\n",
       "Louisiana                    4\n",
       "Louisiana Tech               9\n",
       "Louisville                   5\n",
       "Maine                        2\n",
       "Marshall                     4\n",
       "Maryland                     3\n",
       "Massachusetts                4\n",
       "McNeese                      2\n",
       "Memphis                      5\n",
       "Mercer                       1\n",
       "Merrimack                    2\n",
       "Miami (OH)                   3\n",
       "Michigan State               4\n",
       "Middle Tennessee             8\n",
       "Minnesota                    4\n",
       "Mississippi State            6\n",
       "Missouri                     1\n",
       "Missouri State               8\n",
       "Monmouth                     1\n",
       "Montana State                1\n",
       "Morgan State                 2\n",
       "Murray State                 2\n",
       "NC State                     5\n",
       "Navy                         7\n",
       "Navy                         1\n",
       "Nebraska                     4\n",
       "Nevada                      10\n",
       "New Hampshire                1\n",
       "New Mexico                   8\n",
       "New Mexico State             8\n",
       "Nicholls                     2\n",
       "Norfolk State                1\n",
       "North Alabama                1\n",
       "North Carolina               4\n",
       "North Carolina A&T           1\n",
       "North Carolina Central       1\n",
       "North Dakota                 1\n",
       "North Texas                  6\n",
       "Northern Arizona             1\n",
       "Northern Colorado            1\n",
       "Northern Illinois            4\n",
       "Northern Iowa                1\n",
       "Northwestern                 3\n",
       "Northwestern State           2\n",
       "Ohio                         5\n",
       "Oklahoma State               2\n",
       "Old Dominion                 3\n",
       "Oregon State                10\n",
       "Pittsburgh                   3\n",
       "Portland State               2\n",
       "Prairie View A&M             1\n",
       "Purdue                       4\n",
       "Rhode Island                 1\n",
       "Rice                         4\n",
       "Richmond                     1\n",
       "Robert Morris                1\n",
       "Rutgers                      4\n",
       "SE Louisiana                 2\n",
       "SMU                          2\n",
       "Sacramento State             1\n",
       "Saint Francis                1\n",
       "Sam Houston                  9\n",
       "Samford                      2\n",
       "San Diego State              9\n",
       "San José State               8\n",
       "South Alabama                4\n",
       "South Carolina               3\n",
       "South Carolina State         2\n",
       "South Dakota                 1\n",
       "South Florida                4\n",
       "Southeast Missouri State     1\n",
       "Southern                     1\n",
       "Southern Illinois            1\n",
       "Southern Miss                4\n",
       "Stanford                     6\n",
       "Syracuse                     5\n",
       "Syracuse                     1\n",
       "TCU                          2\n",
       "Tarleton State               1\n",
       "Temple                       4\n",
       "Tennessee Tech               1\n",
       "Texas Southern               1\n",
       "Texas State                  4\n",
       "The Citadel                  1\n",
       "Toledo                       5\n",
       "Towson                       1\n",
       "Troy                         3\n",
       "Tulane                       5\n",
       "Tulsa                        3\n",
       "UAB                          4\n",
       "UAlbany                      1\n",
       "UC Davis                     1\n",
       "UCF                          2\n",
       "UCLA                         4\n",
       "UConn                        8\n",
       "UL Monroe                    3\n",
       "UNLV                         9\n",
       "USC                          3\n",
       "UT Martin                    2\n",
       "UTEP                         8\n",
       "UTSA                         3\n",
       "Utah                         1\n",
       "Utah State                  11\n",
       "VMI                          1\n",
       "Vanderbilt                   2\n",
       "Villanova                    1\n",
       "Virginia                     4\n",
       "Virginia Tech                3\n",
       "Wagner                       2\n",
       "Wake Forest                  3\n",
       "Washington                   3\n",
       "Washington State            10\n",
       "Weber State                  2\n",
       "West Virginia                5\n",
       "Western Carolina             2\n",
       "Western Illinois             2\n",
       "Western Kentucky             8\n",
       "Western Michigan             6\n",
       "William & Mary               1\n",
       "Wisconsin                    3\n",
       "Wofford                      1\n",
       "Wyoming                      9\n",
       "Youngstown State             1\n",
       "Name: count, dtype: int64"
      ]
     },
     "execution_count": 11,
     "metadata": {},
     "output_type": "execute_result"
    }
   ],
   "source": [
    "df['opponent'].value_counts().sort_index()"
   ]
  },
  {
   "cell_type": "code",
   "execution_count": 13,
   "id": "f18b166f",
   "metadata": {},
   "outputs": [
    {
     "data": {
      "text/plain": [
       "[' Alabama',\n",
       " ' Arizona State',\n",
       " ' Auburn',\n",
       " ' Clemson',\n",
       " ' Florida',\n",
       " ' Florida State',\n",
       " ' Georgia',\n",
       " ' Georgia ',\n",
       " ' Georgia Tech',\n",
       " ' Georgia Tech ',\n",
       " ' Illinois',\n",
       " ' Indiana',\n",
       " ' Iowa State',\n",
       " ' Iowa State ',\n",
       " ' Kansas State ',\n",
       " ' LSU',\n",
       " ' Miami',\n",
       " ' Michigan',\n",
       " ' Missouri',\n",
       " ' Notre Dame',\n",
       " ' Ohio State',\n",
       " ' Oklahoma',\n",
       " ' Oklahoma ',\n",
       " ' Ole Miss',\n",
       " ' Oregon',\n",
       " ' Penn State',\n",
       " ' SMU',\n",
       " ' South Carolina',\n",
       " ' South Florida',\n",
       " ' Tennessee',\n",
       " ' Tennessee ',\n",
       " ' Texas',\n",
       " ' Texas ',\n",
       " ' Texas A&M',\n",
       " ' Texas Tech',\n",
       " ' USC',\n",
       " ' Utah',\n",
       " ' Vanderbilt',\n",
       " 'Abilene Christian',\n",
       " 'Air Force',\n",
       " 'Akron',\n",
       " 'Alabama A&M',\n",
       " 'Alcorn State',\n",
       " 'App State',\n",
       " 'App State ',\n",
       " 'Arizona',\n",
       " 'Arizona State',\n",
       " 'Arkansas',\n",
       " 'Arkansas State',\n",
       " 'Arkansas-Pine Bluff',\n",
       " 'Army',\n",
       " 'Army ',\n",
       " 'Auburn',\n",
       " 'Austin Peay',\n",
       " 'BYU',\n",
       " 'Ball State',\n",
       " 'Baylor',\n",
       " 'Bethune-Cookman',\n",
       " 'Boise State',\n",
       " 'Boston College',\n",
       " 'Bowling Green',\n",
       " 'Bryant',\n",
       " 'Bucknell',\n",
       " 'Buffalo',\n",
       " 'Cal Poly',\n",
       " 'California',\n",
       " 'Campbell',\n",
       " 'Central Connecticut',\n",
       " 'Central Michigan',\n",
       " 'Charleston Southern',\n",
       " 'Charlotte',\n",
       " 'Charlotte ',\n",
       " 'Chattanooga',\n",
       " 'Cincinnati',\n",
       " 'Clemson',\n",
       " 'Coastal Carolina',\n",
       " 'Colgate',\n",
       " 'Colorado',\n",
       " 'Colorado State',\n",
       " 'Delaware',\n",
       " 'Duke',\n",
       " 'Duquesne',\n",
       " 'East Carolina',\n",
       " 'East Tennessee State',\n",
       " 'East Texas A&M',\n",
       " 'Eastern Illinois',\n",
       " 'Eastern Kentucky',\n",
       " 'Eastern Michigan',\n",
       " 'Eastern Washington',\n",
       " 'Florida',\n",
       " 'Florida ',\n",
       " 'Florida A&M',\n",
       " 'Florida Atlantic',\n",
       " 'Florida International',\n",
       " 'Florida State',\n",
       " 'Fordham',\n",
       " 'Fresno State',\n",
       " 'Gardner-Webb',\n",
       " 'Georgia Southern',\n",
       " 'Georgia State',\n",
       " 'Georgia Tech',\n",
       " 'Grambling',\n",
       " \"Hawai'i\",\n",
       " 'Holy Cross',\n",
       " 'Houston',\n",
       " 'Houston Christian',\n",
       " 'Howard',\n",
       " 'Idaho',\n",
       " 'Idaho State',\n",
       " 'Illinois State',\n",
       " 'Incarnate Word',\n",
       " 'Indiana State',\n",
       " 'Iowa',\n",
       " 'Jackson State',\n",
       " 'Jacksonville State',\n",
       " 'James Madison',\n",
       " 'Kansas',\n",
       " 'Kansas State',\n",
       " 'Kennesaw State',\n",
       " 'Kent State',\n",
       " 'Kentucky',\n",
       " 'Lafayette',\n",
       " 'Lamar',\n",
       " 'Liberty',\n",
       " 'Lindenwood',\n",
       " 'Long Island University',\n",
       " 'Louisiana',\n",
       " 'Louisiana Tech',\n",
       " 'Louisville',\n",
       " 'Maine',\n",
       " 'Marshall',\n",
       " 'Maryland',\n",
       " 'Massachusetts',\n",
       " 'McNeese',\n",
       " 'Memphis',\n",
       " 'Mercer',\n",
       " 'Merrimack',\n",
       " 'Miami (OH)',\n",
       " 'Michigan State',\n",
       " 'Middle Tennessee',\n",
       " 'Minnesota',\n",
       " 'Mississippi State',\n",
       " 'Missouri',\n",
       " 'Missouri State',\n",
       " 'Monmouth',\n",
       " 'Montana State',\n",
       " 'Morgan State',\n",
       " 'Murray State',\n",
       " 'NC State',\n",
       " 'Navy',\n",
       " 'Navy ',\n",
       " 'Nebraska',\n",
       " 'Nevada',\n",
       " 'New Hampshire',\n",
       " 'New Mexico',\n",
       " 'New Mexico State',\n",
       " 'Nicholls',\n",
       " 'Norfolk State',\n",
       " 'North Alabama',\n",
       " 'North Carolina',\n",
       " 'North Carolina A&T',\n",
       " 'North Carolina Central',\n",
       " 'North Dakota',\n",
       " 'North Texas',\n",
       " 'Northern Arizona',\n",
       " 'Northern Colorado',\n",
       " 'Northern Illinois',\n",
       " 'Northern Iowa',\n",
       " 'Northwestern',\n",
       " 'Northwestern State',\n",
       " 'Ohio',\n",
       " 'Oklahoma State',\n",
       " 'Old Dominion',\n",
       " 'Oregon State',\n",
       " 'Pittsburgh',\n",
       " 'Portland State',\n",
       " 'Prairie View A&M',\n",
       " 'Purdue',\n",
       " 'Rhode Island',\n",
       " 'Rice',\n",
       " 'Richmond',\n",
       " 'Robert Morris',\n",
       " 'Rutgers',\n",
       " 'SE Louisiana',\n",
       " 'SMU',\n",
       " 'Sacramento State',\n",
       " 'Saint Francis',\n",
       " 'Sam Houston',\n",
       " 'Samford',\n",
       " 'San Diego State',\n",
       " 'San José State',\n",
       " 'South Alabama',\n",
       " 'South Carolina',\n",
       " 'South Carolina State',\n",
       " 'South Dakota',\n",
       " 'South Florida',\n",
       " 'Southeast Missouri State',\n",
       " 'Southern',\n",
       " 'Southern Illinois',\n",
       " 'Southern Miss',\n",
       " 'Stanford',\n",
       " 'Syracuse',\n",
       " 'Syracuse ',\n",
       " 'TCU',\n",
       " 'Tarleton State',\n",
       " 'Temple',\n",
       " 'Tennessee Tech',\n",
       " 'Texas Southern',\n",
       " 'Texas State',\n",
       " 'The Citadel',\n",
       " 'Toledo',\n",
       " 'Towson',\n",
       " 'Troy',\n",
       " 'Tulane',\n",
       " 'Tulsa',\n",
       " 'UAB',\n",
       " 'UAlbany',\n",
       " 'UC Davis',\n",
       " 'UCF',\n",
       " 'UCLA',\n",
       " 'UConn',\n",
       " 'UL Monroe',\n",
       " 'UNLV',\n",
       " 'USC',\n",
       " 'UT Martin',\n",
       " 'UTEP',\n",
       " 'UTSA',\n",
       " 'Utah',\n",
       " 'Utah State',\n",
       " 'VMI',\n",
       " 'Vanderbilt',\n",
       " 'Villanova',\n",
       " 'Virginia',\n",
       " 'Virginia Tech',\n",
       " 'Wagner',\n",
       " 'Wake Forest',\n",
       " 'Washington',\n",
       " 'Washington State',\n",
       " 'Weber State',\n",
       " 'West Virginia',\n",
       " 'Western Carolina',\n",
       " 'Western Illinois',\n",
       " 'Western Kentucky',\n",
       " 'Western Michigan',\n",
       " 'William & Mary',\n",
       " 'Wisconsin',\n",
       " 'Wofford',\n",
       " 'Wyoming',\n",
       " 'Youngstown State']"
      ]
     },
     "execution_count": 13,
     "metadata": {},
     "output_type": "execute_result"
    }
   ],
   "source": [
    "unique_opponent = df['opponent'].unique()\n",
    "unique_opponent = sorted(unique_opponent)\n",
    "unique_opponent"
   ]
  },
  {
   "cell_type": "code",
   "execution_count": 14,
   "id": "c04c0062",
   "metadata": {},
   "outputs": [
    {
     "data": {
      "text/plain": [
       "np.int64(0)"
      ]
     },
     "execution_count": 14,
     "metadata": {},
     "output_type": "execute_result"
    }
   ],
   "source": [
    "df['win_loss'].isna().sum()"
   ]
  },
  {
   "cell_type": "code",
   "execution_count": 15,
   "id": "8e110e4e",
   "metadata": {},
   "outputs": [
    {
     "data": {
      "text/plain": [
       "array(['W', 'L', 'N'], dtype=object)"
      ]
     },
     "execution_count": 15,
     "metadata": {},
     "output_type": "execute_result"
    }
   ],
   "source": [
    "df['win_loss'].unique()"
   ]
  },
  {
   "cell_type": "code",
   "execution_count": 16,
   "id": "6fa87c84",
   "metadata": {},
   "outputs": [
    {
     "data": {
      "text/plain": [
       "win_loss\n",
       "N    458\n",
       "W    225\n",
       "L    137\n",
       "Name: count, dtype: int64"
      ]
     },
     "execution_count": 16,
     "metadata": {},
     "output_type": "execute_result"
    }
   ],
   "source": [
    "df['win_loss'].value_counts()"
   ]
  },
  {
   "cell_type": "code",
   "execution_count": 17,
   "id": "8eb86a01",
   "metadata": {},
   "outputs": [
    {
     "data": {
      "text/plain": [
       "np.int64(458)"
      ]
     },
     "execution_count": 17,
     "metadata": {},
     "output_type": "execute_result"
    }
   ],
   "source": [
    "df['pass'].isna().sum()"
   ]
  },
  {
   "cell_type": "code",
   "execution_count": 18,
   "id": "31778f1d",
   "metadata": {},
   "outputs": [
    {
     "data": {
      "text/plain": [
       "array(['112', nan, '54', '282', '254', '226', '382', '368', '294', '217',\n",
       "       '257', '82', '188', '161', '373', '178', '322', '239', '305',\n",
       "       '345', '125', '222', '129', '52', '108', '251', '142', '87', '71',\n",
       "       '105', '419', '440', '211', '307', '268', '390', '333', '274',\n",
       "       '146', '133', '318', '97', '175', '234', '267', '279', '59', '89',\n",
       "       '36', '140', '253', '230', '196', '207', '163', '102', '172',\n",
       "       '159', '158', '204', '180', '132', '312', '265', '334', '313',\n",
       "       '314', '293', '248', '189', '330', '228', '309', '343', 'Jr.',\n",
       "       '287', '187', '127', '184', '152', '237', '179', '176', '121',\n",
       "       '240', '190', '227', '304', 'IV', '201', '150', '143', '210',\n",
       "       '157', '296', '193', '245', '270', '44', '83', '183', '278', '134',\n",
       "       'III', '280', '223', '273', '88', 'II', '118', '116', '85', '149',\n",
       "       '197', '335', '194', '86', '5', '126', '50', '182', '151', '232',\n",
       "       '220', '100', 'Rio-Wilson', '258', '261', '205', '56', '199',\n",
       "       '213', '340', '155', '231', '235', '104', '247', '139', '272',\n",
       "       '173', '147', '359', '275', '174', '66', '168', '94', '218', '364',\n",
       "       '144', '208', '252', '283', '119', '329', '224', '101', '91',\n",
       "       '135', '306', '347', '392', '67', '96', '276', '341', '353', '266',\n",
       "       '244', '371', '281', '200', '209', '215', '303', '311', '170',\n",
       "       '45', '259', '308', '260', '295', '166', '128', '148', '263',\n",
       "       '214', '109', '186', '416', '337', '75', '288', '289', '360',\n",
       "       '114', '286', '464', '65', '136', '255', '346', '28', '195', '249',\n",
       "       '203', '412', '233', '169', '206', '192', '219', '243', '177',\n",
       "       '264', '164', '401', '78', '117', '167'], dtype=object)"
      ]
     },
     "execution_count": 18,
     "metadata": {},
     "output_type": "execute_result"
    }
   ],
   "source": [
    "df['pass'].unique()"
   ]
  },
  {
   "cell_type": "code",
   "execution_count": 21,
   "id": "5546b409",
   "metadata": {},
   "outputs": [
    {
     "data": {
      "text/plain": [
       "pass\n",
       "178           5\n",
       "217           4\n",
       "222           4\n",
       "257           4\n",
       "142           4\n",
       "279           4\n",
       "227           4\n",
       "270           4\n",
       "155           4\n",
       "251           3\n",
       "282           3\n",
       "305           3\n",
       "274           3\n",
       "Jr.           3\n",
       "176           3\n",
       "189           3\n",
       "152           3\n",
       "240           3\n",
       "184           3\n",
       "304           3\n",
       "211           3\n",
       "97            3\n",
       "IV            3\n",
       "196           3\n",
       "382           3\n",
       "193           3\n",
       "108           3\n",
       "52            3\n",
       "134           3\n",
       "235           3\n",
       "209           3\n",
       "295           3\n",
       "170           3\n",
       "218           3\n",
       "247           3\n",
       "174           3\n",
       "245           3\n",
       "223           3\n",
       "88            3\n",
       "293           2\n",
       "248           2\n",
       "125           2\n",
       "133           2\n",
       "318           2\n",
       "121           2\n",
       "230           2\n",
       "287           2\n",
       "309           2\n",
       "265           2\n",
       "334           2\n",
       "179           2\n",
       "333           2\n",
       "172           2\n",
       "254           2\n",
       "112           2\n",
       "294           2\n",
       "373           2\n",
       "75            2\n",
       "266           2\n",
       "341           2\n",
       "83            2\n",
       "278           2\n",
       "50            2\n",
       "126           2\n",
       "197           2\n",
       "205           2\n",
       "231           2\n",
       "258           2\n",
       "139           2\n",
       "208           2\n",
       "224           2\n",
       "283           2\n",
       "275           2\n",
       "94            2\n",
       "213           2\n",
       "199           2\n",
       "220           2\n",
       "III           2\n",
       "267           2\n",
       "237           2\n",
       "201           2\n",
       "91            2\n",
       "144           2\n",
       "101           2\n",
       "259           2\n",
       "281           2\n",
       "214           2\n",
       "260           2\n",
       "192           2\n",
       "87            2\n",
       "161           2\n",
       "188           2\n",
       "371           2\n",
       "210           1\n",
       "150           1\n",
       "143           1\n",
       "127           1\n",
       "330           1\n",
       "343           1\n",
       "187           1\n",
       "313           1\n",
       "314           1\n",
       "312           1\n",
       "190           1\n",
       "228           1\n",
       "268           1\n",
       "307           1\n",
       "419           1\n",
       "234           1\n",
       "175           1\n",
       "146           1\n",
       "105           1\n",
       "36            1\n",
       "89            1\n",
       "253           1\n",
       "59            1\n",
       "140           1\n",
       "207           1\n",
       "163           1\n",
       "102           1\n",
       "159           1\n",
       "158           1\n",
       "204           1\n",
       "180           1\n",
       "440           1\n",
       "390           1\n",
       "226           1\n",
       "322           1\n",
       "345           1\n",
       "239           1\n",
       "129           1\n",
       "54            1\n",
       "82            1\n",
       "368           1\n",
       "71            1\n",
       "132           1\n",
       "100           1\n",
       "232           1\n",
       "273           1\n",
       "II            1\n",
       "157           1\n",
       "173           1\n",
       "151           1\n",
       "182           1\n",
       "5             1\n",
       "335           1\n",
       "194           1\n",
       "86            1\n",
       "116           1\n",
       "85            1\n",
       "118           1\n",
       "149           1\n",
       "183           1\n",
       "280           1\n",
       "296           1\n",
       "44            1\n",
       "329           1\n",
       "119           1\n",
       "364           1\n",
       "252           1\n",
       "147           1\n",
       "359           1\n",
       "168           1\n",
       "66            1\n",
       "340           1\n",
       "56            1\n",
       "Rio-Wilson    1\n",
       "261           1\n",
       "272           1\n",
       "104           1\n",
       "96            1\n",
       "67            1\n",
       "200           1\n",
       "244           1\n",
       "276           1\n",
       "353           1\n",
       "347           1\n",
       "392           1\n",
       "311           1\n",
       "215           1\n",
       "308           1\n",
       "45            1\n",
       "303           1\n",
       "166           1\n",
       "128           1\n",
       "148           1\n",
       "135           1\n",
       "306           1\n",
       "109           1\n",
       "263           1\n",
       "416           1\n",
       "186           1\n",
       "288           1\n",
       "289           1\n",
       "360           1\n",
       "337           1\n",
       "286           1\n",
       "464           1\n",
       "65            1\n",
       "136           1\n",
       "255           1\n",
       "346           1\n",
       "28            1\n",
       "114           1\n",
       "195           1\n",
       "249           1\n",
       "412           1\n",
       "203           1\n",
       "233           1\n",
       "169           1\n",
       "206           1\n",
       "219           1\n",
       "243           1\n",
       "177           1\n",
       "264           1\n",
       "164           1\n",
       "401           1\n",
       "78            1\n",
       "117           1\n",
       "167           1\n",
       "Name: count, dtype: int64"
      ]
     },
     "execution_count": 21,
     "metadata": {},
     "output_type": "execute_result"
    }
   ],
   "source": [
    "df['pass'].value_counts()"
   ]
  },
  {
   "cell_type": "code",
   "execution_count": 22,
   "id": "8599bb91",
   "metadata": {},
   "outputs": [
    {
     "data": {
      "text/plain": [
       "np.int64(458)"
      ]
     },
     "execution_count": 22,
     "metadata": {},
     "output_type": "execute_result"
    }
   ],
   "source": [
    "df['rush'].isna().sum()"
   ]
  },
  {
   "cell_type": "code",
   "execution_count": 23,
   "id": "813911fd",
   "metadata": {},
   "outputs": [
    {
     "data": {
      "text/plain": [
       "array(['66', '72', nan, '64', '81', '31', '76', '25', '111', '194', '95',\n",
       "       '73', '110', '144', '125', '51', '189', 'Jr.', '151', '115', '42',\n",
       "       '38', '83', '100', '124', '137', '121', '119', '63', '10', '154',\n",
       "       '54', '135', '123', '48', '55', '59', '98', '75', '131', '122',\n",
       "       '102', '18', '49', '40', '16', '112', '80', '27', '92', '68', '47',\n",
       "       '179', '30', '78', '58', '44', '105', '104', '93', '46', '71',\n",
       "       '173', '34', '167', '86', '90', '69', '41', '128', '65', '156',\n",
       "       '103', '45', '60', '132', '89', '101', '109', '56', 'III', '116',\n",
       "       '195', '120', '99', '61', '129', '114', '82', '22', '126', '74',\n",
       "       '24', '67', 'Rio-Wilson', '50', '94', '39', '28', '113', '85',\n",
       "       '159', '143', '250', '180', '193', '140', '33', '141', '17', '52',\n",
       "       '148', 'II', '77', '91', '79', '87', '108', '163', '138', '62',\n",
       "       '136', '12', '43', '37', '35', '88', 'IV', '96', '127', '107',\n",
       "       '57', '20', '21', '157', '186', '142', '147', '36', '117', '150',\n",
       "       '177', '19', '26'], dtype=object)"
      ]
     },
     "execution_count": 23,
     "metadata": {},
     "output_type": "execute_result"
    }
   ],
   "source": [
    "df['rush'].unique()"
   ]
  },
  {
   "cell_type": "code",
   "execution_count": 24,
   "id": "1c46b2dc",
   "metadata": {},
   "outputs": [
    {
     "data": {
      "text/plain": [
       "np.int64(458)"
      ]
     },
     "execution_count": 24,
     "metadata": {},
     "output_type": "execute_result"
    }
   ],
   "source": [
    "df['rec'].isna().sum()"
   ]
  },
  {
   "cell_type": "code",
   "execution_count": 25,
   "id": "ce6749a6",
   "metadata": {},
   "outputs": [
    {
     "data": {
      "text/plain": [
       "array(['83', '63', nan, '28', '99', '146', '67', '165', '134', '142',\n",
       "       '132', '141', '68', '105', '50', '168', '37', '121', '74', '81',\n",
       "       '85', '64', '26', '77', 'Jr.', '42', '33', '151', '138', '90',\n",
       "       '80', 'II', '117', '47', '84', 'Jesus', '60', '61', '56', '122',\n",
       "       '228', '109', '106', '36', '54', '39', '120', '79', '49', '161',\n",
       "       '88', '136', '87', '62', 'III', '27', '66', '173', '43', '82',\n",
       "       '95', '76', '73', '55', '75', '70', '52', '97', '172', '48', '72',\n",
       "       '69', '125', '108', '128', '53', '13', '46', '92', '24', '38',\n",
       "       '78', '103', '19', '5', '59', '94', '58', '41', '89', '93', '91',\n",
       "       '65', '133', '40', '149', '104', '71', '98', '44', '119', '153',\n",
       "       '101', '34', 'Gladding', '86', '51', '158', '116', '45', '189',\n",
       "       '126', '152', '57', '112', 'IV', '21', '114', '207', '32', '155',\n",
       "       '123', '100', '135', '22', '131', '115', '147', '124', '127',\n",
       "       '148', '113', '110', '102'], dtype=object)"
      ]
     },
     "execution_count": 25,
     "metadata": {},
     "output_type": "execute_result"
    }
   ],
   "source": [
    "df['rec'].unique()"
   ]
  },
  {
   "cell_type": "code",
   "execution_count": 26,
   "id": "f6efff77",
   "metadata": {},
   "outputs": [
    {
     "data": {
      "text/plain": [
       "np.int64(458)"
      ]
     },
     "execution_count": 26,
     "metadata": {},
     "output_type": "execute_result"
    }
   ],
   "source": [
    "df['points_allowed'].isna().sum()"
   ]
  },
  {
   "cell_type": "code",
   "execution_count": 27,
   "id": "79afb9ec",
   "metadata": {},
   "outputs": [
    {
     "data": {
      "text/plain": [
       "array([ 13.,  49.,  nan,  68.,  31.,   0.,  14.,  11.,  38.,  19.,  24.,\n",
       "        15.,   6.,   3.,  17.,   7.,  41.,  56.,  30.,  21.,  42.,  29.,\n",
       "       452.,  10.,  34.,  28.,  45.,  63.,  20.,  35.,  16.,  48.,  27.,\n",
       "        36.,  52.,  39.,  18.,   9.,  59.,  12.,  40.,  23.,  62.,  47.,\n",
       "       402.,  73.,  46.,  22.,  37.,  69.,  26.,  33.,  44.,  43.])"
      ]
     },
     "execution_count": 27,
     "metadata": {},
     "output_type": "execute_result"
    }
   ],
   "source": [
    "df['points_allowed'].unique()"
   ]
  },
  {
   "cell_type": "code",
   "execution_count": 28,
   "id": "463b4f18",
   "metadata": {},
   "outputs": [
    {
     "data": {
      "text/plain": [
       "np.int64(458)"
      ]
     },
     "execution_count": 28,
     "metadata": {},
     "output_type": "execute_result"
    }
   ],
   "source": [
    "df['points_scored'].isna().sum()"
   ]
  },
  {
   "cell_type": "code",
   "execution_count": 29,
   "id": "7933928b",
   "metadata": {},
   "outputs": [
    {
     "data": {
      "text/plain": [
       "array([ 49.,  30.,  nan,   0.,  28.,  17.,  73.,  38.,  34.,  20.,  22.,\n",
       "        40.,  48.,  23.,  52.,  56.,  35.,  42.,  14.,  16., 272.,  24.,\n",
       "        31.,   3.,  51.,  66., 402.,  45.,  69.,  27.,  11.,  70.,  10.,\n",
       "        21.,   7.,  13.,  44.,  19.,  55.,  77.,  36.,  41.,  37.,  59.,\n",
       "         6.,  47.,  46.,   9.,  12.,  39.,  26.,  63.,  68.,  32.,  33.,\n",
       "        54.,  15.,  61.,  60., 452.,  18.,  72.,  43.,  67.,  62.])"
      ]
     },
     "execution_count": 29,
     "metadata": {},
     "output_type": "execute_result"
    }
   ],
   "source": [
    "df['points_scored'].unique()"
   ]
  },
  {
   "cell_type": "code",
   "execution_count": 30,
   "id": "5992bb6e",
   "metadata": {},
   "outputs": [
    {
     "data": {
      "text/plain": [
       "np.int64(458)"
      ]
     },
     "execution_count": 30,
     "metadata": {},
     "output_type": "execute_result"
    }
   ],
   "source": [
    "df['point_differential'].isna().sum()"
   ]
  },
  {
   "cell_type": "code",
   "execution_count": 31,
   "id": "4ae6bc5f",
   "metadata": {},
   "outputs": [
    {
     "data": {
      "text/plain": [
       "array([  36.,  -19.,   nan,  -68.,   -3.,  -14.,   73.,   24.,   23.,\n",
       "          7.,  -16.,   19.,   -4.,   34.,   45.,    6.,   42.,   -6.,\n",
       "         18.,  -42.,   -8.,  242.,    3.,   14.,   39.,   16.,  -31.,\n",
       "        -39.,    5., -404.,   35.,   37.,   56.,  360.,  -10.,   10.,\n",
       "         69.,   32.,   13.,    2.,  -28.,  -60.,  -23.,  -17.,   70.,\n",
       "         -7.,   11.,  -41.,  -38.,    4.,  -24.,  -26.,   53.,   38.,\n",
       "        -25.,   -5.,  -32.,   55.,   -2.,   33.,  -34.,   74.,   28.,\n",
       "          9.,   49.,   22.,  -56.,  -22.,   47.,   17.,   20.,   26.,\n",
       "         27.,   40.,   48.,    8.,  -11.,   -1.,  -47.,  -48.,   25.,\n",
       "         21.,   31.,  -40., -360.,   60.,  -20.,    1.,   66.,  -13.,\n",
       "         63.,  -18.,   68.,   52.,  -35.,   51.,  -66.,   46.,   -9.,\n",
       "         50.,   29.,  404.,  -37.,  -21.,   61.,  -33.,  -73.,   12.,\n",
       "         54.,  -12.,   41.,  -49.])"
      ]
     },
     "execution_count": 31,
     "metadata": {},
     "output_type": "execute_result"
    }
   ],
   "source": [
    "df['point_differential'].unique()"
   ]
  },
  {
   "cell_type": "code",
   "execution_count": 33,
   "id": "bc85a428",
   "metadata": {},
   "outputs": [
    {
     "data": {
      "text/plain": [
       "point_differential\n",
       "-404.0     1\n",
       "-360.0     1\n",
       "-73.0      1\n",
       "-68.0      1\n",
       "-66.0      1\n",
       "-60.0      2\n",
       "-56.0      1\n",
       "-49.0      1\n",
       "-48.0      1\n",
       "-47.0      1\n",
       "-42.0      2\n",
       "-41.0      1\n",
       "-40.0      1\n",
       "-39.0      3\n",
       "-38.0      3\n",
       "-37.0      1\n",
       "-35.0      2\n",
       "-34.0      2\n",
       "-33.0      1\n",
       "-32.0      3\n",
       "-31.0      3\n",
       "-28.0      4\n",
       "-26.0      2\n",
       "-25.0      4\n",
       "-24.0      7\n",
       "-23.0      2\n",
       "-22.0      2\n",
       "-21.0      1\n",
       "-20.0      3\n",
       "-19.0      6\n",
       "-18.0      2\n",
       "-17.0      9\n",
       "-16.0      5\n",
       "-14.0      5\n",
       "-13.0      2\n",
       "-12.0      1\n",
       "-11.0      4\n",
       "-10.0      5\n",
       "-9.0       1\n",
       "-8.0       2\n",
       "-7.0      12\n",
       "-6.0       2\n",
       "-5.0       1\n",
       "-4.0       2\n",
       "-3.0      10\n",
       "-2.0       4\n",
       "-1.0       5\n",
       " 1.0       5\n",
       " 2.0       5\n",
       " 3.0      13\n",
       " 4.0       3\n",
       " 5.0       1\n",
       " 6.0       2\n",
       " 7.0      15\n",
       " 8.0       2\n",
       " 9.0       1\n",
       " 10.0      6\n",
       " 11.0      4\n",
       " 12.0      1\n",
       " 13.0      3\n",
       " 14.0      6\n",
       " 16.0      7\n",
       " 17.0     12\n",
       " 18.0      5\n",
       " 19.0      7\n",
       " 20.0      3\n",
       " 21.0      4\n",
       " 22.0      3\n",
       " 23.0      2\n",
       " 24.0     10\n",
       " 25.0      5\n",
       " 26.0      2\n",
       " 27.0      2\n",
       " 28.0      7\n",
       " 29.0      1\n",
       " 31.0      4\n",
       " 32.0      7\n",
       " 33.0      2\n",
       " 34.0      3\n",
       " 35.0      7\n",
       " 36.0      1\n",
       " 37.0      2\n",
       " 38.0      3\n",
       " 39.0      6\n",
       " 40.0      1\n",
       " 41.0      1\n",
       " 42.0      7\n",
       " 45.0      3\n",
       " 46.0      3\n",
       " 47.0      2\n",
       " 48.0      4\n",
       " 49.0      4\n",
       " 50.0      1\n",
       " 51.0      1\n",
       " 52.0      2\n",
       " 53.0      1\n",
       " 54.0      1\n",
       " 55.0      2\n",
       " 56.0      2\n",
       " 60.0      5\n",
       " 61.0      1\n",
       " 63.0      1\n",
       " 66.0      2\n",
       " 68.0      1\n",
       " 69.0      1\n",
       " 70.0      2\n",
       " 73.0      2\n",
       " 74.0      1\n",
       " 242.0     1\n",
       " 360.0     1\n",
       " 404.0     1\n",
       "Name: count, dtype: int64"
      ]
     },
     "execution_count": 33,
     "metadata": {},
     "output_type": "execute_result"
    }
   ],
   "source": [
    "df['point_differential'].value_counts().sort_index()"
   ]
  },
  {
   "cell_type": "code",
   "execution_count": 34,
   "id": "a170acba",
   "metadata": {},
   "outputs": [
    {
     "data": {
      "text/plain": [
       "np.int64(0)"
      ]
     },
     "execution_count": 34,
     "metadata": {},
     "output_type": "execute_result"
    }
   ],
   "source": [
    "df['home_game'].isna().sum()"
   ]
  },
  {
   "cell_type": "code",
   "execution_count": 35,
   "id": "94c5d1e2",
   "metadata": {},
   "outputs": [
    {
     "data": {
      "text/plain": [
       "array([ True, False])"
      ]
     },
     "execution_count": 35,
     "metadata": {},
     "output_type": "execute_result"
    }
   ],
   "source": [
    "df['home_game'].unique()"
   ]
  },
  {
   "cell_type": "code",
   "execution_count": 36,
   "id": "cbc1d012",
   "metadata": {},
   "outputs": [
    {
     "data": {
      "text/plain": [
       "home_game\n",
       "True     475\n",
       "False    345\n",
       "Name: count, dtype: int64"
      ]
     },
     "execution_count": 36,
     "metadata": {},
     "output_type": "execute_result"
    }
   ],
   "source": [
    "df['home_game'].value_counts()"
   ]
  },
  {
   "cell_type": "code",
   "execution_count": 37,
   "id": "c08aa4e9",
   "metadata": {},
   "outputs": [
    {
     "data": {
      "text/plain": [
       "np.int64(0)"
      ]
     },
     "execution_count": 37,
     "metadata": {},
     "output_type": "execute_result"
    }
   ],
   "source": [
    "df['season'].isna().sum()"
   ]
  },
  {
   "cell_type": "code",
   "execution_count": 38,
   "id": "0c5cd628",
   "metadata": {},
   "outputs": [
    {
     "data": {
      "text/plain": [
       "array([2025])"
      ]
     },
     "execution_count": 38,
     "metadata": {},
     "output_type": "execute_result"
    }
   ],
   "source": [
    "df['season'].unique()"
   ]
  },
  {
   "cell_type": "code",
   "execution_count": 39,
   "id": "e190bfbe",
   "metadata": {},
   "outputs": [
    {
     "data": {
      "text/plain": [
       "np.int64(0)"
      ]
     },
     "execution_count": 39,
     "metadata": {},
     "output_type": "execute_result"
    }
   ],
   "source": [
    "df['CONF'].isna().sum()"
   ]
  },
  {
   "cell_type": "code",
   "execution_count": 40,
   "id": "fc7690de",
   "metadata": {},
   "outputs": [
    {
     "data": {
      "text/plain": [
       "array(['Mountain West', 'MAC', 'SEC', 'Sun Belt', 'Big 12', 'American',\n",
       "       'ACC', 'CUSA', 'Big Ten', 'FBS Indep.', 'Pac-12'], dtype=object)"
      ]
     },
     "execution_count": 40,
     "metadata": {},
     "output_type": "execute_result"
    }
   ],
   "source": [
    "df['CONF'].unique()"
   ]
  },
  {
   "cell_type": "code",
   "execution_count": 41,
   "id": "738370ed",
   "metadata": {},
   "outputs": [
    {
     "data": {
      "text/plain": [
       "np.int64(0)"
      ]
     },
     "execution_count": 41,
     "metadata": {},
     "output_type": "execute_result"
    }
   ],
   "source": [
    "df['SOR'].isna().sum()"
   ]
  },
  {
   "cell_type": "code",
   "execution_count": 42,
   "id": "feced063",
   "metadata": {},
   "outputs": [
    {
     "data": {
      "text/plain": [
       "array([110, 126,  38,  95,  57,  24,  59, 100,  69,  12, 105,  31,  86,\n",
       "       119,  67,  84,  32,  22,  74, 125,  60,  82, 115,  99,  96,  65,\n",
       "        98,  79, 122, 111,  58,   3,  49,   2,  81, 109,  10,  56,  23,\n",
       "        19,  25,  89,  11, 104,  88,  48, 118, 113, 120,  41, 121, 116,\n",
       "        66,  34,   4, 117,  36,  30,   7,  26,  53, 108,  78,  16,  71,\n",
       "        15,  45,  13,  18, 114,  43,  94,  73,  39,  93, 102,  61,   5,\n",
       "         8,  77,  33,   6,  20,  40,  87,  63,  64,  29, 112,  72, 107,\n",
       "        51,  14,  75,  90,  54,  28,  80,  37,   1,  47,  46,  52,  68,\n",
       "       106,  17, 123,  92,  44, 124,  97,  35,  21,  55,  27, 103, 101,\n",
       "         9,  83,  91,  42,  76,  62,  85,  50,  70])"
      ]
     },
     "execution_count": 42,
     "metadata": {},
     "output_type": "execute_result"
    }
   ],
   "source": [
    "df['SOR'].unique()"
   ]
  },
  {
   "cell_type": "code",
   "execution_count": 43,
   "id": "3aab93fd",
   "metadata": {},
   "outputs": [
    {
     "data": {
      "text/plain": [
       "np.int64(0)"
      ]
     },
     "execution_count": 43,
     "metadata": {},
     "output_type": "execute_result"
    }
   ],
   "source": [
    "df['FPI'].isna().sum()"
   ]
  },
  {
   "cell_type": "code",
   "execution_count": 44,
   "id": "94fdf2e7",
   "metadata": {},
   "outputs": [
    {
     "data": {
      "text/plain": [
       "array([113, 134,   3, 102,  32,  38,  24, 106,  81,  20, 131,  39,  61,\n",
       "        62,  88, 111,  22,  59, 129, 132,  46,  30, 127,  58,  92, 117,\n",
       "        63,  52, 123, 103,  28,  96,  27,  75,   4,  97, 119,  33, 110,\n",
       "        48,  23,  16,  40,  34,  87,  77,  31,  50, 125, 135,  41, 100,\n",
       "       109,  86,  43,  19, 104,  60, 136,  36,  90,  11,  69,  10, 130,\n",
       "        55,  42, 121,  12,  68,  53,  17, 122,  85, 133,  83,  67,  95,\n",
       "        76,  14,  72,   2,  13,  89,  56,   8,   1, 101,   7,  57,  79,\n",
       "       114,  44, 124, 118, 112,  35,  80,  37,  54,  94,  74,  70,  25,\n",
       "        99,   9,  15,   6,  71,  26,  66,  91,  47, 126, 120,  49,  93,\n",
       "        84, 128,  65,   5,  82,  18, 107,  78,  21,  51,  73,  98,  29,\n",
       "       115,  64, 105, 116,  45, 108])"
      ]
     },
     "execution_count": 44,
     "metadata": {},
     "output_type": "execute_result"
    }
   ],
   "source": [
    "df['FPI'].unique()"
   ]
  },
  {
   "cell_type": "code",
   "execution_count": 45,
   "id": "50136651",
   "metadata": {},
   "outputs": [
    {
     "data": {
      "text/plain": [
       "np.int64(0)"
      ]
     },
     "execution_count": 45,
     "metadata": {},
     "output_type": "execute_result"
    }
   ],
   "source": [
    "df['AP/CFP'].isna().sum()"
   ]
  },
  {
   "cell_type": "code",
   "execution_count": 46,
   "id": "34c61378",
   "metadata": {},
   "outputs": [
    {
     "data": {
      "text/plain": [
       "array(['--', '14', '22', '7', '5', '18', '9', '19', '12', '3', '4', '21',\n",
       "       '23', '24', '1', '11', '13', '6', '2', '15', '10', '8', '17', '25',\n",
       "       '16', '20'], dtype=object)"
      ]
     },
     "execution_count": 46,
     "metadata": {},
     "output_type": "execute_result"
    }
   ],
   "source": [
    "df['AP/CFP'].unique()"
   ]
  },
  {
   "cell_type": "code",
   "execution_count": 47,
   "id": "8d0bbfb9",
   "metadata": {},
   "outputs": [
    {
     "data": {
      "text/plain": [
       "np.int64(0)"
      ]
     },
     "execution_count": 47,
     "metadata": {},
     "output_type": "execute_result"
    }
   ],
   "source": [
    "df['SOS'].isna().sum()"
   ]
  },
  {
   "cell_type": "code",
   "execution_count": 48,
   "id": "3fa9a26e",
   "metadata": {},
   "outputs": [
    {
     "data": {
      "text/plain": [
       "array([116,  45,  50, 127,  68, 114,  27,  29,  66,  72,  39,  40,  69,\n",
       "        79,  85,  95, 120, 112,  13, 126,  57,  24,  75,  61,  46,  87,\n",
       "        47,  96,  63,  88,  34,  20,   9,  74,  26,   8,  11,  65,  71,\n",
       "       113, 101, 117,  80,  82,  78,  64,  33,  58,  42,  56,  48, 111,\n",
       "        41,  53, 125,  36,  17, 130,  76, 122,  12,  55, 118,  30,  77,\n",
       "        93,  91,   7,  92, 135,  84, 100,  18,  22, 124,  86, 133,  83,\n",
       "        10,   1,   3,  49,  59,   2,  23,  43,  99,  37, 134, 105,  54,\n",
       "       109, 121, 102, 132,   5,  97,  31,  67,   6, 103,  44,  38, 108,\n",
       "        70,  28,  19,  14,  60, 136,  81,  51,  90, 123, 110, 131,  52,\n",
       "       104,   4, 129, 107,  35, 119,  16,  32,  62,  94,  25, 115, 128,\n",
       "        98,  89, 106,  21,  15,  73])"
      ]
     },
     "execution_count": 48,
     "metadata": {},
     "output_type": "execute_result"
    }
   ],
   "source": [
    "df['SOS'].unique()"
   ]
  },
  {
   "cell_type": "code",
   "execution_count": 49,
   "id": "b8bd4e90",
   "metadata": {},
   "outputs": [
    {
     "data": {
      "text/plain": [
       "np.int64(0)"
      ]
     },
     "execution_count": 49,
     "metadata": {},
     "output_type": "execute_result"
    }
   ],
   "source": [
    "df['GC'].isna().sum()"
   ]
  },
  {
   "cell_type": "code",
   "execution_count": 50,
   "id": "7d6fa2d3",
   "metadata": {},
   "outputs": [
    {
     "data": {
      "text/plain": [
       "array([114, 129,  33, 121,  44,  15,  34,  88,  72,   7, 124,  76,  54,\n",
       "        74,  80, 119,  10,  42, 117, 136,  37,  79, 127,  78, 113, 115,\n",
       "       105,  77, 133, 123,  46,  51,   3,  85,  20,  93,  89,  43,  87,\n",
       "        39,  19,  13,  55,  49,  92,  38,  18,  96,  95, 109,  30, 132,\n",
       "       118,  56,  48,  28,  66,  21, 130,  36, 103,   5,  47,  35, 134,\n",
       "        61,  26, 116,  27,  82,  65,  17, 110,  71, 128,  73,  83, 102,\n",
       "        86,  40,  67,   6,   4,  57,  31,  16,   1, 126,  11,  45,  58,\n",
       "       101,  25, 135, 122, 111,  53,  98,  69,  60,  81,  99,  97,  14,\n",
       "        91,   9,  24,  32,  68,   2,  52, 106,  12, 125, 120,  59, 131,\n",
       "        75,  63,  62,   8,  50,  22,  94,  70,  29,  41, 112,  84,  23,\n",
       "       104,  90, 107, 108,  64, 100])"
      ]
     },
     "execution_count": 50,
     "metadata": {},
     "output_type": "execute_result"
    }
   ],
   "source": [
    "df['GC'].unique()"
   ]
  },
  {
   "cell_type": "code",
   "execution_count": 51,
   "id": "7f078473",
   "metadata": {},
   "outputs": [
    {
     "data": {
      "text/plain": [
       "np.int64(0)"
      ]
     },
     "execution_count": 51,
     "metadata": {},
     "output_type": "execute_result"
    }
   ],
   "source": [
    "df['AVGWP'].isna().sum()"
   ]
  },
  {
   "cell_type": "code",
   "execution_count": 52,
   "id": "49c9ef40",
   "metadata": {},
   "outputs": [
    {
     "data": {
      "text/plain": [
       "array([ 87, 129,  48,  72,  50,   9,  47, 103,  97,  17, 126,  92,  71,\n",
       "        78,  68,  88,   2,  25, 131, 122,  37, 100, 120,  85, 124,  91,\n",
       "       114,  63, 135, 106,  62,  66,   6,  75,  39, 118, 108,  49,  67,\n",
       "        28,  20,   5,  46,  43,  95,  53,  33,  94, 105,  99,  36, 123,\n",
       "       113,  65,  27,  52,  77,   8, 119,  29, 136,   7,  24,  55, 134,\n",
       "        45,  23, 127,  21,  34,  64,  15, 102,  93,  86,  57,  40, 107,\n",
       "       111, 104, 117,  12,  13, 101,  59,  35,   4, 130,   3,  31,  58,\n",
       "        60,  14, 133,  80, 128,  38, 109,  69, 115,  54, 116,  96,  16,\n",
       "        73,  18,  44,  56,  89,   1,  51, 110,  19,  84,  83,  26, 132,\n",
       "        61,  98,  30,  11,  70,  22, 112,  90,  41,  32, 121,  42,  10,\n",
       "        82,  74,  76, 125,  79,  81])"
      ]
     },
     "execution_count": 52,
     "metadata": {},
     "output_type": "execute_result"
    }
   ],
   "source": [
    "df['AVGWP'].unique()"
   ]
  }
 ],
 "metadata": {
  "kernelspec": {
   "display_name": "Python 3",
   "language": "python",
   "name": "python3"
  },
  "language_info": {
   "codemirror_mode": {
    "name": "ipython",
    "version": 3
   },
   "file_extension": ".py",
   "mimetype": "text/x-python",
   "name": "python",
   "nbconvert_exporter": "python",
   "pygments_lexer": "ipython3",
   "version": "3.10.12"
  }
 },
 "nbformat": 4,
 "nbformat_minor": 5
}
