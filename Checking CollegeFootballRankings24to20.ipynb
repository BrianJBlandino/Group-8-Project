{
 "cells": [
  {
   "cell_type": "code",
   "execution_count": 12,
   "id": "d3c1594d",
   "metadata": {},
   "outputs": [],
   "source": [
    "import pandas as pd\n",
    "import numpy as np\n",
    "pd.set_option('display.max_rows', None)\n",
    "# pd.reset_option('all')"
   ]
  },
  {
   "cell_type": "code",
   "execution_count": null,
   "id": "01744482",
   "metadata": {},
   "outputs": [],
   "source": [
    "df = pd.read_csv('CollegeFootballRankings24to20.csv')\n",
    "df"
   ]
  },
  {
   "cell_type": "code",
   "execution_count": 33,
   "id": "d8940cf6",
   "metadata": {},
   "outputs": [
    {
     "name": "stdout",
     "output_type": "stream",
     "text": [
      "Team\n",
      "date\n",
      "Team_id\n",
      "opponent\n",
      "win_loss\n",
      "OT\n",
      "OT_num\n",
      "pass\n",
      "rush\n",
      "rec\n",
      "points_allowed\n",
      "points_scored\n",
      "point_differential\n",
      "home_game\n",
      "week\n",
      "season\n",
      "CONF\n",
      "SOR\n",
      "FPI\n",
      "AP/CFP\n",
      "SOS\n",
      "GC\n",
      "AVGWP\n"
     ]
    }
   ],
   "source": [
    "for i in df:\n",
    "    print(i)"
   ]
  },
  {
   "cell_type": "code",
   "execution_count": null,
   "id": "22f0c561",
   "metadata": {},
   "outputs": [],
   "source": [
    "df['Team'].unique()\n",
    "team_unique = df['Team'].unique()\n",
    "team_unique = sorted(team_unique)\n",
    "team_unique"
   ]
  },
  {
   "cell_type": "code",
   "execution_count": null,
   "id": "980c6ae6",
   "metadata": {},
   "outputs": [],
   "source": [
    "df['Team'].value_counts().sort_index()"
   ]
  },
  {
   "cell_type": "code",
   "execution_count": 27,
   "id": "1b766637",
   "metadata": {},
   "outputs": [
    {
     "data": {
      "text/plain": [
       "np.int64(0)"
      ]
     },
     "execution_count": 27,
     "metadata": {},
     "output_type": "execute_result"
    }
   ],
   "source": [
    "df['Team'].isna().sum()"
   ]
  },
  {
   "cell_type": "code",
   "execution_count": 28,
   "id": "96b66856",
   "metadata": {},
   "outputs": [
    {
     "data": {
      "text/plain": [
       "np.int64(0)"
      ]
     },
     "execution_count": 28,
     "metadata": {},
     "output_type": "execute_result"
    }
   ],
   "source": [
    "df['date'].isna().sum()"
   ]
  },
  {
   "cell_type": "code",
   "execution_count": 29,
   "id": "c25f8eae",
   "metadata": {},
   "outputs": [
    {
     "data": {
      "text/plain": [
       "390"
      ]
     },
     "execution_count": 29,
     "metadata": {},
     "output_type": "execute_result"
    }
   ],
   "source": [
    "df['date'].nunique()"
   ]
  },
  {
   "cell_type": "code",
   "execution_count": null,
   "id": "f2bca2df",
   "metadata": {},
   "outputs": [],
   "source": [
    "df['date'].value_counts()\n",
    "date_unique = df['date'].unique()\n",
    "date_unique = sorted(date_unique)\n",
    "date_unique"
   ]
  },
  {
   "cell_type": "code",
   "execution_count": null,
   "id": "f7ce063f",
   "metadata": {},
   "outputs": [],
   "source": [
    "df['date'].value_counts().sort_index()"
   ]
  },
  {
   "cell_type": "code",
   "execution_count": 34,
   "id": "26b3a8e4",
   "metadata": {},
   "outputs": [
    {
     "data": {
      "text/plain": [
       "np.int64(0)"
      ]
     },
     "execution_count": 34,
     "metadata": {},
     "output_type": "execute_result"
    }
   ],
   "source": [
    "df['Team_id'].isna().sum()"
   ]
  },
  {
   "cell_type": "code",
   "execution_count": null,
   "id": "2b1631a8",
   "metadata": {},
   "outputs": [],
   "source": [
    "team_id_unique = df['Team_id'].unique()\n",
    "team_id_unique = sorted(team_id_unique)\n",
    "team_id_unique"
   ]
  },
  {
   "cell_type": "code",
   "execution_count": 36,
   "id": "0596c869",
   "metadata": {},
   "outputs": [
    {
     "data": {
      "text/plain": [
       "Team_id\n",
       "154     132\n",
       "87       75\n",
       "61       75\n",
       "333      75\n",
       "349      74\n",
       "153      73\n",
       "228      73\n",
       "251      73\n",
       "249      72\n",
       "98       72\n",
       "66       72\n",
       "290      71\n",
       "194      71\n",
       "2636     71\n",
       "99       71\n",
       "201      71\n",
       "252      71\n",
       "97       70\n",
       "324      70\n",
       "57       70\n",
       "276      70\n",
       "235      70\n",
       "2655     70\n",
       "2306     70\n",
       "2633     70\n",
       "197      70\n",
       "2426     70\n",
       "142      70\n",
       "344      69\n",
       "213      69\n",
       "2032     69\n",
       "221      69\n",
       "2390     69\n",
       "145      69\n",
       "309      69\n",
       "2116     68\n",
       "2641     68\n",
       "2653     68\n",
       "2132     68\n",
       "8        68\n",
       "96       68\n",
       "150      68\n",
       "2628     68\n",
       "239      68\n",
       "245      68\n",
       "2        68\n",
       "2335     68\n",
       "23       67\n",
       "130      67\n",
       "68       67\n",
       "59       67\n",
       "2294     67\n",
       "326      67\n",
       "2579     67\n",
       "2567     67\n",
       "6        67\n",
       "2483     66\n",
       "275      66\n",
       "52       66\n",
       "277      66\n",
       "135      66\n",
       "238      66\n",
       "103      66\n",
       "278      66\n",
       "2348     66\n",
       "2305     66\n",
       "5        66\n",
       "62       65\n",
       "30       65\n",
       "21       65\n",
       "2638     65\n",
       "2005     65\n",
       "2433     65\n",
       "2247     65\n",
       "164      65\n",
       "2439     65\n",
       "158      65\n",
       "356      65\n",
       "183      65\n",
       "77       65\n",
       "58       65\n",
       "259      64\n",
       "2751     64\n",
       "2226     64\n",
       "248      64\n",
       "328      64\n",
       "2393     64\n",
       "2440     64\n",
       "9        63\n",
       "258      63\n",
       "84       63\n",
       "2509     63\n",
       "26       63\n",
       "120      62\n",
       "127      62\n",
       "204      62\n",
       "202      62\n",
       "151      62\n",
       "38       61\n",
       "265      61\n",
       "2649     61\n",
       "2429     61\n",
       "242      61\n",
       "254      61\n",
       "264      60\n",
       "113      60\n",
       "2084     60\n",
       "167      60\n",
       "218      59\n",
       "193      59\n",
       "195      59\n",
       "2459     59\n",
       "2229     59\n",
       "166      58\n",
       "2199     58\n",
       "12       58\n",
       "25       58\n",
       "2711     57\n",
       "36       57\n",
       "189      57\n",
       "24       57\n",
       "2050     57\n",
       "41       56\n",
       "2006     56\n",
       "2117     56\n",
       "295      55\n",
       "2309     55\n",
       "2572     53\n",
       "256      42\n",
       "55       30\n",
       "2534     27\n",
       "2026     14\n",
       "338      13\n",
       "Name: count, dtype: int64"
      ]
     },
     "execution_count": 36,
     "metadata": {},
     "output_type": "execute_result"
    }
   ],
   "source": [
    "df['Team_id'].value_counts()"
   ]
  },
  {
   "cell_type": "code",
   "execution_count": 37,
   "id": "ee1de6b2",
   "metadata": {},
   "outputs": [
    {
     "data": {
      "text/plain": [
       "np.int64(0)"
      ]
     },
     "execution_count": 37,
     "metadata": {},
     "output_type": "execute_result"
    }
   ],
   "source": [
    "df['opponent'].isna().sum()"
   ]
  },
  {
   "cell_type": "code",
   "execution_count": 38,
   "id": "c992d904",
   "metadata": {},
   "outputs": [
    {
     "data": {
      "text/plain": [
       "opponent\n",
       "Bye                         762\n",
       "Notre Dame                   66\n",
       "Texas                        65\n",
       "Georgia                      64\n",
       "Alabama                      64\n",
       "NC State                     64\n",
       "Michigan                     62\n",
       "Ohio State                   62\n",
       "Clemson                      62\n",
       "Penn State                   62\n",
       "UTSA                         61\n",
       "Louisville                   61\n",
       "Tulane                       61\n",
       "Oklahoma State               60\n",
       "Pittsburgh                   60\n",
       "Oklahoma                     60\n",
       "Western Kentucky             60\n",
       "Iowa State                   60\n",
       "Iowa                         60\n",
       "Florida                      59\n",
       "Ole Miss                     59\n",
       "LSU                          59\n",
       "Missouri                     59\n",
       "Duke                         59\n",
       "Louisiana                    59\n",
       "Syracuse                     58\n",
       "BYU                          58\n",
       "Virginia Tech                58\n",
       "TCU                          58\n",
       "Oregon                       58\n",
       "Boise State                  58\n",
       "SMU                          58\n",
       "Kansas State                 58\n",
       "USC                          58\n",
       "UCF                          58\n",
       "Houston                      58\n",
       "Wisconsin                    57\n",
       "Minnesota                    57\n",
       "Auburn                       57\n",
       "Baylor                       57\n",
       "South Carolina               57\n",
       "Tennessee                    57\n",
       "Memphis                      57\n",
       "Arkansas                     57\n",
       "Kentucky                     57\n",
       "Boston College               57\n",
       "Rutgers                      57\n",
       "Liberty                      57\n",
       "North Carolina               57\n",
       "Toledo                       56\n",
       "Illinois                     56\n",
       "West Virginia                56\n",
       "Texas Tech                   56\n",
       "Vanderbilt                   56\n",
       "Navy                         56\n",
       "Texas State                  56\n",
       "South Alabama                56\n",
       "Army                         56\n",
       "Mississippi State            56\n",
       "Cincinnati                   56\n",
       "San Diego State              55\n",
       "Middle Tennessee             55\n",
       "Coastal Carolina             55\n",
       "Georgia Southern             55\n",
       "Kansas                       55\n",
       "UCLA                         55\n",
       "Fresno State                 55\n",
       "Nevada                       55\n",
       "Hawai'i                      55\n",
       "North Texas                  55\n",
       "Texas A&M                    55\n",
       "Georgia Tech                 55\n",
       "Purdue                       55\n",
       "Florida State                55\n",
       "Troy                         54\n",
       "Washington                   54\n",
       "UAB                          54\n",
       "Oregon State                 54\n",
       "Utah State                   54\n",
       "Miami                        54\n",
       "Utah                         54\n",
       "UNLV                         54\n",
       "Tulsa                        54\n",
       "Georgia State                54\n",
       "Nebraska                     54\n",
       "Northwestern                 54\n",
       "Arkansas State               54\n",
       "San José State               54\n",
       "South Florida                53\n",
       "Indiana                      53\n",
       "Colorado                     53\n",
       "Eastern Michigan             53\n",
       "Michigan State               53\n",
       "Buffalo                      53\n",
       "Miami (OH)                   53\n",
       "Northern Illinois            53\n",
       "Air Force                    53\n",
       "Ball State                   53\n",
       "Western Michigan             52\n",
       "Temple                       52\n",
       "Bowling Green                52\n",
       "Maryland                     52\n",
       "Virginia                     52\n",
       "Arizona State                52\n",
       "Florida Atlantic             52\n",
       "Ohio                         52\n",
       "Wyoming                      52\n",
       "UTEP                         52\n",
       "Stanford                     51\n",
       "Louisiana Tech               51\n",
       "East Carolina                51\n",
       "New Mexico                   51\n",
       "UL Monroe                    51\n",
       "Central Michigan             51\n",
       "Marshall                     51\n",
       "Washington State             51\n",
       "Arizona                      50\n",
       "Wake Forest                  50\n",
       "California                   50\n",
       "Akron                        50\n",
       "Kent State                   50\n",
       "Rice                         50\n",
       "Charlotte                    49\n",
       "Colorado State               49\n",
       "Old Dominion                 48\n",
       "Florida International        48\n",
       "Appalachian State            47\n",
       "New Mexico State             47\n",
       "Massachusetts                46\n",
       "UConn                        44\n",
       "Southern Miss                44\n",
       "James Madison                32\n",
       "Jacksonville State           31\n",
       "Sam Houston                  25\n",
       "Kennesaw State               14\n",
       "App State                    10\n",
       "Eastern Kentucky             10\n",
       "Southern Mississippi          9\n",
       "Wagner                        8\n",
       "Campbell                      8\n",
       "Gardner-Webb                  8\n",
       "Murray State                  8\n",
       "Nicholls                      8\n",
       "Idaho                         8\n",
       "Abilene Christian             8\n",
       "Stephen F. Austin             8\n",
       "Duquesne                      8\n",
       "Long Island University        8\n",
       "Portland State                8\n",
       "Southern Utah                 7\n",
       "Bethune-Cookman               7\n",
       "Norfolk State                 7\n",
       "Austin Peay                   7\n",
       "Idaho State                   7\n",
       "South Carolina State          7\n",
       "Texas Southern                7\n",
       "SE Louisiana                  7\n",
       "Maine                         6\n",
       "The Citadel                   6\n",
       "Chattanooga                   6\n",
       "UT Martin                     6\n",
       "Central Arkansas              6\n",
       "Northwestern State            6\n",
       "St. Francis (PA)              5\n",
       "Indiana State                 5\n",
       "North Alabama                 5\n",
       "Alcorn State                  5\n",
       "Fordham                       5\n",
       "Florida A&M                   5\n",
       "Lamar                         5\n",
       "Western Carolina              5\n",
       "Grambling                     5\n",
       "Mercer                        5\n",
       "Colgate                       5\n",
       "Missouri State                5\n",
       "Northern Iowa                 5\n",
       "Holy Cross                    5\n",
       "Central Connecticut           5\n",
       "Western Illinois              5\n",
       "Sacramento State              5\n",
       "North Carolina A&T            5\n",
       "Eastern Washington            5\n",
       "Howard                        5\n",
       "Tennessee Tech                5\n",
       "Eastern Illinois              5\n",
       "South Dakota                  4\n",
       "UC Davis                      4\n",
       "Bucknell                      4\n",
       "Houston Baptist               4\n",
       "New Hampshire                 4\n",
       "Samford                       4\n",
       "Villanova                     4\n",
       "Arkansas-Pine Bluff           4\n",
       "Weber State                   4\n",
       "Stony Brook                   4\n",
       "Lafayette                     4\n",
       "Southeast Missouri State      4\n",
       "East Tennessee State          4\n",
       "Elon                          4\n",
       "William & Mary                4\n",
       "Cal Poly                      4\n",
       "Youngstown State              4\n",
       "North Dakota                  4\n",
       "Towson                        4\n",
       "Robert Morris                 4\n",
       "VMI                           4\n",
       "Northern Arizona              4\n",
       "Northern Colorado             4\n",
       "Southern Illinois             4\n",
       "Alabama A&M                   4\n",
       "Morgan State                  4\n",
       "Houston Christian             4\n",
       "McNeese                       4\n",
       "Wofford                       4\n",
       "Richmond                      4\n",
       "Charleston Southern           4\n",
       "Rhode Island                  4\n",
       "Delaware State                3\n",
       "Utah Tech                     3\n",
       "Furman                        3\n",
       "Monmouth                      3\n",
       "North Carolina Central        3\n",
       "Tennessee State               3\n",
       "Delaware                      3\n",
       "UAlbany                       3\n",
       "Jackson State                 3\n",
       "Merrimack                     3\n",
       "Montana State                 3\n",
       "South Dakota State            3\n",
       "Bryant                        3\n",
       "Incarnate Word                3\n",
       "Prairie View A&M              3\n",
       "Illinois State                3\n",
       "North Dakota State            2\n",
       "Alabama State                 2\n",
       "Tarleton State                2\n",
       "Southern                      2\n",
       "Albany                        2\n",
       "Valparaiso                    1\n",
       "Tarleton                      1\n",
       "Montana                       1\n",
       "Texas A&M-Commerce            1\n",
       "East Texas A&M                1\n",
       "Yale                          1\n",
       "Sacred Heart                  1\n",
       "Hampton                       1\n",
       "Lindenwood                    1\n",
       "Lehigh                        1\n",
       "Name: count, dtype: int64"
      ]
     },
     "execution_count": 38,
     "metadata": {},
     "output_type": "execute_result"
    }
   ],
   "source": [
    "df['opponent'].value_counts()"
   ]
  },
  {
   "cell_type": "code",
   "execution_count": 40,
   "id": "5f2b37dc",
   "metadata": {},
   "outputs": [
    {
     "data": {
      "text/plain": [
       "['Abilene Christian',\n",
       " 'Air Force',\n",
       " 'Akron',\n",
       " 'Alabama',\n",
       " 'Alabama A&M',\n",
       " 'Alabama State',\n",
       " 'Albany',\n",
       " 'Alcorn State',\n",
       " 'App State',\n",
       " 'Appalachian State',\n",
       " 'Arizona',\n",
       " 'Arizona State',\n",
       " 'Arkansas',\n",
       " 'Arkansas State',\n",
       " 'Arkansas-Pine Bluff',\n",
       " 'Army',\n",
       " 'Auburn',\n",
       " 'Austin Peay',\n",
       " 'BYU',\n",
       " 'Ball State',\n",
       " 'Baylor',\n",
       " 'Bethune-Cookman',\n",
       " 'Boise State',\n",
       " 'Boston College',\n",
       " 'Bowling Green',\n",
       " 'Bryant',\n",
       " 'Bucknell',\n",
       " 'Buffalo',\n",
       " 'Bye',\n",
       " 'Cal Poly',\n",
       " 'California',\n",
       " 'Campbell',\n",
       " 'Central Arkansas',\n",
       " 'Central Connecticut',\n",
       " 'Central Michigan',\n",
       " 'Charleston Southern',\n",
       " 'Charlotte',\n",
       " 'Chattanooga',\n",
       " 'Cincinnati',\n",
       " 'Clemson',\n",
       " 'Coastal Carolina',\n",
       " 'Colgate',\n",
       " 'Colorado',\n",
       " 'Colorado State',\n",
       " 'Delaware',\n",
       " 'Delaware State',\n",
       " 'Duke',\n",
       " 'Duquesne',\n",
       " 'East Carolina',\n",
       " 'East Tennessee State',\n",
       " 'East Texas A&M',\n",
       " 'Eastern Illinois',\n",
       " 'Eastern Kentucky',\n",
       " 'Eastern Michigan',\n",
       " 'Eastern Washington',\n",
       " 'Elon',\n",
       " 'Florida',\n",
       " 'Florida A&M',\n",
       " 'Florida Atlantic',\n",
       " 'Florida International',\n",
       " 'Florida State',\n",
       " 'Fordham',\n",
       " 'Fresno State',\n",
       " 'Furman',\n",
       " 'Gardner-Webb',\n",
       " 'Georgia',\n",
       " 'Georgia Southern',\n",
       " 'Georgia State',\n",
       " 'Georgia Tech',\n",
       " 'Grambling',\n",
       " 'Hampton',\n",
       " \"Hawai'i\",\n",
       " 'Holy Cross',\n",
       " 'Houston',\n",
       " 'Houston Baptist',\n",
       " 'Houston Christian',\n",
       " 'Howard',\n",
       " 'Idaho',\n",
       " 'Idaho State',\n",
       " 'Illinois',\n",
       " 'Illinois State',\n",
       " 'Incarnate Word',\n",
       " 'Indiana',\n",
       " 'Indiana State',\n",
       " 'Iowa',\n",
       " 'Iowa State',\n",
       " 'Jackson State',\n",
       " 'Jacksonville State',\n",
       " 'James Madison',\n",
       " 'Kansas',\n",
       " 'Kansas State',\n",
       " 'Kennesaw State',\n",
       " 'Kent State',\n",
       " 'Kentucky',\n",
       " 'LSU',\n",
       " 'Lafayette',\n",
       " 'Lamar',\n",
       " 'Lehigh',\n",
       " 'Liberty',\n",
       " 'Lindenwood',\n",
       " 'Long Island University',\n",
       " 'Louisiana',\n",
       " 'Louisiana Tech',\n",
       " 'Louisville',\n",
       " 'Maine',\n",
       " 'Marshall',\n",
       " 'Maryland',\n",
       " 'Massachusetts',\n",
       " 'McNeese',\n",
       " 'Memphis',\n",
       " 'Mercer',\n",
       " 'Merrimack',\n",
       " 'Miami',\n",
       " 'Miami (OH)',\n",
       " 'Michigan',\n",
       " 'Michigan State',\n",
       " 'Middle Tennessee',\n",
       " 'Minnesota',\n",
       " 'Mississippi State',\n",
       " 'Missouri',\n",
       " 'Missouri State',\n",
       " 'Monmouth',\n",
       " 'Montana',\n",
       " 'Montana State',\n",
       " 'Morgan State',\n",
       " 'Murray State',\n",
       " 'NC State',\n",
       " 'Navy',\n",
       " 'Nebraska',\n",
       " 'Nevada',\n",
       " 'New Hampshire',\n",
       " 'New Mexico',\n",
       " 'New Mexico State',\n",
       " 'Nicholls',\n",
       " 'Norfolk State',\n",
       " 'North Alabama',\n",
       " 'North Carolina',\n",
       " 'North Carolina A&T',\n",
       " 'North Carolina Central',\n",
       " 'North Dakota',\n",
       " 'North Dakota State',\n",
       " 'North Texas',\n",
       " 'Northern Arizona',\n",
       " 'Northern Colorado',\n",
       " 'Northern Illinois',\n",
       " 'Northern Iowa',\n",
       " 'Northwestern',\n",
       " 'Northwestern State',\n",
       " 'Notre Dame',\n",
       " 'Ohio',\n",
       " 'Ohio State',\n",
       " 'Oklahoma',\n",
       " 'Oklahoma State',\n",
       " 'Old Dominion',\n",
       " 'Ole Miss',\n",
       " 'Oregon',\n",
       " 'Oregon State',\n",
       " 'Penn State',\n",
       " 'Pittsburgh',\n",
       " 'Portland State',\n",
       " 'Prairie View A&M',\n",
       " 'Purdue',\n",
       " 'Rhode Island',\n",
       " 'Rice',\n",
       " 'Richmond',\n",
       " 'Robert Morris',\n",
       " 'Rutgers',\n",
       " 'SE Louisiana',\n",
       " 'SMU',\n",
       " 'Sacramento State',\n",
       " 'Sacred Heart',\n",
       " 'Sam Houston',\n",
       " 'Samford',\n",
       " 'San Diego State',\n",
       " 'San José State',\n",
       " 'South Alabama',\n",
       " 'South Carolina',\n",
       " 'South Carolina State',\n",
       " 'South Dakota',\n",
       " 'South Dakota State',\n",
       " 'South Florida',\n",
       " 'Southeast Missouri State',\n",
       " 'Southern',\n",
       " 'Southern Illinois',\n",
       " 'Southern Miss',\n",
       " 'Southern Mississippi',\n",
       " 'Southern Utah',\n",
       " 'St. Francis (PA)',\n",
       " 'Stanford',\n",
       " 'Stephen F. Austin',\n",
       " 'Stony Brook',\n",
       " 'Syracuse',\n",
       " 'TCU',\n",
       " 'Tarleton',\n",
       " 'Tarleton State',\n",
       " 'Temple',\n",
       " 'Tennessee',\n",
       " 'Tennessee State',\n",
       " 'Tennessee Tech',\n",
       " 'Texas',\n",
       " 'Texas A&M',\n",
       " 'Texas A&M-Commerce',\n",
       " 'Texas Southern',\n",
       " 'Texas State',\n",
       " 'Texas Tech',\n",
       " 'The Citadel',\n",
       " 'Toledo',\n",
       " 'Towson',\n",
       " 'Troy',\n",
       " 'Tulane',\n",
       " 'Tulsa',\n",
       " 'UAB',\n",
       " 'UAlbany',\n",
       " 'UC Davis',\n",
       " 'UCF',\n",
       " 'UCLA',\n",
       " 'UConn',\n",
       " 'UL Monroe',\n",
       " 'UNLV',\n",
       " 'USC',\n",
       " 'UT Martin',\n",
       " 'UTEP',\n",
       " 'UTSA',\n",
       " 'Utah',\n",
       " 'Utah State',\n",
       " 'Utah Tech',\n",
       " 'VMI',\n",
       " 'Valparaiso',\n",
       " 'Vanderbilt',\n",
       " 'Villanova',\n",
       " 'Virginia',\n",
       " 'Virginia Tech',\n",
       " 'Wagner',\n",
       " 'Wake Forest',\n",
       " 'Washington',\n",
       " 'Washington State',\n",
       " 'Weber State',\n",
       " 'West Virginia',\n",
       " 'Western Carolina',\n",
       " 'Western Illinois',\n",
       " 'Western Kentucky',\n",
       " 'Western Michigan',\n",
       " 'William & Mary',\n",
       " 'Wisconsin',\n",
       " 'Wofford',\n",
       " 'Wyoming',\n",
       " 'Yale',\n",
       " 'Youngstown State']"
      ]
     },
     "execution_count": 40,
     "metadata": {},
     "output_type": "execute_result"
    }
   ],
   "source": [
    "opponent_unique = df['opponent'].unique()\n",
    "opponent_unique = sorted(opponent_unique)\n",
    "opponent_unique"
   ]
  },
  {
   "cell_type": "code",
   "execution_count": 41,
   "id": "c96ea7cf",
   "metadata": {},
   "outputs": [
    {
     "name": "stdout",
     "output_type": "stream",
     "text": [
      "Team\n",
      "date\n",
      "Team_id\n",
      "opponent\n",
      "win_loss\n",
      "OT\n",
      "OT_num\n",
      "pass\n",
      "rush\n",
      "rec\n",
      "points_allowed\n",
      "points_scored\n",
      "point_differential\n",
      "home_game\n",
      "week\n",
      "season\n",
      "CONF\n",
      "SOR\n",
      "FPI\n",
      "AP/CFP\n",
      "SOS\n",
      "GC\n",
      "AVGWP\n"
     ]
    }
   ],
   "source": [
    "for i in df:\n",
    "    print(i)"
   ]
  },
  {
   "cell_type": "code",
   "execution_count": 42,
   "id": "aef0bfb1",
   "metadata": {},
   "outputs": [
    {
     "data": {
      "text/plain": [
       "np.int64(0)"
      ]
     },
     "execution_count": 42,
     "metadata": {},
     "output_type": "execute_result"
    }
   ],
   "source": [
    "df['win_loss'].isna().sum()"
   ]
  },
  {
   "cell_type": "code",
   "execution_count": 43,
   "id": "eaac4a27",
   "metadata": {},
   "outputs": [
    {
     "data": {
      "text/plain": [
       "win_loss\n",
       "W      4103\n",
       "L      3683\n",
       "Bye     762\n",
       "Name: count, dtype: int64"
      ]
     },
     "execution_count": 43,
     "metadata": {},
     "output_type": "execute_result"
    }
   ],
   "source": [
    "df['win_loss'].value_counts()"
   ]
  },
  {
   "cell_type": "code",
   "execution_count": 45,
   "id": "517fa7af",
   "metadata": {},
   "outputs": [
    {
     "data": {
      "text/plain": [
       "['Bye', 'L', 'W']"
      ]
     },
     "execution_count": 45,
     "metadata": {},
     "output_type": "execute_result"
    }
   ],
   "source": [
    "win_loss_unique = df['win_loss'].unique()\n",
    "win_loss_unique = sorted(win_loss_unique)\n",
    "win_loss_unique"
   ]
  },
  {
   "cell_type": "code",
   "execution_count": 46,
   "id": "7b257684",
   "metadata": {},
   "outputs": [
    {
     "data": {
      "text/plain": [
       "np.int64(0)"
      ]
     },
     "execution_count": 46,
     "metadata": {},
     "output_type": "execute_result"
    }
   ],
   "source": [
    "df['OT'].isna().sum()"
   ]
  },
  {
   "cell_type": "code",
   "execution_count": 47,
   "id": "3fd36158",
   "metadata": {},
   "outputs": [
    {
     "data": {
      "text/plain": [
       "array([False,  True])"
      ]
     },
     "execution_count": 47,
     "metadata": {},
     "output_type": "execute_result"
    }
   ],
   "source": [
    "df['OT'].unique()"
   ]
  },
  {
   "cell_type": "code",
   "execution_count": 48,
   "id": "52330140",
   "metadata": {},
   "outputs": [
    {
     "data": {
      "text/plain": [
       "OT\n",
       "False    8218\n",
       "True      330\n",
       "Name: count, dtype: int64"
      ]
     },
     "execution_count": 48,
     "metadata": {},
     "output_type": "execute_result"
    }
   ],
   "source": [
    "df['OT'].value_counts()"
   ]
  },
  {
   "cell_type": "code",
   "execution_count": 49,
   "id": "47a58335",
   "metadata": {},
   "outputs": [
    {
     "data": {
      "text/plain": [
       "np.int64(8218)"
      ]
     },
     "execution_count": 49,
     "metadata": {},
     "output_type": "execute_result"
    }
   ],
   "source": [
    "df['OT_num'].isna().sum()"
   ]
  },
  {
   "cell_type": "code",
   "execution_count": 50,
   "id": "7fd47d3d",
   "metadata": {},
   "outputs": [
    {
     "data": {
      "text/plain": [
       "array([nan,  3.,  1.,  2.,  4.,  6.,  8.,  7.,  5.,  9.])"
      ]
     },
     "execution_count": 50,
     "metadata": {},
     "output_type": "execute_result"
    }
   ],
   "source": [
    "df['OT_num'].unique()"
   ]
  },
  {
   "cell_type": "code",
   "execution_count": 51,
   "id": "8b2a63b3",
   "metadata": {},
   "outputs": [
    {
     "data": {
      "text/plain": [
       "OT_num\n",
       "1.0    202\n",
       "2.0     91\n",
       "4.0     16\n",
       "3.0     12\n",
       "6.0      2\n",
       "8.0      2\n",
       "5.0      2\n",
       "9.0      2\n",
       "7.0      1\n",
       "Name: count, dtype: int64"
      ]
     },
     "execution_count": 51,
     "metadata": {},
     "output_type": "execute_result"
    }
   ],
   "source": [
    "df['OT_num'].value_counts()"
   ]
  },
  {
   "cell_type": "code",
   "execution_count": 52,
   "id": "e80ddd49",
   "metadata": {},
   "outputs": [
    {
     "data": {
      "text/plain": [
       "[np.float64(nan),\n",
       " np.float64(1.0),\n",
       " np.float64(2.0),\n",
       " np.float64(3.0),\n",
       " np.float64(4.0),\n",
       " np.float64(5.0),\n",
       " np.float64(6.0),\n",
       " np.float64(7.0),\n",
       " np.float64(8.0),\n",
       " np.float64(9.0)]"
      ]
     },
     "execution_count": 52,
     "metadata": {},
     "output_type": "execute_result"
    }
   ],
   "source": [
    "unique_OT_num = df['OT_num'].unique()\n",
    "unique_OT_num = sorted(unique_OT_num)\n",
    "unique_OT_num"
   ]
  },
  {
   "cell_type": "code",
   "execution_count": 53,
   "id": "5e3c2d2f",
   "metadata": {},
   "outputs": [
    {
     "data": {
      "text/plain": [
       "np.int64(16)"
      ]
     },
     "execution_count": 53,
     "metadata": {},
     "output_type": "execute_result"
    }
   ],
   "source": [
    "df['pass'].isna().sum()"
   ]
  },
  {
   "cell_type": "code",
   "execution_count": null,
   "id": "ff2e96ad",
   "metadata": {},
   "outputs": [],
   "source": [
    "df['pass'].unique()"
   ]
  },
  {
   "cell_type": "code",
   "execution_count": null,
   "id": "2ae5d02b",
   "metadata": {},
   "outputs": [],
   "source": [
    "unique_pass = df['pass'].unique()\n",
    "unique_pass = sorted(unique_pass)\n",
    "unique_pass"
   ]
  },
  {
   "cell_type": "code",
   "execution_count": null,
   "id": "d6c3c065",
   "metadata": {},
   "outputs": [],
   "source": [
    "df['pass'].value_counts()"
   ]
  },
  {
   "cell_type": "code",
   "execution_count": 61,
   "id": "81943814",
   "metadata": {},
   "outputs": [
    {
     "name": "stdout",
     "output_type": "stream",
     "text": [
      "Team\n",
      "date\n",
      "Team_id\n",
      "opponent\n",
      "win_loss\n",
      "OT\n",
      "OT_num\n",
      "pass\n",
      "rush\n",
      "rec\n",
      "points_allowed\n",
      "points_scored\n",
      "point_differential\n",
      "home_game\n",
      "week\n",
      "season\n",
      "CONF\n",
      "SOR\n",
      "FPI\n",
      "AP/CFP\n",
      "SOS\n",
      "GC\n",
      "AVGWP\n"
     ]
    }
   ],
   "source": [
    "for i in df:\n",
    "    print(i)"
   ]
  },
  {
   "cell_type": "code",
   "execution_count": 62,
   "id": "4cfebebe",
   "metadata": {},
   "outputs": [
    {
     "data": {
      "text/plain": [
       "np.int64(1)"
      ]
     },
     "execution_count": 62,
     "metadata": {},
     "output_type": "execute_result"
    }
   ],
   "source": [
    "df['rush'].isna().sum()"
   ]
  },
  {
   "cell_type": "code",
   "execution_count": 63,
   "id": "09106535",
   "metadata": {},
   "outputs": [
    {
     "data": {
      "text/plain": [
       "array([ 34.,  78.,  20.,  15.,  83., 122.,  14., 101.,  29.,  62.,  32.,\n",
       "        58.,  66.,  45.,  87., 111.,  65.,  31.,  41.,  47.,  84., 140.,\n",
       "        63.,  19.,  23.,  10.,  37.,  42.,  27.,  30., 112.,  26., 126.,\n",
       "        69.,  77.,  61., 139.,  52.,  81.,  74.,  46., 120.,  54., 106.,\n",
       "        67.,  89.,  79.,  86.,  70., 180.,  40.,  71.,  38., 102.,  21.,\n",
       "       136., 103.,  53.,  39.,  75.,  48., 163.,  59.,  80.,   4.,  82.,\n",
       "        73.,  49.,  64.,  55.,  28.,  44.,  43.,  60., 118.,  33.,  17.,\n",
       "       189.,  95.,  72.,  12., 105.,  92.,  90.,  24., 173.,  22., 135.,\n",
       "        50., 150., 132., 162.,  68., 156.,  93., 119., 178.,  88., 152.,\n",
       "       206., 191., 149.,  56.,  98.,  96., 107., 113., 104., 114., 108.,\n",
       "       128.,  57.,  36.,  35.,  94., 116., 100., 176., 133.,  76., 130.,\n",
       "       240.,  99.,  51.,  91., 158., 199., 221., 177., 134.,  11., 137.,\n",
       "       141., 145., 193., 167., 185., 168., 146., 153., 165.,  97., 117.,\n",
       "       110., 109., 234., 125., 115., 147., 175., 123., 188., 155.,   5.,\n",
       "        25., 129.,  85., 266., 164., 183., 154., 169., 227., 265., 170.,\n",
       "       121., 233., 174., 157., 138., 131., 127., 143., 148.,  13., 151.,\n",
       "       124., 218., 142., 166., 160., 195., 172.,  16., 222.,   7.,   9.,\n",
       "       192., 198., 161., 186., 184., 224., 171., 220.,  18., 179., 216.,\n",
       "       144., 247., 271., 159., 219., 209., 267., 205., 197., 190., 215.,\n",
       "       203., 226., 242., 187., 276., 214., 256., 182., 207.,   3., 213.,\n",
       "       274., 181., 196., 232., 245., 204., 208., 243.,   8., 255., 308.,\n",
       "       235., 254., 217., 223., 282., 248., 230., 200., 211., 280., 277.,\n",
       "       264., 259., 210., 201., 278., 194., 320., 329., 202., 231., 409.,\n",
       "       228., 251., 238., 287., 244., 331., 212., 293., 236., 258., 301.,\n",
       "       272., 263., 257., 262.,   0.,  nan])"
      ]
     },
     "execution_count": 63,
     "metadata": {},
     "output_type": "execute_result"
    }
   ],
   "source": [
    "df['rush'].unique()"
   ]
  },
  {
   "cell_type": "code",
   "execution_count": 64,
   "id": "5b456332",
   "metadata": {},
   "outputs": [
    {
     "data": {
      "text/plain": [
       "rush\n",
       "0.0      762\n",
       "60.0      90\n",
       "67.0      85\n",
       "49.0      83\n",
       "68.0      83\n",
       "57.0      82\n",
       "63.0      82\n",
       "76.0      80\n",
       "71.0      80\n",
       "78.0      80\n",
       "64.0      80\n",
       "80.0      79\n",
       "82.0      78\n",
       "65.0      78\n",
       "87.0      77\n",
       "74.0      77\n",
       "69.0      77\n",
       "52.0      77\n",
       "54.0      77\n",
       "39.0      76\n",
       "62.0      75\n",
       "104.0     75\n",
       "53.0      75\n",
       "66.0      74\n",
       "75.0      74\n",
       "83.0      74\n",
       "42.0      73\n",
       "55.0      73\n",
       "73.0      73\n",
       "81.0      73\n",
       "58.0      71\n",
       "61.0      70\n",
       "43.0      70\n",
       "50.0      69\n",
       "48.0      69\n",
       "45.0      69\n",
       "79.0      69\n",
       "70.0      69\n",
       "72.0      68\n",
       "84.0      68\n",
       "56.0      67\n",
       "47.0      66\n",
       "86.0      65\n",
       "51.0      64\n",
       "94.0      64\n",
       "95.0      63\n",
       "89.0      63\n",
       "111.0     63\n",
       "59.0      63\n",
       "77.0      62\n",
       "96.0      62\n",
       "113.0     60\n",
       "106.0     60\n",
       "100.0     60\n",
       "102.0     59\n",
       "41.0      59\n",
       "91.0      58\n",
       "85.0      58\n",
       "101.0     58\n",
       "97.0      57\n",
       "38.0      57\n",
       "88.0      56\n",
       "35.0      55\n",
       "37.0      55\n",
       "31.0      54\n",
       "46.0      54\n",
       "40.0      53\n",
       "36.0      53\n",
       "117.0     51\n",
       "99.0      51\n",
       "108.0     51\n",
       "103.0     51\n",
       "93.0      50\n",
       "107.0     50\n",
       "118.0     50\n",
       "32.0      50\n",
       "33.0      49\n",
       "120.0     48\n",
       "90.0      48\n",
       "105.0     48\n",
       "34.0      47\n",
       "29.0      47\n",
       "28.0      46\n",
       "110.0     46\n",
       "125.0     46\n",
       "112.0     46\n",
       "115.0     45\n",
       "119.0     44\n",
       "109.0     44\n",
       "92.0      44\n",
       "44.0      44\n",
       "27.0      43\n",
       "123.0     43\n",
       "124.0     43\n",
       "121.0     42\n",
       "114.0     41\n",
       "98.0      41\n",
       "127.0     41\n",
       "30.0      41\n",
       "129.0     36\n",
       "138.0     35\n",
       "23.0      35\n",
       "128.0     35\n",
       "136.0     34\n",
       "126.0     33\n",
       "146.0     32\n",
       "135.0     32\n",
       "130.0     32\n",
       "132.0     31\n",
       "133.0     31\n",
       "122.0     31\n",
       "116.0     29\n",
       "26.0      29\n",
       "25.0      29\n",
       "131.0     26\n",
       "24.0      26\n",
       "134.0     24\n",
       "148.0     24\n",
       "145.0     24\n",
       "137.0     24\n",
       "20.0      23\n",
       "147.0     22\n",
       "144.0     22\n",
       "143.0     22\n",
       "142.0     22\n",
       "21.0      22\n",
       "140.0     21\n",
       "139.0     21\n",
       "18.0      21\n",
       "156.0     21\n",
       "149.0     20\n",
       "169.0     20\n",
       "160.0     19\n",
       "22.0      19\n",
       "163.0     19\n",
       "158.0     19\n",
       "153.0     18\n",
       "150.0     18\n",
       "151.0     18\n",
       "152.0     17\n",
       "162.0     17\n",
       "17.0      17\n",
       "19.0      16\n",
       "165.0     16\n",
       "141.0     16\n",
       "159.0     16\n",
       "164.0     16\n",
       "166.0     15\n",
       "154.0     15\n",
       "177.0     15\n",
       "155.0     14\n",
       "172.0     14\n",
       "168.0     14\n",
       "16.0      14\n",
       "179.0     14\n",
       "178.0     14\n",
       "185.0     13\n",
       "15.0      13\n",
       "157.0     12\n",
       "186.0     11\n",
       "171.0     11\n",
       "11.0      11\n",
       "161.0     11\n",
       "174.0      9\n",
       "170.0      9\n",
       "167.0      9\n",
       "12.0       9\n",
       "173.0      9\n",
       "14.0       9\n",
       "182.0      9\n",
       "180.0      8\n",
       "197.0      8\n",
       "196.0      8\n",
       "184.0      8\n",
       "198.0      8\n",
       "183.0      8\n",
       "204.0      8\n",
       "192.0      8\n",
       "206.0      7\n",
       "191.0      7\n",
       "176.0      7\n",
       "209.0      7\n",
       "193.0      7\n",
       "207.0      7\n",
       "187.0      6\n",
       "203.0      6\n",
       "188.0      5\n",
       "211.0      5\n",
       "208.0      5\n",
       "13.0       5\n",
       "195.0      5\n",
       "210.0      5\n",
       "199.0      5\n",
       "189.0      5\n",
       "200.0      5\n",
       "10.0       5\n",
       "202.0      4\n",
       "190.0      4\n",
       "181.0      4\n",
       "9.0        4\n",
       "175.0      4\n",
       "214.0      4\n",
       "205.0      4\n",
       "216.0      4\n",
       "221.0      3\n",
       "234.0      3\n",
       "243.0      3\n",
       "224.0      3\n",
       "219.0      3\n",
       "247.0      3\n",
       "266.0      3\n",
       "218.0      3\n",
       "233.0      3\n",
       "232.0      3\n",
       "223.0      3\n",
       "217.0      3\n",
       "4.0        2\n",
       "259.0      2\n",
       "201.0      2\n",
       "194.0      2\n",
       "244.0      2\n",
       "226.0      2\n",
       "236.0      2\n",
       "242.0      2\n",
       "8.0        2\n",
       "280.0      2\n",
       "215.0      2\n",
       "276.0      2\n",
       "213.0      2\n",
       "301.0      2\n",
       "212.0      2\n",
       "238.0      2\n",
       "264.0      2\n",
       "5.0        2\n",
       "220.0      2\n",
       "227.0      2\n",
       "222.0      2\n",
       "240.0      1\n",
       "320.0      1\n",
       "331.0      1\n",
       "287.0      1\n",
       "409.0      1\n",
       "231.0      1\n",
       "228.0      1\n",
       "278.0      1\n",
       "329.0      1\n",
       "251.0      1\n",
       "7.0        1\n",
       "265.0      1\n",
       "271.0      1\n",
       "3.0        1\n",
       "256.0      1\n",
       "267.0      1\n",
       "274.0      1\n",
       "248.0      1\n",
       "235.0      1\n",
       "282.0      1\n",
       "308.0      1\n",
       "255.0      1\n",
       "245.0      1\n",
       "254.0      1\n",
       "293.0      1\n",
       "277.0      1\n",
       "230.0      1\n",
       "258.0      1\n",
       "272.0      1\n",
       "263.0      1\n",
       "257.0      1\n",
       "262.0      1\n",
       "Name: count, dtype: int64"
      ]
     },
     "execution_count": 64,
     "metadata": {},
     "output_type": "execute_result"
    }
   ],
   "source": [
    "df['rush'].value_counts()"
   ]
  },
  {
   "cell_type": "code",
   "execution_count": 65,
   "id": "1197aca9",
   "metadata": {},
   "outputs": [
    {
     "data": {
      "text/plain": [
       "np.int64(14)"
      ]
     },
     "execution_count": 65,
     "metadata": {},
     "output_type": "execute_result"
    }
   ],
   "source": [
    "df['rec'].isna().sum()"
   ]
  },
  {
   "cell_type": "code",
   "execution_count": 66,
   "id": "e3b98940",
   "metadata": {},
   "outputs": [
    {
     "data": {
      "text/plain": [
       "array([183., 175., 164., 179., 347., 190., 189., 167., 104., 217., 309.,\n",
       "       266., 160., 150., 180., 195., 145., 169., 254., 225., 135., 136.,\n",
       "       200., 115., 283., 218., 186., 256., 144., 151., 128., 157., 113.,\n",
       "       198., 203.,  93., 100., 243., 182., 127., 185., 178., 208., 220.,\n",
       "       201., 197., 215., 122., 227., 174., 142., 155., 134., 202., 141.,\n",
       "       137., 239.,  90., 109., 168., 132.,  81., 162., 125., 107., 247.,\n",
       "       154., 214., 172., 111., 103.,  94., 240., 176., 161., 177., 163.,\n",
       "       147., 173., 181., 272., 308., 171., 213., 140., 166., 110., 199.,\n",
       "       118., 153.,  86., 235., 170., 230., 149., 101.,  96.,  76., 129.,\n",
       "       188., 126., 156., 304., 184., 119., 152., 105., 117.,  95.,  87.,\n",
       "       234.,  92., 165., 139., 124., 238.,  67., 120., 116., 112., 114.,\n",
       "        80., 133.,  83., 102., 108., 121., 106., 146., 148.,  99., 187.,\n",
       "       246., 221., 159., 205., 294.,  98.,  77., 143.,  89.,  88., 224.,\n",
       "       138., 210., 261., 231., 123.,  75.,  91., 207.,  72.,  97., 131.,\n",
       "       212., 244.,  79., 130.,  84., 211.,  78., 196.,  82.,  85., 193.,\n",
       "       232., 242., 194., 237., 191.,  68., 219., 158.,  63.,  71., 295.,\n",
       "       206.,  74.,  66., 252.,  73.,  69., 310.,  60.,  61.,  59.,  58.,\n",
       "       273.,  70.,  62.,  65.,  64.,  56.,  53.,  47.,  48.,  54., 229.,\n",
       "        50.,  52.,  55.,  57.,  51., 223.,  41.,  45.,  49.,  40.,  46.,\n",
       "        34.,  44.,  43.,  36.,  39.,  37.,  42.,  nan, 204.,  35.,  38.,\n",
       "        33.,  30.,  31.,  32.,  27.,  28.,  25.,  24.,  29.,  26.,  23.,\n",
       "        22.,  18.,  17.,  21.,  20.,  14.,  19.,  16.,  15.,  12.,  10.,\n",
       "        13.,  11.,   9.,   8.,   5.,   4.,   0.])"
      ]
     },
     "execution_count": 66,
     "metadata": {},
     "output_type": "execute_result"
    }
   ],
   "source": [
    "df['rec'].unique()"
   ]
  },
  {
   "cell_type": "code",
   "execution_count": 67,
   "id": "906f8bfa",
   "metadata": {},
   "outputs": [
    {
     "data": {
      "text/plain": [
       "rec\n",
       "0.0      762\n",
       "81.0     107\n",
       "68.0     103\n",
       "76.0     100\n",
       "75.0      98\n",
       "84.0      96\n",
       "72.0      96\n",
       "60.0      96\n",
       "73.0      95\n",
       "89.0      95\n",
       "70.0      95\n",
       "78.0      89\n",
       "67.0      88\n",
       "59.0      87\n",
       "54.0      87\n",
       "74.0      86\n",
       "77.0      85\n",
       "63.0      85\n",
       "85.0      85\n",
       "65.0      84\n",
       "64.0      84\n",
       "80.0      83\n",
       "61.0      83\n",
       "79.0      83\n",
       "69.0      83\n",
       "66.0      79\n",
       "102.0     79\n",
       "93.0      78\n",
       "91.0      78\n",
       "83.0      77\n",
       "53.0      77\n",
       "98.0      77\n",
       "86.0      76\n",
       "71.0      76\n",
       "48.0      75\n",
       "50.0      74\n",
       "57.0      74\n",
       "87.0      74\n",
       "58.0      73\n",
       "62.0      73\n",
       "96.0      72\n",
       "55.0      72\n",
       "90.0      71\n",
       "88.0      70\n",
       "82.0      69\n",
       "94.0      68\n",
       "44.0      68\n",
       "100.0     67\n",
       "101.0     67\n",
       "52.0      66\n",
       "56.0      65\n",
       "105.0     65\n",
       "92.0      64\n",
       "43.0      64\n",
       "99.0      64\n",
       "47.0      62\n",
       "45.0      61\n",
       "103.0     60\n",
       "49.0      60\n",
       "42.0      60\n",
       "46.0      57\n",
       "51.0      57\n",
       "106.0     57\n",
       "95.0      55\n",
       "36.0      55\n",
       "116.0     55\n",
       "104.0     54\n",
       "39.0      54\n",
       "97.0      53\n",
       "107.0     53\n",
       "117.0     52\n",
       "108.0     52\n",
       "115.0     51\n",
       "110.0     49\n",
       "112.0     49\n",
       "118.0     49\n",
       "120.0     48\n",
       "113.0     47\n",
       "38.0      47\n",
       "41.0      47\n",
       "40.0      46\n",
       "111.0     46\n",
       "35.0      45\n",
       "137.0     43\n",
       "114.0     43\n",
       "127.0     43\n",
       "109.0     41\n",
       "37.0      41\n",
       "121.0     40\n",
       "126.0     40\n",
       "34.0      39\n",
       "33.0      38\n",
       "128.0     37\n",
       "123.0     37\n",
       "119.0     36\n",
       "122.0     36\n",
       "31.0      35\n",
       "135.0     35\n",
       "125.0     35\n",
       "140.0     34\n",
       "32.0      34\n",
       "130.0     33\n",
       "134.0     32\n",
       "133.0     32\n",
       "129.0     31\n",
       "139.0     29\n",
       "138.0     28\n",
       "131.0     27\n",
       "136.0     27\n",
       "132.0     27\n",
       "27.0      26\n",
       "124.0     25\n",
       "22.0      25\n",
       "28.0      24\n",
       "143.0     23\n",
       "141.0     22\n",
       "142.0     21\n",
       "150.0     21\n",
       "149.0     21\n",
       "152.0     20\n",
       "25.0      20\n",
       "30.0      20\n",
       "29.0      20\n",
       "146.0     19\n",
       "23.0      19\n",
       "155.0     18\n",
       "26.0      18\n",
       "170.0     18\n",
       "160.0     16\n",
       "153.0     16\n",
       "157.0     15\n",
       "145.0     15\n",
       "148.0     15\n",
       "180.0     14\n",
       "161.0     14\n",
       "147.0     14\n",
       "14.0      14\n",
       "24.0      14\n",
       "21.0      14\n",
       "162.0     13\n",
       "166.0     13\n",
       "144.0     12\n",
       "164.0     12\n",
       "18.0      12\n",
       "20.0      11\n",
       "176.0     11\n",
       "179.0     11\n",
       "172.0     11\n",
       "169.0     10\n",
       "156.0     10\n",
       "163.0     10\n",
       "171.0     10\n",
       "174.0     10\n",
       "175.0      9\n",
       "167.0      9\n",
       "168.0      9\n",
       "165.0      9\n",
       "19.0       9\n",
       "158.0      9\n",
       "159.0      9\n",
       "151.0      9\n",
       "183.0      9\n",
       "177.0      8\n",
       "154.0      8\n",
       "15.0       7\n",
       "197.0      7\n",
       "181.0      7\n",
       "184.0      7\n",
       "213.0      6\n",
       "187.0      6\n",
       "185.0      6\n",
       "200.0      6\n",
       "186.0      6\n",
       "173.0      6\n",
       "182.0      6\n",
       "189.0      5\n",
       "202.0      5\n",
       "178.0      5\n",
       "17.0       5\n",
       "11.0       5\n",
       "193.0      5\n",
       "217.0      4\n",
       "188.0      4\n",
       "199.0      4\n",
       "10.0       3\n",
       "16.0       3\n",
       "9.0        3\n",
       "12.0       3\n",
       "8.0        3\n",
       "206.0      3\n",
       "205.0      3\n",
       "215.0      3\n",
       "198.0      3\n",
       "240.0      3\n",
       "239.0      3\n",
       "203.0      3\n",
       "225.0      3\n",
       "196.0      3\n",
       "210.0      2\n",
       "221.0      2\n",
       "246.0      2\n",
       "247.0      2\n",
       "201.0      2\n",
       "227.0      2\n",
       "218.0      2\n",
       "230.0      2\n",
       "235.0      2\n",
       "207.0      2\n",
       "219.0      2\n",
       "13.0       2\n",
       "244.0      2\n",
       "194.0      2\n",
       "252.0      2\n",
       "347.0      1\n",
       "208.0      1\n",
       "220.0      1\n",
       "238.0      1\n",
       "234.0      1\n",
       "304.0      1\n",
       "308.0      1\n",
       "272.0      1\n",
       "214.0      1\n",
       "190.0      1\n",
       "195.0      1\n",
       "254.0      1\n",
       "309.0      1\n",
       "266.0      1\n",
       "256.0      1\n",
       "243.0      1\n",
       "283.0      1\n",
       "231.0      1\n",
       "261.0      1\n",
       "310.0      1\n",
       "191.0      1\n",
       "237.0      1\n",
       "295.0      1\n",
       "211.0      1\n",
       "212.0      1\n",
       "232.0      1\n",
       "242.0      1\n",
       "224.0      1\n",
       "294.0      1\n",
       "273.0      1\n",
       "229.0      1\n",
       "223.0      1\n",
       "204.0      1\n",
       "5.0        1\n",
       "4.0        1\n",
       "Name: count, dtype: int64"
      ]
     },
     "execution_count": 67,
     "metadata": {},
     "output_type": "execute_result"
    }
   ],
   "source": [
    "df['rec'].value_counts()"
   ]
  },
  {
   "cell_type": "code",
   "execution_count": 68,
   "id": "940071cf",
   "metadata": {},
   "outputs": [
    {
     "data": {
      "text/plain": [
       "np.int64(0)"
      ]
     },
     "execution_count": 68,
     "metadata": {},
     "output_type": "execute_result"
    }
   ],
   "source": [
    "df['points_allowed'].isna().sum()"
   ]
  },
  {
   "cell_type": "code",
   "execution_count": 69,
   "id": "25a92b8f",
   "metadata": {},
   "outputs": [
    {
     "data": {
      "text/plain": [
       "points_allowed\n",
       "0     934\n",
       "24    433\n",
       "17    382\n",
       "31    372\n",
       "14    367\n",
       "21    338\n",
       "20    322\n",
       "27    320\n",
       "10    307\n",
       "7     287\n",
       "38    285\n",
       "28    278\n",
       "34    276\n",
       "13    246\n",
       "35    232\n",
       "41    194\n",
       "45    187\n",
       "30    183\n",
       "23    182\n",
       "42    178\n",
       "3     165\n",
       "37    134\n",
       "16    125\n",
       "49    105\n",
       "26    103\n",
       "52    100\n",
       "33     99\n",
       "6      96\n",
       "19     92\n",
       "48     91\n",
       "44     84\n",
       "29     83\n",
       "40     70\n",
       "22     69\n",
       "32     55\n",
       "25     55\n",
       "9      54\n",
       "56     52\n",
       "15     51\n",
       "12     48\n",
       "39     47\n",
       "36     46\n",
       "55     44\n",
       "18     42\n",
       "43     40\n",
       "59     38\n",
       "51     34\n",
       "47     32\n",
       "50     25\n",
       "63     24\n",
       "46     19\n",
       "11     18\n",
       "62     14\n",
       "53     13\n",
       "54     13\n",
       "66     13\n",
       "58     12\n",
       "70      7\n",
       "8       6\n",
       "69      4\n",
       "61      4\n",
       "77      3\n",
       "73      3\n",
       "57      2\n",
       "71      2\n",
       "65      2\n",
       "5       2\n",
       "60      2\n",
       "2       2\n",
       "64      1\n",
       "Name: count, dtype: int64"
      ]
     },
     "execution_count": 69,
     "metadata": {},
     "output_type": "execute_result"
    }
   ],
   "source": [
    "df['points_allowed'].value_counts()"
   ]
  },
  {
   "cell_type": "code",
   "execution_count": 70,
   "id": "75044083",
   "metadata": {},
   "outputs": [
    {
     "data": {
      "text/plain": [
       "array([34, 50, 38, 49, 45, 35, 59, 53, 55, 52, 29, 23, 77, 43, 39, 31, 42,\n",
       "       37, 27, 48, 33, 20, 21, 70, 28,  7, 17, 24, 30, 25, 46, 40, 56,  6,\n",
       "       26, 44, 19, 36, 51, 11, 41, 47,  0,  3, 10, 32, 58, 14, 16, 13,  9,\n",
       "       22, 15, 18, 66, 63, 54, 62, 57, 61, 12, 69,  8, 65, 71,  5, 60, 64,\n",
       "        2, 73])"
      ]
     },
     "execution_count": 70,
     "metadata": {},
     "output_type": "execute_result"
    }
   ],
   "source": [
    "df['points_allowed'].unique()"
   ]
  },
  {
   "cell_type": "code",
   "execution_count": 71,
   "id": "8bef1990",
   "metadata": {},
   "outputs": [
    {
     "data": {
      "text/plain": [
       "np.int64(0)"
      ]
     },
     "execution_count": 71,
     "metadata": {},
     "output_type": "execute_result"
    }
   ],
   "source": [
    "df['points_scored'].isna().sum()"
   ]
  },
  {
   "cell_type": "code",
   "execution_count": 72,
   "id": "7e9f2c34",
   "metadata": {},
   "outputs": [
    {
     "data": {
      "text/plain": [
       "array([44, 49, 45, 41, 48, 42, 39, 59, 53, 40, 47, 46, 63, 32, 34, 35, 24,\n",
       "       33, 31, 30, 38, 50, 36, 51, 26, 43, 28, 52, 70, 29, 37, 21, 56, 27,\n",
       "       23, 20, 55, 54, 61, 66, 76, 17, 58, 73, 77, 69, 25, 14, 13, 18, 22,\n",
       "       12, 19, 10, 62, 15, 65, 16, 11, 64,  6,  9,  7, 81, 57, 68, 60, 72,\n",
       "       87,  3, 71,  2,  0,  8, 78,  5])"
      ]
     },
     "execution_count": 72,
     "metadata": {},
     "output_type": "execute_result"
    }
   ],
   "source": [
    "df['points_scored'].unique()"
   ]
  },
  {
   "cell_type": "code",
   "execution_count": null,
   "id": "54890199",
   "metadata": {},
   "outputs": [],
   "source": [
    "df['points_scored'].value_counts()"
   ]
  },
  {
   "cell_type": "code",
   "execution_count": 74,
   "id": "19c7b91a",
   "metadata": {},
   "outputs": [
    {
     "data": {
      "text/plain": [
       "np.int64(0)"
      ]
     },
     "execution_count": 74,
     "metadata": {},
     "output_type": "execute_result"
    }
   ],
   "source": [
    "df['point_differential'].isna().sum()"
   ]
  },
  {
   "cell_type": "code",
   "execution_count": 75,
   "id": "dd11a9a1",
   "metadata": {},
   "outputs": [
    {
     "data": {
      "text/plain": [
       "array([ 10,  -1,   7,  -8,   3, -20,   6,  -2,  11,  -5,  36,  -3, -14,\n",
       "        -6, -11,  -4,  32,  17,  21,  -7, -17,   1, -10,  18,  23,  16,\n",
       "        34, -15,  35,   8, -12,  20,  28,   2, -16,  14,  38,  26, -28,\n",
       "        37,  13,  24, -21,   5, -13,  33,  52,  25,  39,  12,  49,  29,\n",
       "        56,   4, -27,  22,  19,  40,  76,  31,  15,   9,  42,  66,  70,\n",
       "       -18,  -9, -24,  41,  45,  27,  44,  73,  53,  46,  57, -32,  59,\n",
       "        30, -23, -46,  48, -22, -31, -19,  62, -26, -29,  43,  55, -25,\n",
       "       -35, -38, -33,  47, -39, -45,  58,  51,  69, -40,  74, -36, -30,\n",
       "        50, -49, -34, -37,  77,  65, -44, -42, -57, -51,  68,  60, -41,\n",
       "       -47, -56, -53,  63, -52,  54,  71, -58, -43, -73, -48, -50, -60,\n",
       "       -59, -62, -55, -63, -66, -71,   0])"
      ]
     },
     "execution_count": 75,
     "metadata": {},
     "output_type": "execute_result"
    }
   ],
   "source": [
    "df['point_differential'].unique()"
   ]
  },
  {
   "cell_type": "code",
   "execution_count": 76,
   "id": "59893eff",
   "metadata": {},
   "outputs": [
    {
     "data": {
      "text/plain": [
       "point_differential\n",
       " 0     762\n",
       " 3     400\n",
       "-3     384\n",
       " 7     323\n",
       "-7     317\n",
       " 10    180\n",
       " 14    174\n",
       "-10    171\n",
       "-14    168\n",
       " 17    161\n",
       " 21    159\n",
       "-17    152\n",
       " 4     139\n",
       "-21    136\n",
       "-4     135\n",
       "-2     130\n",
       " 2     129\n",
       "-6     127\n",
       " 6     124\n",
       " 28    122\n",
       " 1     121\n",
       " 8     118\n",
       "-1     118\n",
       "-8     113\n",
       " 24    107\n",
       "-28    104\n",
       "-24    102\n",
       " 11     94\n",
       " 18     91\n",
       " 5      91\n",
       "-5      87\n",
       "-11     87\n",
       " 31     86\n",
       "-18     81\n",
       "-13     77\n",
       " 35     76\n",
       " 13     75\n",
       " 20     73\n",
       "-31     71\n",
       "-20     68\n",
       " 15     66\n",
       " 27     64\n",
       "-15     64\n",
       " 25     63\n",
       " 32     60\n",
       "-27     60\n",
       "-35     59\n",
       " 12     59\n",
       " 34     57\n",
       "-25     57\n",
       "-12     56\n",
       " 23     55\n",
       " 38     52\n",
       " 42     51\n",
       "-9      49\n",
       " 22     48\n",
       "-32     48\n",
       " 9      47\n",
       " 16     46\n",
       "-19     46\n",
       " 19     46\n",
       "-23     45\n",
       "-22     44\n",
       "-34     44\n",
       "-16     43\n",
       " 26     43\n",
       " 29     41\n",
       "-38     41\n",
       " 45     39\n",
       "-26     38\n",
       "-29     37\n",
       "-42     35\n",
       " 33     32\n",
       " 37     32\n",
       " 49     32\n",
       "-33     29\n",
       " 52     28\n",
       " 30     28\n",
       " 41     28\n",
       " 39     27\n",
       "-45     26\n",
       " 56     25\n",
       "-30     24\n",
       "-37     23\n",
       "-49     21\n",
       " 40     20\n",
       " 46     20\n",
       "-39     19\n",
       "-41     18\n",
       " 36     17\n",
       "-36     16\n",
       " 44     14\n",
       "-52     14\n",
       " 53     13\n",
       " 48     13\n",
       "-56     12\n",
       " 59     12\n",
       "-44     11\n",
       "-40     10\n",
       "-46     10\n",
       " 62     10\n",
       " 43      9\n",
       "-48      9\n",
       " 55      8\n",
       " 50      7\n",
       "-53      6\n",
       " 47      6\n",
       " 66      6\n",
       " 51      5\n",
       "-55      5\n",
       "-50      5\n",
       " 58      4\n",
       "-47      4\n",
       "-59      4\n",
       " 57      4\n",
       " 70      3\n",
       " 54      3\n",
       " 63      3\n",
       "-62      3\n",
       "-63      3\n",
       "-51      3\n",
       "-43      3\n",
       " 76      2\n",
       " 73      2\n",
       " 69      2\n",
       " 74      2\n",
       "-57      2\n",
       "-58      2\n",
       " 60      2\n",
       "-66      2\n",
       "-60      2\n",
       "-73      2\n",
       " 77      1\n",
       " 68      1\n",
       " 65      1\n",
       " 71      1\n",
       "-71      1\n",
       "Name: count, dtype: int64"
      ]
     },
     "execution_count": 76,
     "metadata": {},
     "output_type": "execute_result"
    }
   ],
   "source": [
    "df['point_differential'].value_counts()"
   ]
  },
  {
   "cell_type": "code",
   "execution_count": 77,
   "id": "f72cc2e8",
   "metadata": {},
   "outputs": [
    {
     "data": {
      "text/plain": [
       "np.int64(0)"
      ]
     },
     "execution_count": 77,
     "metadata": {},
     "output_type": "execute_result"
    }
   ],
   "source": [
    "df['home_game'].isna().sum()"
   ]
  },
  {
   "cell_type": "code",
   "execution_count": 78,
   "id": "8b12ce47",
   "metadata": {},
   "outputs": [
    {
     "data": {
      "text/plain": [
       "array(['FALSE', 'TRUE', 'Bye'], dtype=object)"
      ]
     },
     "execution_count": 78,
     "metadata": {},
     "output_type": "execute_result"
    }
   ],
   "source": [
    "df['home_game'].unique()"
   ]
  },
  {
   "cell_type": "code",
   "execution_count": 79,
   "id": "76ac45f4",
   "metadata": {},
   "outputs": [
    {
     "data": {
      "text/plain": [
       "home_game\n",
       "TRUE     4420\n",
       "FALSE    3366\n",
       "Bye       762\n",
       "Name: count, dtype: int64"
      ]
     },
     "execution_count": 79,
     "metadata": {},
     "output_type": "execute_result"
    }
   ],
   "source": [
    "df['home_game'].value_counts()"
   ]
  },
  {
   "cell_type": "code",
   "execution_count": 80,
   "id": "c9286491",
   "metadata": {},
   "outputs": [
    {
     "data": {
      "text/plain": [
       "np.int64(0)"
      ]
     },
     "execution_count": 80,
     "metadata": {},
     "output_type": "execute_result"
    }
   ],
   "source": [
    "df['week'].isna().sum()"
   ]
  },
  {
   "cell_type": "code",
   "execution_count": 81,
   "id": "00b3bdfa",
   "metadata": {},
   "outputs": [
    {
     "data": {
      "text/plain": [
       "array([-7, -1,  7, 14, 12,  3,  2,  4, 10,  9, 13,  6,  1, 11, 15,  5, -3,\n",
       "        8,  0, -2, -5, -4, -6, 16, -8, 17, 18, -9])"
      ]
     },
     "execution_count": 81,
     "metadata": {},
     "output_type": "execute_result"
    }
   ],
   "source": [
    "df['week'].unique()"
   ]
  },
  {
   "cell_type": "code",
   "execution_count": 83,
   "id": "52d95798",
   "metadata": {},
   "outputs": [
    {
     "data": {
      "text/plain": [
       "week\n",
       "-9       1\n",
       "-8       8\n",
       "-7      20\n",
       "-6      37\n",
       "-5      56\n",
       "-4      68\n",
       "-3      73\n",
       "-2      85\n",
       "-1      93\n",
       " 0     105\n",
       " 1     641\n",
       " 2     645\n",
       " 3     650\n",
       " 4     650\n",
       " 5     650\n",
       " 6     650\n",
       " 7     525\n",
       " 8     525\n",
       " 9     525\n",
       " 10    525\n",
       " 11    524\n",
       " 12    523\n",
       " 13    492\n",
       " 14    333\n",
       " 15    115\n",
       " 16     19\n",
       " 17      6\n",
       " 18      4\n",
       "Name: count, dtype: int64"
      ]
     },
     "execution_count": 83,
     "metadata": {},
     "output_type": "execute_result"
    }
   ],
   "source": [
    "df['week'].value_counts().sort_index()"
   ]
  },
  {
   "cell_type": "code",
   "execution_count": 84,
   "id": "81991286",
   "metadata": {},
   "outputs": [
    {
     "data": {
      "text/plain": [
       "np.int64(0)"
      ]
     },
     "execution_count": 84,
     "metadata": {},
     "output_type": "execute_result"
    }
   ],
   "source": [
    "df['season'].isna().sum()"
   ]
  },
  {
   "cell_type": "code",
   "execution_count": 85,
   "id": "120a42ca",
   "metadata": {},
   "outputs": [
    {
     "data": {
      "text/plain": [
       "array([2020, 2022, 2021, 2023, 2024])"
      ]
     },
     "execution_count": 85,
     "metadata": {},
     "output_type": "execute_result"
    }
   ],
   "source": [
    "df['season'].unique()"
   ]
  },
  {
   "cell_type": "code",
   "execution_count": 86,
   "id": "e64bc1f4",
   "metadata": {},
   "outputs": [
    {
     "data": {
      "text/plain": [
       "season\n",
       "2024    1932\n",
       "2023    1794\n",
       "2022    1779\n",
       "2021    1761\n",
       "2020    1282\n",
       "Name: count, dtype: int64"
      ]
     },
     "execution_count": 86,
     "metadata": {},
     "output_type": "execute_result"
    }
   ],
   "source": [
    "df['season'].value_counts()"
   ]
  },
  {
   "cell_type": "code",
   "execution_count": 87,
   "id": "8ec6890c",
   "metadata": {},
   "outputs": [
    {
     "data": {
      "text/plain": [
       "np.int64(0)"
      ]
     },
     "execution_count": 87,
     "metadata": {},
     "output_type": "execute_result"
    }
   ],
   "source": [
    "df['CONF'].isna().sum()"
   ]
  },
  {
   "cell_type": "code",
   "execution_count": 88,
   "id": "d0b4b650",
   "metadata": {},
   "outputs": [
    {
     "data": {
      "text/plain": [
       "array(['SEC', 'American', 'Sun Belt', 'CUSA', 'Big Ten', 'ACC', 'Big 12',\n",
       "       'MAC', 'Pac-12', 'Mountain West', 'FBS Indep.'], dtype=object)"
      ]
     },
     "execution_count": 88,
     "metadata": {},
     "output_type": "execute_result"
    }
   ],
   "source": [
    "df['CONF'].unique()"
   ]
  },
  {
   "cell_type": "code",
   "execution_count": 89,
   "id": "3f2e5f07",
   "metadata": {},
   "outputs": [
    {
     "data": {
      "text/plain": [
       "CONF\n",
       "SEC              1007\n",
       "ACC              1003\n",
       "Big Ten           974\n",
       "Big 12            824\n",
       "American          808\n",
       "Sun Belt          790\n",
       "Mountain West     769\n",
       "CUSA              739\n",
       "MAC               694\n",
       "Pac-12            593\n",
       "FBS Indep.        347\n",
       "Name: count, dtype: int64"
      ]
     },
     "execution_count": 89,
     "metadata": {},
     "output_type": "execute_result"
    }
   ],
   "source": [
    "df['CONF'].value_counts()"
   ]
  },
  {
   "cell_type": "code",
   "execution_count": 90,
   "id": "1274b9e2",
   "metadata": {},
   "outputs": [
    {
     "data": {
      "text/plain": [
       "np.int64(0)"
      ]
     },
     "execution_count": 90,
     "metadata": {},
     "output_type": "execute_result"
    }
   ],
   "source": [
    "df['SOR'].isna().sum()"
   ]
  },
  {
   "cell_type": "code",
   "execution_count": 91,
   "id": "e2b8a79f",
   "metadata": {},
   "outputs": [
    {
     "data": {
      "text/plain": [
       "array([ 70,  56,  97,  61,   8,   2,  52,  34,  48,  60,  18,  16, 117,\n",
       "       115,  54,  21,   9,  13,  42,  77,  10,  73,  79,  38,  95,  69,\n",
       "       113,  65,  86,  17, 124,  26,  11, 107,  51,  23, 130,  62,   1,\n",
       "        67,  82, 106,  64,  94, 112,  89,   4,  15,  20, 126,  30,  29,\n",
       "        44,  71,  24,  55, 100,  74,  28, 108,  43,  93,  39, 125, 118,\n",
       "         6,  22,  84, 104,  36, 116,  85,  78,  96,  92, 110,  66,  40,\n",
       "        50,  19,  35,  14,  90,  32, 119, 123,  88, 102,  45,  41,  72,\n",
       "        87, 120,  47,  58, 121,  27, 114,  37,   7,  63, 101,  99,  33,\n",
       "       111, 134,  49,  91,   3,   5,  76, 128,  68,  12,  81,  80,  25,\n",
       "        46, 105,  83,  98,  31,  57, 103, 122, 127, 109,  75, 129,  53,\n",
       "        59, 132, 131, 133])"
      ]
     },
     "execution_count": 91,
     "metadata": {},
     "output_type": "execute_result"
    }
   ],
   "source": [
    "df['SOR'].unique()"
   ]
  },
  {
   "cell_type": "code",
   "execution_count": 92,
   "id": "08493094",
   "metadata": {},
   "outputs": [
    {
     "data": {
      "text/plain": [
       "SOR\n",
       "119    120\n",
       "1       81\n",
       "6       76\n",
       "3       76\n",
       "5       75\n",
       "2       74\n",
       "4       74\n",
       "14      74\n",
       "15      73\n",
       "38      73\n",
       "8       73\n",
       "16      72\n",
       "20      72\n",
       "27      72\n",
       "87      71\n",
       "12      71\n",
       "49      71\n",
       "70      71\n",
       "17      71\n",
       "21      71\n",
       "43      71\n",
       "10      71\n",
       "34      71\n",
       "36      70\n",
       "7       70\n",
       "30      70\n",
       "63      70\n",
       "105     69\n",
       "61      69\n",
       "19      69\n",
       "42      69\n",
       "28      69\n",
       "32      68\n",
       "46      68\n",
       "18      68\n",
       "54      68\n",
       "55      68\n",
       "72      68\n",
       "103     68\n",
       "33      68\n",
       "58      68\n",
       "56      67\n",
       "40      67\n",
       "44      67\n",
       "106     67\n",
       "23      67\n",
       "26      67\n",
       "91      67\n",
       "90      67\n",
       "110     67\n",
       "9       67\n",
       "66      67\n",
       "97      66\n",
       "31      66\n",
       "94      66\n",
       "85      66\n",
       "75      66\n",
       "116     66\n",
       "37      66\n",
       "102     66\n",
       "92      66\n",
       "114     66\n",
       "48      66\n",
       "24      66\n",
       "93      66\n",
       "71      66\n",
       "62      66\n",
       "13      66\n",
       "11      65\n",
       "60      65\n",
       "86      65\n",
       "76      65\n",
       "25      64\n",
       "83      64\n",
       "109     64\n",
       "89      64\n",
       "59      64\n",
       "45      64\n",
       "74      64\n",
       "79      64\n",
       "52      64\n",
       "22      63\n",
       "108     63\n",
       "81      63\n",
       "41      63\n",
       "118     63\n",
       "51      63\n",
       "95      63\n",
       "115     63\n",
       "112     63\n",
       "100     62\n",
       "82      62\n",
       "69      62\n",
       "99      62\n",
       "101     62\n",
       "96      62\n",
       "57      62\n",
       "98      62\n",
       "73      61\n",
       "67      61\n",
       "104     61\n",
       "84      61\n",
       "68      61\n",
       "78      61\n",
       "35      61\n",
       "50      61\n",
       "111     60\n",
       "80      60\n",
       "47      59\n",
       "107     59\n",
       "29      59\n",
       "77      58\n",
       "113     57\n",
       "64      57\n",
       "53      56\n",
       "128     54\n",
       "124     53\n",
       "65      53\n",
       "120     53\n",
       "123     53\n",
       "121     52\n",
       "125     52\n",
       "117     52\n",
       "127     52\n",
       "126     52\n",
       "88      52\n",
       "129     51\n",
       "130     51\n",
       "122     51\n",
       "39      47\n",
       "131     40\n",
       "132     26\n",
       "133     25\n",
       "134     13\n",
       "Name: count, dtype: int64"
      ]
     },
     "execution_count": 92,
     "metadata": {},
     "output_type": "execute_result"
    }
   ],
   "source": [
    "df['SOR'].value_counts()"
   ]
  },
  {
   "cell_type": "code",
   "execution_count": 93,
   "id": "74ca9617",
   "metadata": {},
   "outputs": [
    {
     "data": {
      "text/plain": [
       "np.int64(0)"
      ]
     },
     "execution_count": 93,
     "metadata": {},
     "output_type": "execute_result"
    }
   ],
   "source": [
    "df['FPI'].isna().sum()"
   ]
  },
  {
   "cell_type": "code",
   "execution_count": 94,
   "id": "94e14c03",
   "metadata": {},
   "outputs": [
    {
     "data": {
      "text/plain": [
       "array([ 52,  22,  91,  41,   3,   2,  47,  26,  58,  90,  25,  93,  20,\n",
       "       111,  97,  53,  54,  12,   5,  35,  77,   6,  62,  48,  69,  85,\n",
       "        16,  60,  95,  73, 109,  59,  64,  11,  67, 129,  49, 115,  61,\n",
       "        71, 126,   1,  34,  80, 112,  68,  65, 110,  84,   7,  44,  19,\n",
       "       128,  57,  33,  51,  15,  28,  23,  18,  43, 117,  32,  36, 118,\n",
       "        30,  98,  75,  99,  70,  88, 101,  14,  76, 123,  13, 127,  50,\n",
       "       107, 116,   9,  72,  92,  63,   8,  78, 131,  10,   4,  37,  94,\n",
       "       108, 100,  38, 102,  81,  39,  17,  42, 105, 121, 106, 122, 124,\n",
       "       134,  89,  31,  45,  24,  74,  83, 113, 103,  55,  82, 120,  56,\n",
       "        79,  87,  40, 119,  21,  66,  96,  86,  29, 114,  27, 104, 130,\n",
       "       133,  46, 125, 132])"
      ]
     },
     "execution_count": 94,
     "metadata": {},
     "output_type": "execute_result"
    }
   ],
   "source": [
    "df['FPI'].unique()"
   ]
  },
  {
   "cell_type": "code",
   "execution_count": 95,
   "id": "83fd186b",
   "metadata": {},
   "outputs": [
    {
     "data": {
      "text/plain": [
       "np.int64(0)"
      ]
     },
     "execution_count": 95,
     "metadata": {},
     "output_type": "execute_result"
    }
   ],
   "source": [
    "df['AP/CFP'].isna().sum()"
   ]
  },
  {
   "cell_type": "code",
   "execution_count": 96,
   "id": "475ac7e2",
   "metadata": {},
   "outputs": [
    {
     "data": {
      "text/plain": [
       "array(['--', '6', '1', '13', '14', '12', '5', '11', '7', '2', '21', '10',\n",
       "       '22', '18', '17', '25', '3', '23', '19', '15', '20', '16', '8',\n",
       "       '9', '24', '4'], dtype=object)"
      ]
     },
     "execution_count": 96,
     "metadata": {},
     "output_type": "execute_result"
    }
   ],
   "source": [
    "df['AP/CFP'].unique()"
   ]
  },
  {
   "cell_type": "code",
   "execution_count": 97,
   "id": "2da8f89b",
   "metadata": {},
   "outputs": [
    {
     "data": {
      "text/plain": [
       "np.int64(0)"
      ]
     },
     "execution_count": 97,
     "metadata": {},
     "output_type": "execute_result"
    }
   ],
   "source": [
    "df['SOS'].isna().sum()"
   ]
  },
  {
   "cell_type": "code",
   "execution_count": 98,
   "id": "7348df64",
   "metadata": {},
   "outputs": [
    {
     "data": {
      "text/plain": [
       "array([  4,  68, 118,  92,  27,   1,  49,  42,  31,  86,  15,  73,  57,\n",
       "        98, 104,  80,  60,  37,  17,  39,  43,  65, 107,  67,  89,  25,\n",
       "        41,  70, 125,  47,  78,  97,  90,  83, 115,  75,  35,  88,   6,\n",
       "       130,  28, 108,  93,  87,  63,  45, 116,   7,  95,   9, 111,   3,\n",
       "        12,  46,   5,  32, 103, 122,  36, 128,  34, 119,  48, 121,  71,\n",
       "        20,  13,  56,  10,  30,  76, 113, 123, 100,  23,  53,  61,  33,\n",
       "        84,  74,  69,  55, 101,  94,  50,   8,  58, 109,  21,  29,  79,\n",
       "        24,  96,  77, 129,  52, 114,  14,  85,  38,  99, 102,  91,  66,\n",
       "        40,  26,  11, 120,  18,  16, 117,  59, 105,  82,  62,  19, 110,\n",
       "       124,  44,  72, 112,  22,  81,   2, 126,  51, 106, 127, 131,  64,\n",
       "        54, 132, 133, 134])"
      ]
     },
     "execution_count": 98,
     "metadata": {},
     "output_type": "execute_result"
    }
   ],
   "source": [
    "df['SOS'].unique()"
   ]
  },
  {
   "cell_type": "code",
   "execution_count": 99,
   "id": "6e69698d",
   "metadata": {},
   "outputs": [
    {
     "data": {
      "text/plain": [
       "np.int64(0)"
      ]
     },
     "execution_count": 99,
     "metadata": {},
     "output_type": "execute_result"
    }
   ],
   "source": [
    "df['GC'].isna().sum()"
   ]
  },
  {
   "cell_type": "code",
   "execution_count": 100,
   "id": "667feb96",
   "metadata": {},
   "outputs": [
    {
     "data": {
      "text/plain": [
       "array([ 61,  18, 109,  64,   4,   2,  50,  25,  56,  74,  91,  23, 105,\n",
       "       107,  70,  62,  13,  14,   3,  37,  80,   9,  81,  90,  87,  15,\n",
       "        92,  94,  73, 111,  69,  59, 122,  46,   6, 106,  53,  67, 118,\n",
       "        68,   1,  45,  76, 112,  66,  78, 102,  12,  26,  11,  35,  16,\n",
       "        58, 124,  28,  41,  10,  21, 101,  96,  20, 117,  43,  44,  38,\n",
       "        33,  34,  32,  65,  51,  93,  77,  75,  36,  52,  17,  47, 119,\n",
       "        57,  54, 120,  27,  19,   5, 115,   8, 108, 104,  84,  30,  85,\n",
       "        48,  49,  42, 100, 110, 114,  39,  86,  63,  97,  95,  72,  98,\n",
       "        31,  60,  29,   7,  89,  83,  82,  24,  71, 116,  55, 113,  40,\n",
       "        88, 121,  79,  22,  99, 103, 123])"
      ]
     },
     "execution_count": 100,
     "metadata": {},
     "output_type": "execute_result"
    }
   ],
   "source": [
    "df['GC'].unique()"
   ]
  },
  {
   "cell_type": "code",
   "execution_count": 101,
   "id": "42534815",
   "metadata": {},
   "outputs": [
    {
     "data": {
      "text/plain": [
       "np.int64(0)"
      ]
     },
     "execution_count": 101,
     "metadata": {},
     "output_type": "execute_result"
    }
   ],
   "source": [
    "df['AVGWP'].isna().sum()"
   ]
  },
  {
   "cell_type": "code",
   "execution_count": 102,
   "id": "0a273323",
   "metadata": {},
   "outputs": [
    {
     "data": {
      "text/plain": [
       "array([ 90,  12,  43,   8,   3,  68,  25,  91,  42,  47,  78,  30, 102,\n",
       "       106,  77,  62,   9,   2,  59, 115,  11,  97,  32,  99,  67,  31,\n",
       "        94,  61,  54,  98,  51,  75,  28,  35, 127,  38,   7,  84,  22,\n",
       "        29, 124,  57,   1,  50,  87,  96,  46,  13,  55, 130,  19,   4,\n",
       "        81,   5,  60,  26,  72,  69,  70,  52, 126, 108,  73,   6,  74,\n",
       "       112,  33,  34,  56,  71,  41,  89,  49,  58,  79,  45, 122,  23,\n",
       "       117, 123, 109, 110, 116,  18,  15,  63,  10, 125,  37,  83,  85,\n",
       "       100,  66,  53,  20,  80,  48,  82,  40, 103,  27,  95, 121, 128,\n",
       "       101, 134,  39,  17,  86, 119,  16,  36,  44,  65, 111, 129,  14,\n",
       "        64,  93, 118,  92,  21,  76, 104, 114,  88,  24, 107, 133, 131,\n",
       "       120, 105, 132, 113])"
      ]
     },
     "execution_count": 102,
     "metadata": {},
     "output_type": "execute_result"
    }
   ],
   "source": [
    "df['AVGWP'].unique()"
   ]
  }
 ],
 "metadata": {
  "kernelspec": {
   "display_name": "Python 3",
   "language": "python",
   "name": "python3"
  },
  "language_info": {
   "codemirror_mode": {
    "name": "ipython",
    "version": 3
   },
   "file_extension": ".py",
   "mimetype": "text/x-python",
   "name": "python",
   "nbconvert_exporter": "python",
   "pygments_lexer": "ipython3",
   "version": "3.10.12"
  }
 },
 "nbformat": 4,
 "nbformat_minor": 5
}
