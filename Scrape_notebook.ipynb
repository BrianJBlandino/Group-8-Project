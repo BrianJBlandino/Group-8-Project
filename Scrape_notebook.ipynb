{
 "cells": [
  {
   "cell_type": "code",
   "execution_count": 1,
   "id": "27e8fca5",
   "metadata": {},
   "outputs": [],
   "source": [
    "import pandas as pd "
   ]
  },
  {
   "cell_type": "code",
   "execution_count": 4,
   "id": "bc6fb7cf",
   "metadata": {},
   "outputs": [
    {
     "data": {
      "text/plain": [
       "[     Rank                               Release Genre Budget Running Time  \\\n",
       " 0       1                          Inside Out 2     -      -            -   \n",
       " 1       2                  Deadpool & Wolverine     -      -            -   \n",
       " 2       3                                Wicked     -      -            -   \n",
       " 3       4                               Moana 2     -      -            -   \n",
       " 4       5                       Despicable Me 4     -      -            -   \n",
       " ..    ...                                   ...   ...    ...          ...   \n",
       " 195   196                                  Yolo     -      -            -   \n",
       " 196   197                   Queen Rock Montreal     -      -            -   \n",
       " 197   198                             The Order     -      -            -   \n",
       " 198   199  SUGA: Agust D Tour 'D-DAY' the Movie     -      -            -   \n",
       " 199   200                       Out of Darkness     -      -            -   \n",
       " \n",
       "             Gross  Theaters   Total Gross Release Date  \\\n",
       " 0    $652,980,194      4440  $652,980,194       Jun 14   \n",
       " 1    $636,745,858      4330  $636,745,858       Jul 26   \n",
       " 2    $432,943,285      3888  $473,231,120       Nov 22   \n",
       " 3    $404,017,489      4200  $460,405,297       Nov 27   \n",
       " 4    $361,004,205      4449  $361,004,205        Jul 3   \n",
       " ..            ...       ...           ...          ...   \n",
       " 195    $2,001,584       200    $2,001,584        Mar 8   \n",
       " 196    $2,000,000       387    $2,000,000       Jan 18   \n",
       " 197    $1,980,622       603    $2,010,901        Dec 6   \n",
       " 198    $1,951,896       787    $1,951,896       Apr 10   \n",
       " 199    $1,951,547       897    $1,951,547        Feb 9   \n",
       " \n",
       "                              Distributor  Estimated  \n",
       " 0    Walt Disney Studios Motion Pictures      False  \n",
       " 1    Walt Disney Studios Motion Pictures      False  \n",
       " 2                     Universal Pictures      False  \n",
       " 3    Walt Disney Studios Motion Pictures      False  \n",
       " 4                     Universal Pictures      False  \n",
       " ..                                   ...        ...  \n",
       " 195              Sony Pictures Releasing      False  \n",
       " 196                                    -      False  \n",
       " 197               Vertical Entertainment      False  \n",
       " 198                  Trafalgar Releasing      False  \n",
       " 199                Bleecker Street Media      False  \n",
       " \n",
       " [200 rows x 11 columns]]"
      ]
     },
     "execution_count": 4,
     "metadata": {},
     "output_type": "execute_result"
    }
   ],
   "source": [
    "pd.read_html('https://www.boxofficemojo.com/year/2024', \n",
    "                       match='Rank')"
   ]
  },
  {
   "cell_type": "code",
   "execution_count": 5,
   "id": "c3196d08",
   "metadata": {},
   "outputs": [
    {
     "data": {
      "text/html": [
       "<div>\n",
       "<style scoped>\n",
       "    .dataframe tbody tr th:only-of-type {\n",
       "        vertical-align: middle;\n",
       "    }\n",
       "\n",
       "    .dataframe tbody tr th {\n",
       "        vertical-align: top;\n",
       "    }\n",
       "\n",
       "    .dataframe thead th {\n",
       "        text-align: right;\n",
       "    }\n",
       "</style>\n",
       "<table border=\"1\" class=\"dataframe\">\n",
       "  <thead>\n",
       "    <tr style=\"text-align: right;\">\n",
       "      <th></th>\n",
       "      <th>RK</th>\n",
       "      <th>Team</th>\n",
       "      <th>REC</th>\n",
       "      <th>TREND</th>\n",
       "    </tr>\n",
       "  </thead>\n",
       "  <tbody>\n",
       "    <tr>\n",
       "      <th>0</th>\n",
       "      <td>1</td>\n",
       "      <td>ALA Alabama</td>\n",
       "      <td>10-0</td>\n",
       "      <td>-</td>\n",
       "    </tr>\n",
       "    <tr>\n",
       "      <th>1</th>\n",
       "      <td>2</td>\n",
       "      <td>ND Notre Dame</td>\n",
       "      <td>10-0</td>\n",
       "      <td>-</td>\n",
       "    </tr>\n",
       "    <tr>\n",
       "      <th>2</th>\n",
       "      <td>3</td>\n",
       "      <td>CLEM Clemson</td>\n",
       "      <td>9-1</td>\n",
       "      <td>-</td>\n",
       "    </tr>\n",
       "    <tr>\n",
       "      <th>3</th>\n",
       "      <td>4</td>\n",
       "      <td>OSU Ohio State</td>\n",
       "      <td>5-0</td>\n",
       "      <td>-</td>\n",
       "    </tr>\n",
       "    <tr>\n",
       "      <th>4</th>\n",
       "      <td>5</td>\n",
       "      <td>TA&amp;M Texas A&amp;M</td>\n",
       "      <td>7-1</td>\n",
       "      <td>-</td>\n",
       "    </tr>\n",
       "  </tbody>\n",
       "</table>\n",
       "</div>"
      ],
      "text/plain": [
       "   RK            Team   REC TREND\n",
       "0   1     ALA Alabama  10-0     -\n",
       "1   2   ND Notre Dame  10-0     -\n",
       "2   3    CLEM Clemson   9-1     -\n",
       "3   4  OSU Ohio State   5-0     -\n",
       "4   5  TA&M Texas A&M   7-1     -"
      ]
     },
     "execution_count": 5,
     "metadata": {},
     "output_type": "execute_result"
    }
   ],
   "source": [
    "data = pd.read_html('https://www.espn.com/college-football/rankings/_/week/16/year/2020/seasontype/2', \n",
    "                       match='RK')[0]\n",
    "\n",
    "data.head()"
   ]
  }
 ],
 "metadata": {
  "kernelspec": {
   "display_name": ".venv",
   "language": "python",
   "name": "python3"
  },
  "language_info": {
   "codemirror_mode": {
    "name": "ipython",
    "version": 3
   },
   "file_extension": ".py",
   "mimetype": "text/x-python",
   "name": "python",
   "nbconvert_exporter": "python",
   "pygments_lexer": "ipython3",
   "version": "3.12.11"
  }
 },
 "nbformat": 4,
 "nbformat_minor": 5
}
