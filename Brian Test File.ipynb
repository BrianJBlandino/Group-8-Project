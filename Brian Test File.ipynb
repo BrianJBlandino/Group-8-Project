{
 "cells": [
  {
   "cell_type": "code",
   "execution_count": 1,
   "id": "7a5ea2c8",
   "metadata": {},
   "outputs": [],
   "source": [
    "import pandas as pd\n",
    "import numpy as np"
   ]
  },
  {
   "cell_type": "code",
   "execution_count": 3,
   "id": "cbcc439b",
   "metadata": {},
   "outputs": [],
   "source": [
    "df = pd.read_csv('WeekByWeekRankings2020to2025.csv')\n",
    "df\n",
    "df_copy = df.copy()"
   ]
  },
  {
   "cell_type": "code",
   "execution_count": 5,
   "id": "d6d8a0d8",
   "metadata": {},
   "outputs": [],
   "source": [
    "df1 = pd.read_csv('CollegeFootballRankings24to20.csv')\n",
    "df1\n",
    "df_copy = df.copy()"
   ]
  },
  {
   "cell_type": "code",
   "execution_count": 6,
   "id": "e24808d5",
   "metadata": {},
   "outputs": [
    {
     "data": {
      "text/html": [
       "<div>\n",
       "<style scoped>\n",
       "    .dataframe tbody tr th:only-of-type {\n",
       "        vertical-align: middle;\n",
       "    }\n",
       "\n",
       "    .dataframe tbody tr th {\n",
       "        vertical-align: top;\n",
       "    }\n",
       "\n",
       "    .dataframe thead th {\n",
       "        text-align: right;\n",
       "    }\n",
       "</style>\n",
       "<table border=\"1\" class=\"dataframe\">\n",
       "  <thead>\n",
       "    <tr style=\"text-align: right;\">\n",
       "      <th></th>\n",
       "      <th>AP_rank</th>\n",
       "      <th>Team</th>\n",
       "      <th>Week</th>\n",
       "      <th>year</th>\n",
       "    </tr>\n",
       "  </thead>\n",
       "  <tbody>\n",
       "    <tr>\n",
       "      <th>0</th>\n",
       "      <td>1</td>\n",
       "      <td>Georgia</td>\n",
       "      <td>1</td>\n",
       "      <td>2024</td>\n",
       "    </tr>\n",
       "    <tr>\n",
       "      <th>1</th>\n",
       "      <td>2</td>\n",
       "      <td>Ohio State</td>\n",
       "      <td>1</td>\n",
       "      <td>2024</td>\n",
       "    </tr>\n",
       "    <tr>\n",
       "      <th>2</th>\n",
       "      <td>3</td>\n",
       "      <td>Oregon</td>\n",
       "      <td>1</td>\n",
       "      <td>2024</td>\n",
       "    </tr>\n",
       "    <tr>\n",
       "      <th>3</th>\n",
       "      <td>4</td>\n",
       "      <td>Texas</td>\n",
       "      <td>1</td>\n",
       "      <td>2024</td>\n",
       "    </tr>\n",
       "    <tr>\n",
       "      <th>4</th>\n",
       "      <td>5</td>\n",
       "      <td>Alabama</td>\n",
       "      <td>1</td>\n",
       "      <td>2024</td>\n",
       "    </tr>\n",
       "    <tr>\n",
       "      <th>...</th>\n",
       "      <td>...</td>\n",
       "      <td>...</td>\n",
       "      <td>...</td>\n",
       "      <td>...</td>\n",
       "    </tr>\n",
       "    <tr>\n",
       "      <th>1970</th>\n",
       "      <td>21</td>\n",
       "      <td>USC</td>\n",
       "      <td>16</td>\n",
       "      <td>2020</td>\n",
       "    </tr>\n",
       "    <tr>\n",
       "      <th>1971</th>\n",
       "      <td>22</td>\n",
       "      <td>Miami</td>\n",
       "      <td>16</td>\n",
       "      <td>2020</td>\n",
       "    </tr>\n",
       "    <tr>\n",
       "      <th>1972</th>\n",
       "      <td>23</td>\n",
       "      <td>Ball State</td>\n",
       "      <td>16</td>\n",
       "      <td>2020</td>\n",
       "    </tr>\n",
       "    <tr>\n",
       "      <th>1973</th>\n",
       "      <td>24</td>\n",
       "      <td>San José State</td>\n",
       "      <td>16</td>\n",
       "      <td>2020</td>\n",
       "    </tr>\n",
       "    <tr>\n",
       "      <th>1974</th>\n",
       "      <td>25</td>\n",
       "      <td>Buffalo</td>\n",
       "      <td>16</td>\n",
       "      <td>2020</td>\n",
       "    </tr>\n",
       "  </tbody>\n",
       "</table>\n",
       "<p>1975 rows × 4 columns</p>\n",
       "</div>"
      ],
      "text/plain": [
       "      AP_rank            Team  Week  year\n",
       "0           1         Georgia     1  2024\n",
       "1           2      Ohio State     1  2024\n",
       "2           3          Oregon     1  2024\n",
       "3           4           Texas     1  2024\n",
       "4           5         Alabama     1  2024\n",
       "...       ...             ...   ...   ...\n",
       "1970       21             USC    16  2020\n",
       "1971       22           Miami    16  2020\n",
       "1972       23      Ball State    16  2020\n",
       "1973       24  San José State    16  2020\n",
       "1974       25         Buffalo    16  2020\n",
       "\n",
       "[1975 rows x 4 columns]"
      ]
     },
     "execution_count": 6,
     "metadata": {},
     "output_type": "execute_result"
    }
   ],
   "source": [
    "df"
   ]
  },
  {
   "cell_type": "code",
   "execution_count": 9,
   "id": "ff92cdc4",
   "metadata": {},
   "outputs": [
    {
     "data": {
      "text/plain": [
       "array([ 1,  2,  3,  4,  5,  6,  7,  8,  9, 10, 11, 12, 13, 14, 15, 16, 17,\n",
       "       18, 19, 20, 21, 22, 23, 24, 25])"
      ]
     },
     "execution_count": 9,
     "metadata": {},
     "output_type": "execute_result"
    }
   ],
   "source": [
    "df['AP_rank'].unique()"
   ]
  },
  {
   "cell_type": "code",
   "execution_count": 10,
   "id": "e8fd7136",
   "metadata": {},
   "outputs": [
    {
     "data": {
      "text/plain": [
       "AP_rank\n",
       "8     81\n",
       "11    81\n",
       "3     80\n",
       "16    80\n",
       "2     80\n",
       "21    80\n",
       "7     79\n",
       "1     79\n",
       "5     79\n",
       "23    79\n",
       "24    79\n",
       "6     79\n",
       "13    79\n",
       "15    79\n",
       "14    79\n",
       "18    79\n",
       "10    79\n",
       "25    79\n",
       "20    79\n",
       "19    79\n",
       "17    78\n",
       "22    78\n",
       "4     77\n",
       "9     77\n",
       "12    77\n",
       "Name: count, dtype: int64"
      ]
     },
     "execution_count": 10,
     "metadata": {},
     "output_type": "execute_result"
    }
   ],
   "source": [
    "df['AP_rank'].value_counts()"
   ]
  },
  {
   "cell_type": "code",
   "execution_count": 11,
   "id": "59ce16ba",
   "metadata": {},
   "outputs": [
    {
     "data": {
      "text/plain": [
       "np.int64(0)"
      ]
     },
     "execution_count": 11,
     "metadata": {},
     "output_type": "execute_result"
    }
   ],
   "source": [
    "df['AP_rank'].isna().sum()"
   ]
  },
  {
   "cell_type": "code",
   "execution_count": 12,
   "id": "4538b3b5",
   "metadata": {},
   "outputs": [
    {
     "data": {
      "text/plain": [
       "np.int64(0)"
      ]
     },
     "execution_count": 12,
     "metadata": {},
     "output_type": "execute_result"
    }
   ],
   "source": [
    "df['Team'].isna().sum()"
   ]
  },
  {
   "cell_type": "code",
   "execution_count": 13,
   "id": "407d8545",
   "metadata": {},
   "outputs": [
    {
     "data": {
      "text/plain": [
       "array(['Georgia', 'Ohio State', 'Oregon', 'Texas', 'Alabama', 'Ole Miss',\n",
       "       'Notre Dame', 'Michigan', 'Penn State', 'Florida State',\n",
       "       'Missouri', 'LSU', 'Utah', 'Clemson', 'Tennessee', 'Oklahoma',\n",
       "       'Kansas State', 'Oklahoma State', 'Miami', 'Texas A&M', 'Arizona',\n",
       "       'NC State', 'USC', 'Kansas', 'Iowa', 'Louisville', 'Washington',\n",
       "       'Iowa State', 'Nebraska', 'Memphis', 'UNLV', 'Illinois', 'BYU',\n",
       "       'Indiana', 'Boise State', 'Pittsburgh', 'SMU', 'Army', 'Navy',\n",
       "       'Vanderbilt', 'Washington State', 'Colorado', 'South Carolina',\n",
       "       'Tulane', 'Arizona State', 'Syracuse', 'TCU', 'Oregon State',\n",
       "       'North Carolina', 'Wisconsin', 'Texas Tech', 'Duke', 'UCLA',\n",
       "       'Florida', 'Kentucky', 'Fresno State', 'Air Force',\n",
       "       'James Madison', 'Liberty', 'Toledo', 'West Virginia', 'Baylor',\n",
       "       'Michigan State', 'Wake Forest', 'Cincinnati', 'Arkansas',\n",
       "       'Houston', 'Minnesota', 'Mississippi State', 'UCF',\n",
       "       'Coastal Carolina', 'UTSA', 'Troy', 'Louisiana', 'Virginia Tech',\n",
       "       'Auburn', 'San Diego State', 'Utah State', 'Appalachian State',\n",
       "       'Marshall', 'Northwestern', 'Tulsa', 'Buffalo', 'Ball State',\n",
       "       'San José State'], dtype=object)"
      ]
     },
     "execution_count": 13,
     "metadata": {},
     "output_type": "execute_result"
    }
   ],
   "source": [
    "df['Team'].unique()"
   ]
  },
  {
   "cell_type": "code",
   "execution_count": 14,
   "id": "046d8236",
   "metadata": {},
   "outputs": [
    {
     "data": {
      "text/plain": [
       "Team\n",
       "Georgia              79\n",
       "Alabama              79\n",
       "Ohio State           78\n",
       "Oregon               74\n",
       "Notre Dame           71\n",
       "                     ..\n",
       "West Virginia         1\n",
       "Utah State            1\n",
       "Appalachian State     1\n",
       "Ball State            1\n",
       "San José State        1\n",
       "Name: count, Length: 85, dtype: int64"
      ]
     },
     "execution_count": 14,
     "metadata": {},
     "output_type": "execute_result"
    }
   ],
   "source": [
    "df['Team'].value_counts()"
   ]
  },
  {
   "cell_type": "code",
   "execution_count": 15,
   "id": "6e34d0c9",
   "metadata": {},
   "outputs": [
    {
     "data": {
      "text/plain": [
       "array([ 1,  2,  3,  4,  5,  6,  7,  8,  9, 10, 11, 12, 13, 14, 15, 16])"
      ]
     },
     "execution_count": 15,
     "metadata": {},
     "output_type": "execute_result"
    }
   ],
   "source": [
    "df['Week'].unique()"
   ]
  },
  {
   "cell_type": "code",
   "execution_count": 16,
   "id": "ae4c6bdc",
   "metadata": {},
   "outputs": [
    {
     "data": {
      "text/plain": [
       "np.int64(0)"
      ]
     },
     "execution_count": 16,
     "metadata": {},
     "output_type": "execute_result"
    }
   ],
   "source": [
    "df['Week'].isna().sum()"
   ]
  },
  {
   "cell_type": "code",
   "execution_count": 17,
   "id": "d04cf58b",
   "metadata": {},
   "outputs": [
    {
     "data": {
      "text/plain": [
       "Week\n",
       "1     125\n",
       "3     125\n",
       "4     125\n",
       "5     125\n",
       "7     125\n",
       "6     125\n",
       "8     125\n",
       "9     125\n",
       "13    125\n",
       "10    125\n",
       "11    125\n",
       "12    125\n",
       "15    125\n",
       "14    125\n",
       "16    125\n",
       "2     100\n",
       "Name: count, dtype: int64"
      ]
     },
     "execution_count": 17,
     "metadata": {},
     "output_type": "execute_result"
    }
   ],
   "source": [
    "df['Week'].value_counts()"
   ]
  },
  {
   "cell_type": "code",
   "execution_count": 20,
   "id": "069c3d2f",
   "metadata": {},
   "outputs": [
    {
     "data": {
      "text/plain": [
       "array([2024, 2023, 2022, 2021, 2020])"
      ]
     },
     "execution_count": 20,
     "metadata": {},
     "output_type": "execute_result"
    }
   ],
   "source": [
    "df['year'].unique()"
   ]
  }
 ],
 "metadata": {
  "kernelspec": {
   "display_name": "Python 3",
   "language": "python",
   "name": "python3"
  },
  "language_info": {
   "codemirror_mode": {
    "name": "ipython",
    "version": 3
   },
   "file_extension": ".py",
   "mimetype": "text/x-python",
   "name": "python",
   "nbconvert_exporter": "python",
   "pygments_lexer": "ipython3",
   "version": "3.13.5"
  }
 },
 "nbformat": 4,
 "nbformat_minor": 5
}
