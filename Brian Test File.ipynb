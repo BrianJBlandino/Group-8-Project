{
 "cells": [
  {
   "cell_type": "code",
   "execution_count": 124,
   "id": "7a5ea2c8",
   "metadata": {},
   "outputs": [],
   "source": [
    "import pandas as pd\n",
    "import numpy as np\n",
    "# pd.reset_option('display.max_rows')\n",
    "pd.set_option('display.max_rows', None)"
   ]
  },
  {
   "cell_type": "code",
   "execution_count": null,
   "id": "cbcc439b",
   "metadata": {},
   "outputs": [],
   "source": [
    "df = pd.read_csv('WeekByWeekRankings2020to2025.csv')\n",
    "df_copy = df.copy()"
   ]
  },
  {
   "cell_type": "code",
   "execution_count": null,
   "id": "d6d8a0d8",
   "metadata": {},
   "outputs": [],
   "source": [
    "df1 = pd.read_csv('CollegeFootballRankings24to20.csv')\n",
    "df_copy = df.copy()"
   ]
  },
  {
   "cell_type": "code",
   "execution_count": 123,
   "id": "9b0e1f08",
   "metadata": {},
   "outputs": [
    {
     "name": "stdout",
     "output_type": "stream",
     "text": [
      "Index(['AP_rank', 'Team', 'Week', 'year'], dtype='object')\n"
     ]
    }
   ],
   "source": [
    "headers = df.columns\n",
    "print(headers)"
   ]
  },
  {
   "cell_type": "code",
   "execution_count": 105,
   "id": "ff92cdc4",
   "metadata": {},
   "outputs": [
    {
     "data": {
      "text/plain": [
       "array([ 1,  2,  3,  4,  5,  6,  7,  8,  9, 10, 11, 12, 13, 14, 15, 16, 17,\n",
       "       18, 19, 20, 21, 22, 23, 24, 25])"
      ]
     },
     "execution_count": 105,
     "metadata": {},
     "output_type": "execute_result"
    }
   ],
   "source": [
    "df['AP_rank'].unique()"
   ]
  },
  {
   "cell_type": "code",
   "execution_count": 125,
   "id": "e8fd7136",
   "metadata": {},
   "outputs": [
    {
     "data": {
      "text/plain": [
       "AP_rank\n",
       "8     81\n",
       "11    81\n",
       "3     80\n",
       "16    80\n",
       "2     80\n",
       "21    80\n",
       "7     79\n",
       "1     79\n",
       "5     79\n",
       "23    79\n",
       "24    79\n",
       "6     79\n",
       "13    79\n",
       "15    79\n",
       "14    79\n",
       "18    79\n",
       "10    79\n",
       "25    79\n",
       "20    79\n",
       "19    79\n",
       "17    78\n",
       "22    78\n",
       "4     77\n",
       "9     77\n",
       "12    77\n",
       "Name: count, dtype: int64"
      ]
     },
     "execution_count": 125,
     "metadata": {},
     "output_type": "execute_result"
    }
   ],
   "source": [
    "df['AP_rank'].value_counts()"
   ]
  },
  {
   "cell_type": "code",
   "execution_count": 107,
   "id": "59ce16ba",
   "metadata": {},
   "outputs": [
    {
     "data": {
      "text/plain": [
       "np.int64(0)"
      ]
     },
     "execution_count": 107,
     "metadata": {},
     "output_type": "execute_result"
    }
   ],
   "source": [
    "df['AP_rank'].isna().sum()"
   ]
  },
  {
   "cell_type": "code",
   "execution_count": 108,
   "id": "4538b3b5",
   "metadata": {},
   "outputs": [
    {
     "data": {
      "text/plain": [
       "np.int64(0)"
      ]
     },
     "execution_count": 108,
     "metadata": {},
     "output_type": "execute_result"
    }
   ],
   "source": [
    "df['Team'].isna().sum()"
   ]
  },
  {
   "cell_type": "code",
   "execution_count": 109,
   "id": "407d8545",
   "metadata": {},
   "outputs": [
    {
     "data": {
      "text/plain": [
       "array(['Georgia', 'Ohio State', 'Oregon', 'Texas', 'Alabama', 'Ole Miss',\n",
       "       'Notre Dame', 'Michigan', 'Penn State', 'Florida State',\n",
       "       'Missouri', 'LSU', 'Utah', 'Clemson', 'Tennessee', 'Oklahoma',\n",
       "       'Kansas State', 'Oklahoma State', 'Miami', 'Texas A&M', 'Arizona',\n",
       "       'NC State', 'USC', 'Kansas', 'Iowa', 'Louisville', 'Washington',\n",
       "       'Iowa State', 'Nebraska', 'Memphis', 'UNLV', 'Illinois', 'BYU',\n",
       "       'Indiana', 'Boise State', 'Pittsburgh', 'SMU', 'Army', 'Navy',\n",
       "       'Vanderbilt', 'Washington State', 'Colorado', 'South Carolina',\n",
       "       'Tulane', 'Arizona State', 'Syracuse', 'TCU', 'Oregon State',\n",
       "       'North Carolina', 'Wisconsin', 'Texas Tech', 'Duke', 'UCLA',\n",
       "       'Florida', 'Kentucky', 'Fresno State', 'Air Force',\n",
       "       'James Madison', 'Liberty', 'Toledo', 'West Virginia', 'Baylor',\n",
       "       'Michigan State', 'Wake Forest', 'Cincinnati', 'Arkansas',\n",
       "       'Houston', 'Minnesota', 'Mississippi State', 'UCF',\n",
       "       'Coastal Carolina', 'UTSA', 'Troy', 'Louisiana', 'Virginia Tech',\n",
       "       'Auburn', 'San Diego State', 'Utah State', 'Appalachian State',\n",
       "       'Marshall', 'Northwestern', 'Tulsa', 'Buffalo', 'Ball State',\n",
       "       'San José State'], dtype=object)"
      ]
     },
     "execution_count": 109,
     "metadata": {},
     "output_type": "execute_result"
    }
   ],
   "source": [
    "df['Team'].unique()"
   ]
  },
  {
   "cell_type": "code",
   "execution_count": 126,
   "id": "046d8236",
   "metadata": {},
   "outputs": [
    {
     "data": {
      "text/plain": [
       "Team\n",
       "Georgia              79\n",
       "Alabama              79\n",
       "Ohio State           78\n",
       "Oregon               74\n",
       "Notre Dame           71\n",
       "Penn State           64\n",
       "Clemson              63\n",
       "Michigan             62\n",
       "Ole Miss             61\n",
       "Texas                56\n",
       "Oklahoma             56\n",
       "Oklahoma State       52\n",
       "Tennessee            50\n",
       "Texas A&M            49\n",
       "USC                  45\n",
       "BYU                  43\n",
       "Utah                 42\n",
       "LSU                  42\n",
       "Miami                40\n",
       "Cincinnati           37\n",
       "North Carolina       36\n",
       "Kansas State         34\n",
       "Iowa State           30\n",
       "Washington           29\n",
       "Iowa                 29\n",
       "NC State             28\n",
       "Florida              26\n",
       "Missouri             26\n",
       "Florida State        24\n",
       "Wisconsin            24\n",
       "SMU                  24\n",
       "Coastal Carolina     22\n",
       "Tulane               22\n",
       "Wake Forest          22\n",
       "Kentucky             21\n",
       "UCLA                 21\n",
       "Oregon State         21\n",
       "Indiana              20\n",
       "Pittsburgh           19\n",
       "Louisville           19\n",
       "Baylor               18\n",
       "Auburn               18\n",
       "Michigan State       17\n",
       "Louisiana            17\n",
       "Arkansas             16\n",
       "Illinois             14\n",
       "Army                 13\n",
       "Liberty              12\n",
       "TCU                  12\n",
       "Boise State          11\n",
       "UCF                  10\n",
       "Colorado             10\n",
       "Arizona               9\n",
       "UTSA                  9\n",
       "Virginia Tech         9\n",
       "Kansas                9\n",
       "South Carolina        9\n",
       "Syracuse              8\n",
       "Memphis               8\n",
       "Washington State      8\n",
       "Duke                  8\n",
       "Houston               8\n",
       "Arizona State         8\n",
       "Marshall              7\n",
       "James Madison         7\n",
       "UNLV                  7\n",
       "Mississippi State     7\n",
       "Northwestern          6\n",
       "San Diego State       6\n",
       "Fresno State          5\n",
       "Minnesota             5\n",
       "Air Force             3\n",
       "Nebraska              3\n",
       "Tulsa                 3\n",
       "Troy                  2\n",
       "Vanderbilt            2\n",
       "Toledo                2\n",
       "Buffalo               2\n",
       "Navy                  1\n",
       "Texas Tech            1\n",
       "West Virginia         1\n",
       "Utah State            1\n",
       "Appalachian State     1\n",
       "Ball State            1\n",
       "San José State        1\n",
       "Name: count, dtype: int64"
      ]
     },
     "execution_count": 126,
     "metadata": {},
     "output_type": "execute_result"
    }
   ],
   "source": [
    "df['Team'].value_counts()"
   ]
  },
  {
   "cell_type": "code",
   "execution_count": 111,
   "id": "6e34d0c9",
   "metadata": {},
   "outputs": [
    {
     "data": {
      "text/plain": [
       "array([ 1,  2,  3,  4,  5,  6,  7,  8,  9, 10, 11, 12, 13, 14, 15, 16])"
      ]
     },
     "execution_count": 111,
     "metadata": {},
     "output_type": "execute_result"
    }
   ],
   "source": [
    "df['Week'].unique()"
   ]
  },
  {
   "cell_type": "code",
   "execution_count": 112,
   "id": "ae4c6bdc",
   "metadata": {},
   "outputs": [
    {
     "data": {
      "text/plain": [
       "np.int64(0)"
      ]
     },
     "execution_count": 112,
     "metadata": {},
     "output_type": "execute_result"
    }
   ],
   "source": [
    "df['Week'].isna().sum()"
   ]
  },
  {
   "cell_type": "code",
   "execution_count": 128,
   "id": "d04cf58b",
   "metadata": {},
   "outputs": [
    {
     "data": {
      "text/plain": [
       "Week\n",
       "1     125\n",
       "3     125\n",
       "4     125\n",
       "5     125\n",
       "7     125\n",
       "6     125\n",
       "8     125\n",
       "9     125\n",
       "13    125\n",
       "10    125\n",
       "11    125\n",
       "12    125\n",
       "15    125\n",
       "14    125\n",
       "16    125\n",
       "2     100\n",
       "Name: count, dtype: int64"
      ]
     },
     "execution_count": 128,
     "metadata": {},
     "output_type": "execute_result"
    }
   ],
   "source": [
    "df['Week'].value_counts()"
   ]
  },
  {
   "cell_type": "code",
   "execution_count": 114,
   "id": "069c3d2f",
   "metadata": {},
   "outputs": [
    {
     "data": {
      "text/plain": [
       "array([2024, 2023, 2022, 2021, 2020])"
      ]
     },
     "execution_count": 114,
     "metadata": {},
     "output_type": "execute_result"
    }
   ],
   "source": [
    "df['year'].unique()"
   ]
  },
  {
   "cell_type": "code",
   "execution_count": 115,
   "id": "1da855a2",
   "metadata": {},
   "outputs": [
    {
     "data": {
      "text/plain": [
       "year\n",
       "2024    400\n",
       "2023    400\n",
       "2022    400\n",
       "2021    400\n",
       "2020    375\n",
       "Name: count, dtype: int64"
      ]
     },
     "execution_count": 115,
     "metadata": {},
     "output_type": "execute_result"
    }
   ],
   "source": [
    "df['year'].value_counts()"
   ]
  },
  {
   "cell_type": "code",
   "execution_count": 116,
   "id": "7e65dd0d",
   "metadata": {},
   "outputs": [
    {
     "data": {
      "text/plain": [
       "np.int64(0)"
      ]
     },
     "execution_count": 116,
     "metadata": {},
     "output_type": "execute_result"
    }
   ],
   "source": [
    "df['year'].isna().sum()"
   ]
  },
  {
   "cell_type": "code",
   "execution_count": 118,
   "id": "5ff022e5",
   "metadata": {},
   "outputs": [
    {
     "data": {
      "text/plain": [
       "array(['Air Force Falcons', 'Akron Zips', 'Alabama Crimson Tide',\n",
       "       'App State Mountaineers', 'Arizona State Sun Devils',\n",
       "       'Arizona Wildcats', 'Arkansas Razorbacks',\n",
       "       'Arkansas State Red Wolves', 'Army Black Knights', 'Auburn Tigers',\n",
       "       'Ball State Cardinals', 'Baylor Bears', 'Boise State Broncos',\n",
       "       'Boston College Eagles', 'Bowling Green Falcons', 'Buffalo Bulls',\n",
       "       'BYU Cougars', 'California Golden Bears',\n",
       "       'Central Michigan Chippewas', 'Charlotte 49ers',\n",
       "       'Cincinnati Bearcats', 'Clemson Tigers',\n",
       "       'Coastal Carolina Chanticleers', 'Colorado Buffaloes',\n",
       "       'Colorado State Rams', 'Duke Blue Devils', 'East Carolina Pirates',\n",
       "       'Eastern Michigan Eagles', 'Florida Atlantic Owls',\n",
       "       'Florida Gators', 'Florida International Panthers',\n",
       "       'Florida State Seminoles', 'Fresno State Bulldogs',\n",
       "       'Georgia Bulldogs', 'Georgia Southern Eagles',\n",
       "       'Georgia State Panthers', 'Georgia Tech Yellow Jackets',\n",
       "       \"Hawai'i Rainbow Warriors\", 'Houston Cougars',\n",
       "       'Illinois Fighting Illini', 'Indiana Hoosiers', 'Iowa Hawkeyes',\n",
       "       'Iowa State Cyclones', 'Jacksonville State Gamecocks',\n",
       "       'James Madison Dukes', 'Kansas Jayhawks', 'Kansas State Wildcats',\n",
       "       'Kennesaw State Owls', 'Kent State Golden Flashes',\n",
       "       'Kentucky Wildcats', 'Liberty Flames', \"Louisiana Ragin' Cajuns\",\n",
       "       'Louisiana Tech Bulldogs', 'Louisville Cardinals', 'LSU Tigers',\n",
       "       'Marshall Thundering Herd', 'Maryland Terrapins',\n",
       "       'Massachusetts Minutemen', 'Memphis Tigers', 'Miami (OH) RedHawks',\n",
       "       'Miami Hurricanes', 'Michigan State Spartans',\n",
       "       'Michigan Wolverines', 'Middle Tennessee Blue Raiders',\n",
       "       'Minnesota Golden Gophers', 'Mississippi State Bulldogs',\n",
       "       'Missouri Tigers', 'Navy Midshipmen', 'NC State Wolfpack',\n",
       "       'Nebraska Cornhuskers', 'Nevada Wolf Pack', 'New Mexico Lobos',\n",
       "       'New Mexico State Aggies', 'North Carolina Tar Heels',\n",
       "       'North Texas Mean Green', 'Northern Illinois Huskies',\n",
       "       'Northwestern Wildcats', 'Notre Dame Fighting Irish',\n",
       "       'Ohio Bobcats', 'Ohio State Buckeyes', 'Oklahoma Sooners',\n",
       "       'Oklahoma State Cowboys', 'Old Dominion Monarchs',\n",
       "       'Ole Miss Rebels', 'Oregon Ducks', 'Oregon State Beavers',\n",
       "       'Penn State Nittany Lions', 'Pittsburgh Panthers',\n",
       "       'Purdue Boilermakers', 'Rice Owls', 'Rutgers Scarlet Knights',\n",
       "       'Sam Houston Bearkats', 'San Diego State Aztecs',\n",
       "       'San José State Spartans', 'SMU Mustangs', 'South Alabama Jaguars',\n",
       "       'South Carolina Gamecocks', 'South Florida Bulls',\n",
       "       'Southern Miss Golden Eagles', 'Stanford Cardinal',\n",
       "       'Syracuse Orange', 'TCU Horned Frogs', 'Temple Owls',\n",
       "       'Tennessee Volunteers', 'Texas A&M Aggies', 'Texas Longhorns',\n",
       "       'Texas State Bobcats', 'Texas Tech Red Raiders', 'Toledo Rockets',\n",
       "       'Troy Trojans', 'Tulane Green Wave', 'Tulsa Golden Hurricane',\n",
       "       'UAB Blazers', 'UCF Knights', 'UCLA Bruins', 'UConn Huskies',\n",
       "       'UL Monroe Warhawks', 'UNLV Rebels', 'USC Trojans',\n",
       "       'Utah State Aggies', 'Utah Utes', 'UTEP Miners',\n",
       "       'UTSA Roadrunners', 'Vanderbilt Commodores', 'Virginia Cavaliers',\n",
       "       'Virginia Tech Hokies', 'Wake Forest Demon Deacons',\n",
       "       'Washington Huskies', 'Washington State Cougars',\n",
       "       'West Virginia Mountaineers', 'Western Kentucky Hilltoppers',\n",
       "       'Western Michigan Broncos', 'Wisconsin Badgers', 'Wyoming Cowboys'],\n",
       "      dtype=object)"
      ]
     },
     "execution_count": 118,
     "metadata": {},
     "output_type": "execute_result"
    }
   ],
   "source": [
    "df1['Team'].unique()"
   ]
  },
  {
   "cell_type": "code",
   "execution_count": 119,
   "id": "20fe1258",
   "metadata": {},
   "outputs": [
    {
     "data": {
      "text/plain": [
       "Team\n",
       "Georgia Bulldogs                65\n",
       "Alabama Crimson Tide            64\n",
       "Notre Dame Fighting Irish       63\n",
       "Iowa State Cyclones             63\n",
       "Clemson Tigers                  63\n",
       "                                ..\n",
       "James Madison Dukes             34\n",
       "Jacksonville State Gamecocks    18\n",
       "Sam Houston Bearkats            15\n",
       "App State Mountaineers           9\n",
       "Kennesaw State Owls              9\n",
       "Name: count, Length: 134, dtype: int64"
      ]
     },
     "execution_count": 119,
     "metadata": {},
     "output_type": "execute_result"
    }
   ],
   "source": [
    "df1['Team'].value_counts()"
   ]
  },
  {
   "cell_type": "code",
   "execution_count": 120,
   "id": "668fe125",
   "metadata": {},
   "outputs": [
    {
     "data": {
      "text/plain": [
       "np.int64(0)"
      ]
     },
     "execution_count": 120,
     "metadata": {},
     "output_type": "execute_result"
    }
   ],
   "source": [
    "df1['Team'].isna().sum()"
   ]
  },
  {
   "cell_type": "code",
   "execution_count": 121,
   "id": "f5ce78da",
   "metadata": {},
   "outputs": [
    {
     "data": {
      "text/plain": [
       "array(['Merrimack', 'Fresno State', 'San Diego State', 'Baylor',\n",
       "       'Wyoming', 'Navy', 'San José State', 'Colorado State', ' Army',\n",
       "       'New Mexico', 'Nevada', 'Oregon State', 'South Carolina',\n",
       "       ' Ohio State', 'Rutgers', 'Colgate', 'Bowling Green',\n",
       "       'Western Michigan', 'Eastern Michigan', 'Ohio', 'Buffalo',\n",
       "       'Oklahoma', 'Auburn', 'Western Kentucky', 'South Florida',\n",
       "       'Wisconsin', ' Georgia', 'Vanderbilt', ' Tennessee', ' Missouri',\n",
       "       ' LSU', 'Mercer', 'East Tennessee State', 'Georgia Southern',\n",
       "       'Louisiana', 'East Carolina', 'Marshall', ' Clemson',\n",
       "       'Old Dominion', 'James Madison', 'Georgia State', ' Utah',\n",
       "       'Arizona', 'UCF', ' Kansas State', ' BYU', 'Mississippi State',\n",
       "       'Texas Tech', 'Kansas', 'Cincinnati', 'Oklahoma State',\n",
       "       ' Iowa State ', 'Colorado', 'Northern Arizona', 'Houston', 'TCU',\n",
       "       'West Virginia', ' Arizona State', ' Ole Miss', 'Louisiana Tech',\n",
       "       'Texas Tech ', ' Oklahoma State', 'UAB', ' Texas A&M ', ' Texas',\n",
       "       'Central Arkansas', ' Iowa State', 'Tulsa', ' Michigan', 'Troy',\n",
       "       'South Alabama', 'Texas State', 'Southern Miss', 'UL Monroe',\n",
       "       'Lehigh', 'Florida Atlantic', 'Rice', 'North Texas', 'Air Force',\n",
       "       'Navy ', ' Notre Dame ', 'UTSA', 'Tulane', 'Louisiana Tech ',\n",
       "       'California', 'Alabama A&M', ' Texas A&M', ' Alabama', 'Arkansas',\n",
       "       ' Oklahoma', 'Kentucky', 'Northern Illinois', 'Missouri State',\n",
       "       ' Miami', 'Central Michigan', 'Kent State', 'Tarleton State',\n",
       "       'Utah State', 'UNLV', ' Oregon', 'Portland State',\n",
       "       'Washington State', ' UNLV', \"Hawai'i\", 'Michigan State',\n",
       "       'Nebraska ', 'Duquesne', 'Virginia', 'Louisville', 'Syracuse',\n",
       "       'North Carolina', 'Pittsburgh', ' SMU', ' Penn State',\n",
       "       'Miami (OH)', 'Akron', 'Ball State', 'Toledo', 'UConn',\n",
       "       'Massachusetts', ' Northern Illinois', 'Liberty ', ' Colorado ',\n",
       "       'Southern Illinois', 'SMU', 'Utah', 'NC State', 'Stanford',\n",
       "       'UC Davis', 'Florida State', ' Pittsburgh', 'Wake Forest',\n",
       "       'Illinois', 'Florida International', 'Indiana', 'Gardner-Webb',\n",
       "       ' Navy', 'Memphis', 'Towson', 'Arizona State', 'Iowa State',\n",
       "       'Kansas State', ' SMU ', ' Georgia ', 'App State', 'Virginia Tech',\n",
       "       'The Citadel', ' South Carolina', 'William & Mary', 'Temple',\n",
       "       'Nebraska', ' BYU ', 'Northern Colorado', 'UTEP', 'Miami (OH) ',\n",
       "       'Elon', 'Northwestern', 'Middle Tennessee', 'Georgia Tech',\n",
       "       'Norfolk State', 'Liberty', 'Charlotte', 'NC State ', 'Washington',\n",
       "       'Jacksonville State', 'St. Francis (PA)', 'Army', 'Wagner',\n",
       "       'Samford', 'Texas A&M', 'Tulane ', 'Monmouth', 'Kennesaw State',\n",
       "       'Florida', 'Georgia Tech ', 'Duke', 'Charleston Southern',\n",
       "       ' Notre Dame', 'Sacramento State', 'New Mexico State', 'UCLA',\n",
       "       'Tennessee Tech', ' Clemson ', 'Florida ', ' Texas ',\n",
       "       'Boise State', 'South Carolina State', 'Coastal Carolina',\n",
       "       'Chattanooga', 'Arkansas State', ' Florida State ', 'Vanderbilt ',\n",
       "       'VMI', ' Louisville', 'Delaware State', 'Sam Houston',\n",
       "       'Northern Iowa', ' Boise State', ' Nebraska', 'Minnesota',\n",
       "       ' Kansas', 'Northwestern ', 'Purdue', 'Western Illinois',\n",
       "       'Maryland', 'Michigan', 'Illinois State', 'North Dakota',\n",
       "       ' Arizona State ', ' Miami ', ' Iowa', 'Ohio ', ' Colorado',\n",
       "       'UT Martin', ' Arizona', 'BYU', 'Murray State', 'Campbell',\n",
       "       'Buffalo ', 'Grambling', 'TCU ', ' Army ', 'Nicholls',\n",
       "       'Austin Peay', 'Boston College', 'Stony Brook', 'Villanova', 'USC',\n",
       "       'Iowa', 'Central Connecticut', 'North Alabama', 'Colorado State ',\n",
       "       'Florida A&M', 'Prairie View A&M', ' Indiana', ' Illinois', ' USC',\n",
       "       'Virginia Tech ', 'Rhode Island', 'Eastern Kentucky',\n",
       "       ' Boston College', ' Tulane', 'Oklahoma ', 'Bucknell',\n",
       "       'Boston College ', 'Eastern Washington', 'Montana State',\n",
       "       ' Washington State', 'Southeast Missouri State',\n",
       "       'North Carolina Central', 'UConn ', 'Texas State ',\n",
       "       'Stephen F. Austin', ' Illinois ', 'Eastern Illinois', ' Navy ',\n",
       "       'Morgan State', 'Jacksonville State ', 'Maine', 'LSU',\n",
       "       'South Dakota State', 'Furman', 'Idaho', ' Penn State ',\n",
       "       'Idaho State', ' Oregon ', 'Youngstown State', 'Indiana State',\n",
       "       'Texas Southern', 'East Texas A&M', 'Houston Christian',\n",
       "       'Western Michigan ', 'Wofford', 'Bethune-Cookman', 'SE Louisiana',\n",
       "       'Cal Poly', ' Georgia Tech', 'Holy Cross', 'Washington State ',\n",
       "       'Long Island University', 'Louisiana ', ' NC State ', 'McNeese',\n",
       "       'Arkansas ', 'USC ', ' Ohio State ', ' Oklahoma ', ' Vanderbilt',\n",
       "       'Lamar', 'North Texas ', 'Sam Houston ', 'Abilene Christian',\n",
       "       'North Carolina ', 'Utah Tech', 'Texas A&M ', 'Robert Morris',\n",
       "       'Southern Utah', 'Alcorn State', 'Richmond', 'Minnesota ',\n",
       "       'Weber State', 'Washington ', ' Syracuse ', 'UAlbany',\n",
       "       'South Alabama ', 'South Dakota', 'Army ', 'James Madison ',\n",
       "       ' Washington', ' UCLA', ' Oregon State', 'Western Carolina',\n",
       "       'Northern Illinois ', ' Air Force ', 'Maryland ', 'UCLA ',\n",
       "       ' Florida State', 'Miami', ' Wisconsin', 'Fordham',\n",
       "       'New Hampshire', ' Florida', 'Kentucky ', ' North Carolina',\n",
       "       'San José State ', ' TCU', ' Air Force', 'Troy ', 'Lafayette',\n",
       "       'Appalachian State', 'Howard', 'Clemson', ' Duke', ' Louisville ',\n",
       "       'New Mexico State ', ' Kentucky', ' Alabama ', 'Utah State ',\n",
       "       'Louisville ', 'UCF ', ' Michigan ', 'Memphis ', 'Air Force ',\n",
       "       'Missouri', 'Northwestern State', 'Indiana ', 'Auburn ',\n",
       "       'Iowa State ', 'Missouri ', 'Toledo ', 'Appalachian State ',\n",
       "       ' Iowa ', ' Fresno State', 'Fresno State ', ' Liberty',\n",
       "       'South Carolina ', ' NC State', 'Arkansas State ', 'Utah ',\n",
       "       'Iowa ', ' Oregon State ', 'Tennessee State', 'Georgia Southern ',\n",
       "       ' Missouri ', 'Texas A&M-Commerce', ' James Madison',\n",
       "       ' Washington ', 'Delaware', ' Ole Miss ', 'Syracuse ',\n",
       "       'Coastal Carolina ', ' North Carolina ', 'Pittsburgh ',\n",
       "       'Virginia ', ' Oklahoma State ', 'Jackson State', 'California ',\n",
       "       'Wyoming ', 'Duke ', 'Boise State ', 'Sacred Heart', 'Bryant',\n",
       "       'Georgia State ', 'Incarnate Word', ' Tennessee ',\n",
       "       ' Michigan State', 'Texas', ' Mississippi State', ' Kansas State ',\n",
       "       ' Arkansas', 'North Dakota State', ' Cincinnati', ' Wake Forest',\n",
       "       'Albany', 'Notre Dame ', 'SMU ', ' Baylor', 'Notre Dame',\n",
       "       ' Syracuse', 'North Carolina A&T', 'South Florida ', ' LSU ',\n",
       "       ' TCU ', 'Houston ', 'Cincinnati ', 'Southern', 'Tennessee',\n",
       "       ' UCF', 'UAB ', 'Purdue ', 'San Diego State ', 'Wake Forest ',\n",
       "       'Valparaiso', 'BYU ', 'Penn State', 'Texas ',\n",
       "       'Arkansas-Pine Bluff', 'Montana State ', ' Minnesota',\n",
       "       'Southern Miss ', 'Middle Tennessee ', 'Georgia', 'East Carolina ',\n",
       "       'Rice ', 'Tarleton', ' Arkansas ', ' Houston', 'UTSA ',\n",
       "       'Alabama State', ' Utah ', ' USC ', ' San Diego State',\n",
       "       ' Cincinnati ', 'Penn State ', 'Ole Miss', ' Coastal Carolina',\n",
       "       'Arizona ', 'Alabama', 'UTEP ', ' Auburn', 'Ball State ',\n",
       "       'Ohio State', ' Kentucky ', 'Stanford ', 'Eastern Michigan ',\n",
       "       'Marshall ', ' UTSA', ' Louisiana ', ' Pittsburgh ', 'Rutgers ',\n",
       "       'Kent State ', ' Wisconsin ', ' Purdue', ' Baylor ', 'Hampton',\n",
       "       ' Wake Forest ', 'Oregon', 'Kansas State ', 'Colorado ',\n",
       "       ' Louisiana', 'Yale', 'Oregon State ', 'Montana',\n",
       "       'Central Michigan ', ' Virginia Tech', ' Florida ',\n",
       "       ' Northwestern ', ' Tulsa', ' Marshall', 'New Mexico ',\n",
       "       'Western Kentucky ', ' Northwestern', 'Ole Miss ',\n",
       "       ' Coastal Carolina ', 'Southern Mississippi', 'Houston Baptist',\n",
       "       ' Appalachian State', 'Nevada ', 'Ohio State ', ' Indiana ',\n",
       "       ' Memphis'], dtype=object)"
      ]
     },
     "execution_count": 121,
     "metadata": {},
     "output_type": "execute_result"
    }
   ],
   "source": [
    "df1['opponent'].unique()"
   ]
  },
  {
   "cell_type": "code",
   "execution_count": 122,
   "id": "66a26417",
   "metadata": {},
   "outputs": [
    {
     "data": {
      "text/plain": [
       "opponent\n",
       "Vanderbilt           54\n",
       "Hawai'i              53\n",
       " Alabama             52\n",
       "Rutgers              52\n",
       "UTSA                 52\n",
       "                     ..\n",
       "Yale                  1\n",
       "Oregon State          1\n",
       "Montana               1\n",
       "Central Michigan      1\n",
       " Memphis              1\n",
       "Name: count, Length: 481, dtype: int64"
      ]
     },
     "execution_count": 122,
     "metadata": {},
     "output_type": "execute_result"
    }
   ],
   "source": [
    "df1['opponent'].value_counts()"
   ]
  }
 ],
 "metadata": {
  "kernelspec": {
   "display_name": "Python 3",
   "language": "python",
   "name": "python3"
  },
  "language_info": {
   "codemirror_mode": {
    "name": "ipython",
    "version": 3
   },
   "file_extension": ".py",
   "mimetype": "text/x-python",
   "name": "python",
   "nbconvert_exporter": "python",
   "pygments_lexer": "ipython3",
   "version": "3.13.5"
  }
 },
 "nbformat": 4,
 "nbformat_minor": 5
}
