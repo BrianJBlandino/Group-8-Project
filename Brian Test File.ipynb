{
 "cells": [
  {
   "cell_type": "code",
   "execution_count": 101,
   "id": "7a5ea2c8",
   "metadata": {},
   "outputs": [],
   "source": [
    "import pandas as pd\n",
    "import numpy as np\n",
    "# cpd.reset_option('display.max_rows')\n",
    "# pd.set_option('display.max_rows', None)"
   ]
  },
  {
   "cell_type": "code",
   "execution_count": 102,
   "id": "cbcc439b",
   "metadata": {},
   "outputs": [],
   "source": [
    "df = pd.read_csv('WeekByWeekRankings2020to2025.csv')\n",
    "df\n",
    "df_copy = df.copy()"
   ]
  },
  {
   "cell_type": "code",
   "execution_count": 103,
   "id": "d6d8a0d8",
   "metadata": {},
   "outputs": [],
   "source": [
    "df1 = pd.read_csv('CollegeFootballRankings24to20.csv')\n",
    "df1\n",
    "df_copy = df.copy()"
   ]
  },
  {
   "cell_type": "code",
   "execution_count": 104,
   "id": "e24808d5",
   "metadata": {},
   "outputs": [
    {
     "data": {
      "text/html": [
       "<div>\n",
       "<style scoped>\n",
       "    .dataframe tbody tr th:only-of-type {\n",
       "        vertical-align: middle;\n",
       "    }\n",
       "\n",
       "    .dataframe tbody tr th {\n",
       "        vertical-align: top;\n",
       "    }\n",
       "\n",
       "    .dataframe thead th {\n",
       "        text-align: right;\n",
       "    }\n",
       "</style>\n",
       "<table border=\"1\" class=\"dataframe\">\n",
       "  <thead>\n",
       "    <tr style=\"text-align: right;\">\n",
       "      <th></th>\n",
       "      <th>AP_rank</th>\n",
       "      <th>Team</th>\n",
       "      <th>Week</th>\n",
       "      <th>year</th>\n",
       "    </tr>\n",
       "  </thead>\n",
       "  <tbody>\n",
       "    <tr>\n",
       "      <th>0</th>\n",
       "      <td>1</td>\n",
       "      <td>Georgia</td>\n",
       "      <td>1</td>\n",
       "      <td>2024</td>\n",
       "    </tr>\n",
       "    <tr>\n",
       "      <th>1</th>\n",
       "      <td>2</td>\n",
       "      <td>Ohio State</td>\n",
       "      <td>1</td>\n",
       "      <td>2024</td>\n",
       "    </tr>\n",
       "    <tr>\n",
       "      <th>2</th>\n",
       "      <td>3</td>\n",
       "      <td>Oregon</td>\n",
       "      <td>1</td>\n",
       "      <td>2024</td>\n",
       "    </tr>\n",
       "    <tr>\n",
       "      <th>3</th>\n",
       "      <td>4</td>\n",
       "      <td>Texas</td>\n",
       "      <td>1</td>\n",
       "      <td>2024</td>\n",
       "    </tr>\n",
       "    <tr>\n",
       "      <th>4</th>\n",
       "      <td>5</td>\n",
       "      <td>Alabama</td>\n",
       "      <td>1</td>\n",
       "      <td>2024</td>\n",
       "    </tr>\n",
       "    <tr>\n",
       "      <th>...</th>\n",
       "      <td>...</td>\n",
       "      <td>...</td>\n",
       "      <td>...</td>\n",
       "      <td>...</td>\n",
       "    </tr>\n",
       "    <tr>\n",
       "      <th>1970</th>\n",
       "      <td>21</td>\n",
       "      <td>USC</td>\n",
       "      <td>16</td>\n",
       "      <td>2020</td>\n",
       "    </tr>\n",
       "    <tr>\n",
       "      <th>1971</th>\n",
       "      <td>22</td>\n",
       "      <td>Miami</td>\n",
       "      <td>16</td>\n",
       "      <td>2020</td>\n",
       "    </tr>\n",
       "    <tr>\n",
       "      <th>1972</th>\n",
       "      <td>23</td>\n",
       "      <td>Ball State</td>\n",
       "      <td>16</td>\n",
       "      <td>2020</td>\n",
       "    </tr>\n",
       "    <tr>\n",
       "      <th>1973</th>\n",
       "      <td>24</td>\n",
       "      <td>San José State</td>\n",
       "      <td>16</td>\n",
       "      <td>2020</td>\n",
       "    </tr>\n",
       "    <tr>\n",
       "      <th>1974</th>\n",
       "      <td>25</td>\n",
       "      <td>Buffalo</td>\n",
       "      <td>16</td>\n",
       "      <td>2020</td>\n",
       "    </tr>\n",
       "  </tbody>\n",
       "</table>\n",
       "<p>1975 rows × 4 columns</p>\n",
       "</div>"
      ],
      "text/plain": [
       "      AP_rank            Team  Week  year\n",
       "0           1         Georgia     1  2024\n",
       "1           2      Ohio State     1  2024\n",
       "2           3          Oregon     1  2024\n",
       "3           4           Texas     1  2024\n",
       "4           5         Alabama     1  2024\n",
       "...       ...             ...   ...   ...\n",
       "1970       21             USC    16  2020\n",
       "1971       22           Miami    16  2020\n",
       "1972       23      Ball State    16  2020\n",
       "1973       24  San José State    16  2020\n",
       "1974       25         Buffalo    16  2020\n",
       "\n",
       "[1975 rows x 4 columns]"
      ]
     },
     "execution_count": 104,
     "metadata": {},
     "output_type": "execute_result"
    }
   ],
   "source": [
    "df"
   ]
  },
  {
   "cell_type": "code",
   "execution_count": 105,
   "id": "ff92cdc4",
   "metadata": {},
   "outputs": [
    {
     "data": {
      "text/plain": [
       "array([ 1,  2,  3,  4,  5,  6,  7,  8,  9, 10, 11, 12, 13, 14, 15, 16, 17,\n",
       "       18, 19, 20, 21, 22, 23, 24, 25])"
      ]
     },
     "execution_count": 105,
     "metadata": {},
     "output_type": "execute_result"
    }
   ],
   "source": [
    "df['AP_rank'].unique()"
   ]
  },
  {
   "cell_type": "code",
   "execution_count": 106,
   "id": "e8fd7136",
   "metadata": {},
   "outputs": [
    {
     "data": {
      "text/plain": [
       "AP_rank\n",
       "8     81\n",
       "11    81\n",
       "3     80\n",
       "16    80\n",
       "2     80\n",
       "21    80\n",
       "7     79\n",
       "1     79\n",
       "5     79\n",
       "23    79\n",
       "24    79\n",
       "6     79\n",
       "13    79\n",
       "15    79\n",
       "14    79\n",
       "18    79\n",
       "10    79\n",
       "25    79\n",
       "20    79\n",
       "19    79\n",
       "17    78\n",
       "22    78\n",
       "4     77\n",
       "9     77\n",
       "12    77\n",
       "Name: count, dtype: int64"
      ]
     },
     "execution_count": 106,
     "metadata": {},
     "output_type": "execute_result"
    }
   ],
   "source": [
    "df['AP_rank'].value_counts()"
   ]
  },
  {
   "cell_type": "code",
   "execution_count": 107,
   "id": "59ce16ba",
   "metadata": {},
   "outputs": [
    {
     "data": {
      "text/plain": [
       "np.int64(0)"
      ]
     },
     "execution_count": 107,
     "metadata": {},
     "output_type": "execute_result"
    }
   ],
   "source": [
    "df['AP_rank'].isna().sum()"
   ]
  },
  {
   "cell_type": "code",
   "execution_count": 108,
   "id": "4538b3b5",
   "metadata": {},
   "outputs": [
    {
     "data": {
      "text/plain": [
       "np.int64(0)"
      ]
     },
     "execution_count": 108,
     "metadata": {},
     "output_type": "execute_result"
    }
   ],
   "source": [
    "df['Team'].isna().sum()"
   ]
  },
  {
   "cell_type": "code",
   "execution_count": 109,
   "id": "407d8545",
   "metadata": {},
   "outputs": [
    {
     "data": {
      "text/plain": [
       "array(['Georgia', 'Ohio State', 'Oregon', 'Texas', 'Alabama', 'Ole Miss',\n",
       "       'Notre Dame', 'Michigan', 'Penn State', 'Florida State',\n",
       "       'Missouri', 'LSU', 'Utah', 'Clemson', 'Tennessee', 'Oklahoma',\n",
       "       'Kansas State', 'Oklahoma State', 'Miami', 'Texas A&M', 'Arizona',\n",
       "       'NC State', 'USC', 'Kansas', 'Iowa', 'Louisville', 'Washington',\n",
       "       'Iowa State', 'Nebraska', 'Memphis', 'UNLV', 'Illinois', 'BYU',\n",
       "       'Indiana', 'Boise State', 'Pittsburgh', 'SMU', 'Army', 'Navy',\n",
       "       'Vanderbilt', 'Washington State', 'Colorado', 'South Carolina',\n",
       "       'Tulane', 'Arizona State', 'Syracuse', 'TCU', 'Oregon State',\n",
       "       'North Carolina', 'Wisconsin', 'Texas Tech', 'Duke', 'UCLA',\n",
       "       'Florida', 'Kentucky', 'Fresno State', 'Air Force',\n",
       "       'James Madison', 'Liberty', 'Toledo', 'West Virginia', 'Baylor',\n",
       "       'Michigan State', 'Wake Forest', 'Cincinnati', 'Arkansas',\n",
       "       'Houston', 'Minnesota', 'Mississippi State', 'UCF',\n",
       "       'Coastal Carolina', 'UTSA', 'Troy', 'Louisiana', 'Virginia Tech',\n",
       "       'Auburn', 'San Diego State', 'Utah State', 'Appalachian State',\n",
       "       'Marshall', 'Northwestern', 'Tulsa', 'Buffalo', 'Ball State',\n",
       "       'San José State'], dtype=object)"
      ]
     },
     "execution_count": 109,
     "metadata": {},
     "output_type": "execute_result"
    }
   ],
   "source": [
    "df['Team'].unique()"
   ]
  },
  {
   "cell_type": "code",
   "execution_count": 110,
   "id": "046d8236",
   "metadata": {},
   "outputs": [
    {
     "data": {
      "text/plain": [
       "Team\n",
       "Georgia              79\n",
       "Alabama              79\n",
       "Ohio State           78\n",
       "Oregon               74\n",
       "Notre Dame           71\n",
       "                     ..\n",
       "West Virginia         1\n",
       "Utah State            1\n",
       "Appalachian State     1\n",
       "Ball State            1\n",
       "San José State        1\n",
       "Name: count, Length: 85, dtype: int64"
      ]
     },
     "execution_count": 110,
     "metadata": {},
     "output_type": "execute_result"
    }
   ],
   "source": [
    "df['Team'].value_counts()"
   ]
  },
  {
   "cell_type": "code",
   "execution_count": 111,
   "id": "6e34d0c9",
   "metadata": {},
   "outputs": [
    {
     "data": {
      "text/plain": [
       "array([ 1,  2,  3,  4,  5,  6,  7,  8,  9, 10, 11, 12, 13, 14, 15, 16])"
      ]
     },
     "execution_count": 111,
     "metadata": {},
     "output_type": "execute_result"
    }
   ],
   "source": [
    "df['Week'].unique()"
   ]
  },
  {
   "cell_type": "code",
   "execution_count": 112,
   "id": "ae4c6bdc",
   "metadata": {},
   "outputs": [
    {
     "data": {
      "text/plain": [
       "np.int64(0)"
      ]
     },
     "execution_count": 112,
     "metadata": {},
     "output_type": "execute_result"
    }
   ],
   "source": [
    "df['Week'].isna().sum()"
   ]
  },
  {
   "cell_type": "code",
   "execution_count": 113,
   "id": "d04cf58b",
   "metadata": {},
   "outputs": [
    {
     "data": {
      "text/plain": [
       "Week\n",
       "1     125\n",
       "3     125\n",
       "4     125\n",
       "5     125\n",
       "7     125\n",
       "6     125\n",
       "8     125\n",
       "9     125\n",
       "13    125\n",
       "10    125\n",
       "11    125\n",
       "12    125\n",
       "15    125\n",
       "14    125\n",
       "16    125\n",
       "2     100\n",
       "Name: count, dtype: int64"
      ]
     },
     "execution_count": 113,
     "metadata": {},
     "output_type": "execute_result"
    }
   ],
   "source": [
    "df['Week'].value_counts()"
   ]
  },
  {
   "cell_type": "code",
   "execution_count": 114,
   "id": "069c3d2f",
   "metadata": {},
   "outputs": [
    {
     "data": {
      "text/plain": [
       "array([2024, 2023, 2022, 2021, 2020])"
      ]
     },
     "execution_count": 114,
     "metadata": {},
     "output_type": "execute_result"
    }
   ],
   "source": [
    "df['year'].unique()"
   ]
  },
  {
   "cell_type": "code",
   "execution_count": 115,
   "id": "1da855a2",
   "metadata": {},
   "outputs": [
    {
     "data": {
      "text/plain": [
       "year\n",
       "2024    400\n",
       "2023    400\n",
       "2022    400\n",
       "2021    400\n",
       "2020    375\n",
       "Name: count, dtype: int64"
      ]
     },
     "execution_count": 115,
     "metadata": {},
     "output_type": "execute_result"
    }
   ],
   "source": [
    "df['year'].value_counts()"
   ]
  },
  {
   "cell_type": "code",
   "execution_count": 116,
   "id": "7e65dd0d",
   "metadata": {},
   "outputs": [
    {
     "data": {
      "text/plain": [
       "np.int64(0)"
      ]
     },
     "execution_count": 116,
     "metadata": {},
     "output_type": "execute_result"
    }
   ],
   "source": [
    "df['year'].isna().sum()"
   ]
  },
  {
   "cell_type": "code",
   "execution_count": 117,
   "id": "74273e1f",
   "metadata": {},
   "outputs": [
    {
     "data": {
      "text/html": [
       "<div>\n",
       "<style scoped>\n",
       "    .dataframe tbody tr th:only-of-type {\n",
       "        vertical-align: middle;\n",
       "    }\n",
       "\n",
       "    .dataframe tbody tr th {\n",
       "        vertical-align: top;\n",
       "    }\n",
       "\n",
       "    .dataframe thead th {\n",
       "        text-align: right;\n",
       "    }\n",
       "</style>\n",
       "<table border=\"1\" class=\"dataframe\">\n",
       "  <thead>\n",
       "    <tr style=\"text-align: right;\">\n",
       "      <th></th>\n",
       "      <th>Team</th>\n",
       "      <th>date</th>\n",
       "      <th>opponent</th>\n",
       "      <th>win_loss</th>\n",
       "      <th>pass</th>\n",
       "      <th>rush</th>\n",
       "      <th>rec</th>\n",
       "      <th>points_allowed</th>\n",
       "      <th>points_scored</th>\n",
       "      <th>point_differential</th>\n",
       "      <th>home_game</th>\n",
       "      <th>season</th>\n",
       "      <th>CONF</th>\n",
       "      <th>SOR</th>\n",
       "      <th>FPI</th>\n",
       "      <th>AP/CFP</th>\n",
       "      <th>SOS</th>\n",
       "      <th>GC</th>\n",
       "      <th>AVGWP</th>\n",
       "    </tr>\n",
       "  </thead>\n",
       "  <tbody>\n",
       "    <tr>\n",
       "      <th>0</th>\n",
       "      <td>Air Force Falcons</td>\n",
       "      <td>Sat, Aug 31</td>\n",
       "      <td>Merrimack</td>\n",
       "      <td>W</td>\n",
       "      <td>71</td>\n",
       "      <td>63</td>\n",
       "      <td>21</td>\n",
       "      <td>6</td>\n",
       "      <td>21</td>\n",
       "      <td>15</td>\n",
       "      <td>True</td>\n",
       "      <td>2024</td>\n",
       "      <td>Mountain West</td>\n",
       "      <td>108</td>\n",
       "      <td>106</td>\n",
       "      <td>--</td>\n",
       "      <td>117</td>\n",
       "      <td>115</td>\n",
       "      <td>100</td>\n",
       "    </tr>\n",
       "    <tr>\n",
       "      <th>1</th>\n",
       "      <td>Air Force Falcons</td>\n",
       "      <td>Sat, Nov 9</td>\n",
       "      <td>Fresno State</td>\n",
       "      <td>W</td>\n",
       "      <td>14</td>\n",
       "      <td>120</td>\n",
       "      <td>11</td>\n",
       "      <td>28</td>\n",
       "      <td>36</td>\n",
       "      <td>8</td>\n",
       "      <td>True</td>\n",
       "      <td>2024</td>\n",
       "      <td>Mountain West</td>\n",
       "      <td>108</td>\n",
       "      <td>106</td>\n",
       "      <td>--</td>\n",
       "      <td>117</td>\n",
       "      <td>115</td>\n",
       "      <td>100</td>\n",
       "    </tr>\n",
       "    <tr>\n",
       "      <th>2</th>\n",
       "      <td>Air Force Falcons</td>\n",
       "      <td>Sat, Nov 30</td>\n",
       "      <td>San Diego State</td>\n",
       "      <td>W</td>\n",
       "      <td>76</td>\n",
       "      <td>125</td>\n",
       "      <td>76</td>\n",
       "      <td>20</td>\n",
       "      <td>31</td>\n",
       "      <td>11</td>\n",
       "      <td>False</td>\n",
       "      <td>2024</td>\n",
       "      <td>Mountain West</td>\n",
       "      <td>108</td>\n",
       "      <td>106</td>\n",
       "      <td>--</td>\n",
       "      <td>117</td>\n",
       "      <td>115</td>\n",
       "      <td>100</td>\n",
       "    </tr>\n",
       "    <tr>\n",
       "      <th>3</th>\n",
       "      <td>Air Force Falcons</td>\n",
       "      <td>Sat, Sep 14</td>\n",
       "      <td>Baylor</td>\n",
       "      <td>L</td>\n",
       "      <td>18</td>\n",
       "      <td>71</td>\n",
       "      <td>18</td>\n",
       "      <td>31</td>\n",
       "      <td>3</td>\n",
       "      <td>-28</td>\n",
       "      <td>False</td>\n",
       "      <td>2024</td>\n",
       "      <td>Mountain West</td>\n",
       "      <td>108</td>\n",
       "      <td>106</td>\n",
       "      <td>--</td>\n",
       "      <td>117</td>\n",
       "      <td>115</td>\n",
       "      <td>100</td>\n",
       "    </tr>\n",
       "    <tr>\n",
       "      <th>4</th>\n",
       "      <td>Air Force Falcons</td>\n",
       "      <td>Sat, Sep 28</td>\n",
       "      <td>Wyoming</td>\n",
       "      <td>L</td>\n",
       "      <td>115</td>\n",
       "      <td>54</td>\n",
       "      <td>106</td>\n",
       "      <td>31</td>\n",
       "      <td>19</td>\n",
       "      <td>-12</td>\n",
       "      <td>False</td>\n",
       "      <td>2024</td>\n",
       "      <td>Mountain West</td>\n",
       "      <td>108</td>\n",
       "      <td>106</td>\n",
       "      <td>--</td>\n",
       "      <td>117</td>\n",
       "      <td>115</td>\n",
       "      <td>100</td>\n",
       "    </tr>\n",
       "    <tr>\n",
       "      <th>...</th>\n",
       "      <td>...</td>\n",
       "      <td>...</td>\n",
       "      <td>...</td>\n",
       "      <td>...</td>\n",
       "      <td>...</td>\n",
       "      <td>...</td>\n",
       "      <td>...</td>\n",
       "      <td>...</td>\n",
       "      <td>...</td>\n",
       "      <td>...</td>\n",
       "      <td>...</td>\n",
       "      <td>...</td>\n",
       "      <td>...</td>\n",
       "      <td>...</td>\n",
       "      <td>...</td>\n",
       "      <td>...</td>\n",
       "      <td>...</td>\n",
       "      <td>...</td>\n",
       "      <td>...</td>\n",
       "    </tr>\n",
       "    <tr>\n",
       "      <th>7052</th>\n",
       "      <td>Wyoming Cowboys</td>\n",
       "      <td>Fri, Oct 30</td>\n",
       "      <td>Hawai'i</td>\n",
       "      <td>W</td>\n",
       "      <td>112</td>\n",
       "      <td>163</td>\n",
       "      <td>32</td>\n",
       "      <td>7</td>\n",
       "      <td>31</td>\n",
       "      <td>24</td>\n",
       "      <td>True</td>\n",
       "      <td>2020</td>\n",
       "      <td>Mountain West</td>\n",
       "      <td>100</td>\n",
       "      <td>73</td>\n",
       "      <td>--</td>\n",
       "      <td>117</td>\n",
       "      <td>95</td>\n",
       "      <td>74</td>\n",
       "    </tr>\n",
       "    <tr>\n",
       "      <th>7053</th>\n",
       "      <td>Wyoming Cowboys</td>\n",
       "      <td>Fri, Nov 27</td>\n",
       "      <td>UNLV</td>\n",
       "      <td>W</td>\n",
       "      <td>99</td>\n",
       "      <td>164</td>\n",
       "      <td>42</td>\n",
       "      <td>14</td>\n",
       "      <td>45</td>\n",
       "      <td>31</td>\n",
       "      <td>False</td>\n",
       "      <td>2020</td>\n",
       "      <td>Mountain West</td>\n",
       "      <td>100</td>\n",
       "      <td>73</td>\n",
       "      <td>--</td>\n",
       "      <td>117</td>\n",
       "      <td>95</td>\n",
       "      <td>74</td>\n",
       "    </tr>\n",
       "    <tr>\n",
       "      <th>7054</th>\n",
       "      <td>Wyoming Cowboys</td>\n",
       "      <td>Sat, Dec 5</td>\n",
       "      <td>New Mexico</td>\n",
       "      <td>L</td>\n",
       "      <td>73</td>\n",
       "      <td>154</td>\n",
       "      <td>54</td>\n",
       "      <td>17</td>\n",
       "      <td>16</td>\n",
       "      <td>-1</td>\n",
       "      <td>True</td>\n",
       "      <td>2020</td>\n",
       "      <td>Mountain West</td>\n",
       "      <td>100</td>\n",
       "      <td>73</td>\n",
       "      <td>--</td>\n",
       "      <td>117</td>\n",
       "      <td>95</td>\n",
       "      <td>74</td>\n",
       "    </tr>\n",
       "    <tr>\n",
       "      <th>7055</th>\n",
       "      <td>Wyoming Cowboys</td>\n",
       "      <td>Sat, Oct 24</td>\n",
       "      <td>Nevada</td>\n",
       "      <td>L</td>\n",
       "      <td>227</td>\n",
       "      <td>87</td>\n",
       "      <td>102</td>\n",
       "      <td>37</td>\n",
       "      <td>34</td>\n",
       "      <td>-3</td>\n",
       "      <td>False</td>\n",
       "      <td>2020</td>\n",
       "      <td>Mountain West</td>\n",
       "      <td>100</td>\n",
       "      <td>73</td>\n",
       "      <td>--</td>\n",
       "      <td>117</td>\n",
       "      <td>95</td>\n",
       "      <td>74</td>\n",
       "    </tr>\n",
       "    <tr>\n",
       "      <th>7056</th>\n",
       "      <td>Wyoming Cowboys</td>\n",
       "      <td>Sat, Dec 12</td>\n",
       "      <td>Boise State</td>\n",
       "      <td>L</td>\n",
       "      <td>45</td>\n",
       "      <td>59</td>\n",
       "      <td>29</td>\n",
       "      <td>17</td>\n",
       "      <td>9</td>\n",
       "      <td>-8</td>\n",
       "      <td>True</td>\n",
       "      <td>2020</td>\n",
       "      <td>Mountain West</td>\n",
       "      <td>100</td>\n",
       "      <td>73</td>\n",
       "      <td>--</td>\n",
       "      <td>117</td>\n",
       "      <td>95</td>\n",
       "      <td>74</td>\n",
       "    </tr>\n",
       "  </tbody>\n",
       "</table>\n",
       "<p>7057 rows × 19 columns</p>\n",
       "</div>"
      ],
      "text/plain": [
       "                   Team         date         opponent win_loss pass rush  rec  \\\n",
       "0     Air Force Falcons  Sat, Aug 31        Merrimack        W   71   63   21   \n",
       "1     Air Force Falcons   Sat, Nov 9     Fresno State        W   14  120   11   \n",
       "2     Air Force Falcons  Sat, Nov 30  San Diego State        W   76  125   76   \n",
       "3     Air Force Falcons  Sat, Sep 14           Baylor        L   18   71   18   \n",
       "4     Air Force Falcons  Sat, Sep 28          Wyoming        L  115   54  106   \n",
       "...                 ...          ...              ...      ...  ...  ...  ...   \n",
       "7052    Wyoming Cowboys  Fri, Oct 30          Hawai'i        W  112  163   32   \n",
       "7053    Wyoming Cowboys  Fri, Nov 27             UNLV        W   99  164   42   \n",
       "7054    Wyoming Cowboys   Sat, Dec 5      New Mexico         L   73  154   54   \n",
       "7055    Wyoming Cowboys  Sat, Oct 24           Nevada        L  227   87  102   \n",
       "7056    Wyoming Cowboys  Sat, Dec 12      Boise State        L   45   59   29   \n",
       "\n",
       "      points_allowed  points_scored  point_differential  home_game  season  \\\n",
       "0                  6             21                  15       True    2024   \n",
       "1                 28             36                   8       True    2024   \n",
       "2                 20             31                  11      False    2024   \n",
       "3                 31              3                 -28      False    2024   \n",
       "4                 31             19                 -12      False    2024   \n",
       "...              ...            ...                 ...        ...     ...   \n",
       "7052               7             31                  24       True    2020   \n",
       "7053              14             45                  31      False    2020   \n",
       "7054              17             16                  -1       True    2020   \n",
       "7055              37             34                  -3      False    2020   \n",
       "7056              17              9                  -8       True    2020   \n",
       "\n",
       "               CONF  SOR  FPI AP/CFP  SOS   GC  AVGWP  \n",
       "0     Mountain West  108  106     --  117  115    100  \n",
       "1     Mountain West  108  106     --  117  115    100  \n",
       "2     Mountain West  108  106     --  117  115    100  \n",
       "3     Mountain West  108  106     --  117  115    100  \n",
       "4     Mountain West  108  106     --  117  115    100  \n",
       "...             ...  ...  ...    ...  ...  ...    ...  \n",
       "7052  Mountain West  100   73     --  117   95     74  \n",
       "7053  Mountain West  100   73     --  117   95     74  \n",
       "7054  Mountain West  100   73     --  117   95     74  \n",
       "7055  Mountain West  100   73     --  117   95     74  \n",
       "7056  Mountain West  100   73     --  117   95     74  \n",
       "\n",
       "[7057 rows x 19 columns]"
      ]
     },
     "execution_count": 117,
     "metadata": {},
     "output_type": "execute_result"
    }
   ],
   "source": [
    "df1"
   ]
  },
  {
   "cell_type": "code",
   "execution_count": 118,
   "id": "5ff022e5",
   "metadata": {},
   "outputs": [
    {
     "data": {
      "text/plain": [
       "array(['Air Force Falcons', 'Akron Zips', 'Alabama Crimson Tide',\n",
       "       'App State Mountaineers', 'Arizona State Sun Devils',\n",
       "       'Arizona Wildcats', 'Arkansas Razorbacks',\n",
       "       'Arkansas State Red Wolves', 'Army Black Knights', 'Auburn Tigers',\n",
       "       'Ball State Cardinals', 'Baylor Bears', 'Boise State Broncos',\n",
       "       'Boston College Eagles', 'Bowling Green Falcons', 'Buffalo Bulls',\n",
       "       'BYU Cougars', 'California Golden Bears',\n",
       "       'Central Michigan Chippewas', 'Charlotte 49ers',\n",
       "       'Cincinnati Bearcats', 'Clemson Tigers',\n",
       "       'Coastal Carolina Chanticleers', 'Colorado Buffaloes',\n",
       "       'Colorado State Rams', 'Duke Blue Devils', 'East Carolina Pirates',\n",
       "       'Eastern Michigan Eagles', 'Florida Atlantic Owls',\n",
       "       'Florida Gators', 'Florida International Panthers',\n",
       "       'Florida State Seminoles', 'Fresno State Bulldogs',\n",
       "       'Georgia Bulldogs', 'Georgia Southern Eagles',\n",
       "       'Georgia State Panthers', 'Georgia Tech Yellow Jackets',\n",
       "       \"Hawai'i Rainbow Warriors\", 'Houston Cougars',\n",
       "       'Illinois Fighting Illini', 'Indiana Hoosiers', 'Iowa Hawkeyes',\n",
       "       'Iowa State Cyclones', 'Jacksonville State Gamecocks',\n",
       "       'James Madison Dukes', 'Kansas Jayhawks', 'Kansas State Wildcats',\n",
       "       'Kennesaw State Owls', 'Kent State Golden Flashes',\n",
       "       'Kentucky Wildcats', 'Liberty Flames', \"Louisiana Ragin' Cajuns\",\n",
       "       'Louisiana Tech Bulldogs', 'Louisville Cardinals', 'LSU Tigers',\n",
       "       'Marshall Thundering Herd', 'Maryland Terrapins',\n",
       "       'Massachusetts Minutemen', 'Memphis Tigers', 'Miami (OH) RedHawks',\n",
       "       'Miami Hurricanes', 'Michigan State Spartans',\n",
       "       'Michigan Wolverines', 'Middle Tennessee Blue Raiders',\n",
       "       'Minnesota Golden Gophers', 'Mississippi State Bulldogs',\n",
       "       'Missouri Tigers', 'Navy Midshipmen', 'NC State Wolfpack',\n",
       "       'Nebraska Cornhuskers', 'Nevada Wolf Pack', 'New Mexico Lobos',\n",
       "       'New Mexico State Aggies', 'North Carolina Tar Heels',\n",
       "       'North Texas Mean Green', 'Northern Illinois Huskies',\n",
       "       'Northwestern Wildcats', 'Notre Dame Fighting Irish',\n",
       "       'Ohio Bobcats', 'Ohio State Buckeyes', 'Oklahoma Sooners',\n",
       "       'Oklahoma State Cowboys', 'Old Dominion Monarchs',\n",
       "       'Ole Miss Rebels', 'Oregon Ducks', 'Oregon State Beavers',\n",
       "       'Penn State Nittany Lions', 'Pittsburgh Panthers',\n",
       "       'Purdue Boilermakers', 'Rice Owls', 'Rutgers Scarlet Knights',\n",
       "       'Sam Houston Bearkats', 'San Diego State Aztecs',\n",
       "       'San José State Spartans', 'SMU Mustangs', 'South Alabama Jaguars',\n",
       "       'South Carolina Gamecocks', 'South Florida Bulls',\n",
       "       'Southern Miss Golden Eagles', 'Stanford Cardinal',\n",
       "       'Syracuse Orange', 'TCU Horned Frogs', 'Temple Owls',\n",
       "       'Tennessee Volunteers', 'Texas A&M Aggies', 'Texas Longhorns',\n",
       "       'Texas State Bobcats', 'Texas Tech Red Raiders', 'Toledo Rockets',\n",
       "       'Troy Trojans', 'Tulane Green Wave', 'Tulsa Golden Hurricane',\n",
       "       'UAB Blazers', 'UCF Knights', 'UCLA Bruins', 'UConn Huskies',\n",
       "       'UL Monroe Warhawks', 'UNLV Rebels', 'USC Trojans',\n",
       "       'Utah State Aggies', 'Utah Utes', 'UTEP Miners',\n",
       "       'UTSA Roadrunners', 'Vanderbilt Commodores', 'Virginia Cavaliers',\n",
       "       'Virginia Tech Hokies', 'Wake Forest Demon Deacons',\n",
       "       'Washington Huskies', 'Washington State Cougars',\n",
       "       'West Virginia Mountaineers', 'Western Kentucky Hilltoppers',\n",
       "       'Western Michigan Broncos', 'Wisconsin Badgers', 'Wyoming Cowboys'],\n",
       "      dtype=object)"
      ]
     },
     "execution_count": 118,
     "metadata": {},
     "output_type": "execute_result"
    }
   ],
   "source": [
    "df1['Team'].unique()"
   ]
  },
  {
   "cell_type": "code",
   "execution_count": 119,
   "id": "20fe1258",
   "metadata": {},
   "outputs": [
    {
     "data": {
      "text/plain": [
       "Team\n",
       "Georgia Bulldogs                65\n",
       "Alabama Crimson Tide            64\n",
       "Notre Dame Fighting Irish       63\n",
       "Iowa State Cyclones             63\n",
       "Clemson Tigers                  63\n",
       "                                ..\n",
       "James Madison Dukes             34\n",
       "Jacksonville State Gamecocks    18\n",
       "Sam Houston Bearkats            15\n",
       "App State Mountaineers           9\n",
       "Kennesaw State Owls              9\n",
       "Name: count, Length: 134, dtype: int64"
      ]
     },
     "execution_count": 119,
     "metadata": {},
     "output_type": "execute_result"
    }
   ],
   "source": [
    "df1['Team'].value_counts()"
   ]
  },
  {
   "cell_type": "code",
   "execution_count": 120,
   "id": "668fe125",
   "metadata": {},
   "outputs": [
    {
     "data": {
      "text/plain": [
       "np.int64(0)"
      ]
     },
     "execution_count": 120,
     "metadata": {},
     "output_type": "execute_result"
    }
   ],
   "source": [
    "df1['Team'].isna().sum()"
   ]
  },
  {
   "cell_type": "code",
   "execution_count": 121,
   "id": "f5ce78da",
   "metadata": {},
   "outputs": [
    {
     "data": {
      "text/plain": [
       "array(['Merrimack', 'Fresno State', 'San Diego State', 'Baylor',\n",
       "       'Wyoming', 'Navy', 'San José State', 'Colorado State', ' Army',\n",
       "       'New Mexico', 'Nevada', 'Oregon State', 'South Carolina',\n",
       "       ' Ohio State', 'Rutgers', 'Colgate', 'Bowling Green',\n",
       "       'Western Michigan', 'Eastern Michigan', 'Ohio', 'Buffalo',\n",
       "       'Oklahoma', 'Auburn', 'Western Kentucky', 'South Florida',\n",
       "       'Wisconsin', ' Georgia', 'Vanderbilt', ' Tennessee', ' Missouri',\n",
       "       ' LSU', 'Mercer', 'East Tennessee State', 'Georgia Southern',\n",
       "       'Louisiana', 'East Carolina', 'Marshall', ' Clemson',\n",
       "       'Old Dominion', 'James Madison', 'Georgia State', ' Utah',\n",
       "       'Arizona', 'UCF', ' Kansas State', ' BYU', 'Mississippi State',\n",
       "       'Texas Tech', 'Kansas', 'Cincinnati', 'Oklahoma State',\n",
       "       ' Iowa State ', 'Colorado', 'Northern Arizona', 'Houston', 'TCU',\n",
       "       'West Virginia', ' Arizona State', ' Ole Miss', 'Louisiana Tech',\n",
       "       'Texas Tech ', ' Oklahoma State', 'UAB', ' Texas A&M ', ' Texas',\n",
       "       'Central Arkansas', ' Iowa State', 'Tulsa', ' Michigan', 'Troy',\n",
       "       'South Alabama', 'Texas State', 'Southern Miss', 'UL Monroe',\n",
       "       'Lehigh', 'Florida Atlantic', 'Rice', 'North Texas', 'Air Force',\n",
       "       'Navy ', ' Notre Dame ', 'UTSA', 'Tulane', 'Louisiana Tech ',\n",
       "       'California', 'Alabama A&M', ' Texas A&M', ' Alabama', 'Arkansas',\n",
       "       ' Oklahoma', 'Kentucky', 'Northern Illinois', 'Missouri State',\n",
       "       ' Miami', 'Central Michigan', 'Kent State', 'Tarleton State',\n",
       "       'Utah State', 'UNLV', ' Oregon', 'Portland State',\n",
       "       'Washington State', ' UNLV', \"Hawai'i\", 'Michigan State',\n",
       "       'Nebraska ', 'Duquesne', 'Virginia', 'Louisville', 'Syracuse',\n",
       "       'North Carolina', 'Pittsburgh', ' SMU', ' Penn State',\n",
       "       'Miami (OH)', 'Akron', 'Ball State', 'Toledo', 'UConn',\n",
       "       'Massachusetts', ' Northern Illinois', 'Liberty ', ' Colorado ',\n",
       "       'Southern Illinois', 'SMU', 'Utah', 'NC State', 'Stanford',\n",
       "       'UC Davis', 'Florida State', ' Pittsburgh', 'Wake Forest',\n",
       "       'Illinois', 'Florida International', 'Indiana', 'Gardner-Webb',\n",
       "       ' Navy', 'Memphis', 'Towson', 'Arizona State', 'Iowa State',\n",
       "       'Kansas State', ' SMU ', ' Georgia ', 'App State', 'Virginia Tech',\n",
       "       'The Citadel', ' South Carolina', 'William & Mary', 'Temple',\n",
       "       'Nebraska', ' BYU ', 'Northern Colorado', 'UTEP', 'Miami (OH) ',\n",
       "       'Elon', 'Northwestern', 'Middle Tennessee', 'Georgia Tech',\n",
       "       'Norfolk State', 'Liberty', 'Charlotte', 'NC State ', 'Washington',\n",
       "       'Jacksonville State', 'St. Francis (PA)', 'Army', 'Wagner',\n",
       "       'Samford', 'Texas A&M', 'Tulane ', 'Monmouth', 'Kennesaw State',\n",
       "       'Florida', 'Georgia Tech ', 'Duke', 'Charleston Southern',\n",
       "       ' Notre Dame', 'Sacramento State', 'New Mexico State', 'UCLA',\n",
       "       'Tennessee Tech', ' Clemson ', 'Florida ', ' Texas ',\n",
       "       'Boise State', 'South Carolina State', 'Coastal Carolina',\n",
       "       'Chattanooga', 'Arkansas State', ' Florida State ', 'Vanderbilt ',\n",
       "       'VMI', ' Louisville', 'Delaware State', 'Sam Houston',\n",
       "       'Northern Iowa', ' Boise State', ' Nebraska', 'Minnesota',\n",
       "       ' Kansas', 'Northwestern ', 'Purdue', 'Western Illinois',\n",
       "       'Maryland', 'Michigan', 'Illinois State', 'North Dakota',\n",
       "       ' Arizona State ', ' Miami ', ' Iowa', 'Ohio ', ' Colorado',\n",
       "       'UT Martin', ' Arizona', 'BYU', 'Murray State', 'Campbell',\n",
       "       'Buffalo ', 'Grambling', 'TCU ', ' Army ', 'Nicholls',\n",
       "       'Austin Peay', 'Boston College', 'Stony Brook', 'Villanova', 'USC',\n",
       "       'Iowa', 'Central Connecticut', 'North Alabama', 'Colorado State ',\n",
       "       'Florida A&M', 'Prairie View A&M', ' Indiana', ' Illinois', ' USC',\n",
       "       'Virginia Tech ', 'Rhode Island', 'Eastern Kentucky',\n",
       "       ' Boston College', ' Tulane', 'Oklahoma ', 'Bucknell',\n",
       "       'Boston College ', 'Eastern Washington', 'Montana State',\n",
       "       ' Washington State', 'Southeast Missouri State',\n",
       "       'North Carolina Central', 'UConn ', 'Texas State ',\n",
       "       'Stephen F. Austin', ' Illinois ', 'Eastern Illinois', ' Navy ',\n",
       "       'Morgan State', 'Jacksonville State ', 'Maine', 'LSU',\n",
       "       'South Dakota State', 'Furman', 'Idaho', ' Penn State ',\n",
       "       'Idaho State', ' Oregon ', 'Youngstown State', 'Indiana State',\n",
       "       'Texas Southern', 'East Texas A&M', 'Houston Christian',\n",
       "       'Western Michigan ', 'Wofford', 'Bethune-Cookman', 'SE Louisiana',\n",
       "       'Cal Poly', ' Georgia Tech', 'Holy Cross', 'Washington State ',\n",
       "       'Long Island University', 'Louisiana ', ' NC State ', 'McNeese',\n",
       "       'Arkansas ', 'USC ', ' Ohio State ', ' Oklahoma ', ' Vanderbilt',\n",
       "       'Lamar', 'North Texas ', 'Sam Houston ', 'Abilene Christian',\n",
       "       'North Carolina ', 'Utah Tech', 'Texas A&M ', 'Robert Morris',\n",
       "       'Southern Utah', 'Alcorn State', 'Richmond', 'Minnesota ',\n",
       "       'Weber State', 'Washington ', ' Syracuse ', 'UAlbany',\n",
       "       'South Alabama ', 'South Dakota', 'Army ', 'James Madison ',\n",
       "       ' Washington', ' UCLA', ' Oregon State', 'Western Carolina',\n",
       "       'Northern Illinois ', ' Air Force ', 'Maryland ', 'UCLA ',\n",
       "       ' Florida State', 'Miami', ' Wisconsin', 'Fordham',\n",
       "       'New Hampshire', ' Florida', 'Kentucky ', ' North Carolina',\n",
       "       'San José State ', ' TCU', ' Air Force', 'Troy ', 'Lafayette',\n",
       "       'Appalachian State', 'Howard', 'Clemson', ' Duke', ' Louisville ',\n",
       "       'New Mexico State ', ' Kentucky', ' Alabama ', 'Utah State ',\n",
       "       'Louisville ', 'UCF ', ' Michigan ', 'Memphis ', 'Air Force ',\n",
       "       'Missouri', 'Northwestern State', 'Indiana ', 'Auburn ',\n",
       "       'Iowa State ', 'Missouri ', 'Toledo ', 'Appalachian State ',\n",
       "       ' Iowa ', ' Fresno State', 'Fresno State ', ' Liberty',\n",
       "       'South Carolina ', ' NC State', 'Arkansas State ', 'Utah ',\n",
       "       'Iowa ', ' Oregon State ', 'Tennessee State', 'Georgia Southern ',\n",
       "       ' Missouri ', 'Texas A&M-Commerce', ' James Madison',\n",
       "       ' Washington ', 'Delaware', ' Ole Miss ', 'Syracuse ',\n",
       "       'Coastal Carolina ', ' North Carolina ', 'Pittsburgh ',\n",
       "       'Virginia ', ' Oklahoma State ', 'Jackson State', 'California ',\n",
       "       'Wyoming ', 'Duke ', 'Boise State ', 'Sacred Heart', 'Bryant',\n",
       "       'Georgia State ', 'Incarnate Word', ' Tennessee ',\n",
       "       ' Michigan State', 'Texas', ' Mississippi State', ' Kansas State ',\n",
       "       ' Arkansas', 'North Dakota State', ' Cincinnati', ' Wake Forest',\n",
       "       'Albany', 'Notre Dame ', 'SMU ', ' Baylor', 'Notre Dame',\n",
       "       ' Syracuse', 'North Carolina A&T', 'South Florida ', ' LSU ',\n",
       "       ' TCU ', 'Houston ', 'Cincinnati ', 'Southern', 'Tennessee',\n",
       "       ' UCF', 'UAB ', 'Purdue ', 'San Diego State ', 'Wake Forest ',\n",
       "       'Valparaiso', 'BYU ', 'Penn State', 'Texas ',\n",
       "       'Arkansas-Pine Bluff', 'Montana State ', ' Minnesota',\n",
       "       'Southern Miss ', 'Middle Tennessee ', 'Georgia', 'East Carolina ',\n",
       "       'Rice ', 'Tarleton', ' Arkansas ', ' Houston', 'UTSA ',\n",
       "       'Alabama State', ' Utah ', ' USC ', ' San Diego State',\n",
       "       ' Cincinnati ', 'Penn State ', 'Ole Miss', ' Coastal Carolina',\n",
       "       'Arizona ', 'Alabama', 'UTEP ', ' Auburn', 'Ball State ',\n",
       "       'Ohio State', ' Kentucky ', 'Stanford ', 'Eastern Michigan ',\n",
       "       'Marshall ', ' UTSA', ' Louisiana ', ' Pittsburgh ', 'Rutgers ',\n",
       "       'Kent State ', ' Wisconsin ', ' Purdue', ' Baylor ', 'Hampton',\n",
       "       ' Wake Forest ', 'Oregon', 'Kansas State ', 'Colorado ',\n",
       "       ' Louisiana', 'Yale', 'Oregon State ', 'Montana',\n",
       "       'Central Michigan ', ' Virginia Tech', ' Florida ',\n",
       "       ' Northwestern ', ' Tulsa', ' Marshall', 'New Mexico ',\n",
       "       'Western Kentucky ', ' Northwestern', 'Ole Miss ',\n",
       "       ' Coastal Carolina ', 'Southern Mississippi', 'Houston Baptist',\n",
       "       ' Appalachian State', 'Nevada ', 'Ohio State ', ' Indiana ',\n",
       "       ' Memphis'], dtype=object)"
      ]
     },
     "execution_count": 121,
     "metadata": {},
     "output_type": "execute_result"
    }
   ],
   "source": [
    "df1['opponent'].unique()"
   ]
  },
  {
   "cell_type": "code",
   "execution_count": 122,
   "id": "66a26417",
   "metadata": {},
   "outputs": [
    {
     "data": {
      "text/plain": [
       "opponent\n",
       "Vanderbilt           54\n",
       "Hawai'i              53\n",
       " Alabama             52\n",
       "Rutgers              52\n",
       "UTSA                 52\n",
       "                     ..\n",
       "Yale                  1\n",
       "Oregon State          1\n",
       "Montana               1\n",
       "Central Michigan      1\n",
       " Memphis              1\n",
       "Name: count, Length: 481, dtype: int64"
      ]
     },
     "execution_count": 122,
     "metadata": {},
     "output_type": "execute_result"
    }
   ],
   "source": [
    "df1['opponent'].value_counts()"
   ]
  }
 ],
 "metadata": {
  "kernelspec": {
   "display_name": "Python 3",
   "language": "python",
   "name": "python3"
  },
  "language_info": {
   "codemirror_mode": {
    "name": "ipython",
    "version": 3
   },
   "file_extension": ".py",
   "mimetype": "text/x-python",
   "name": "python",
   "nbconvert_exporter": "python",
   "pygments_lexer": "ipython3",
   "version": "3.13.5"
  }
 },
 "nbformat": 4,
 "nbformat_minor": 5
}
