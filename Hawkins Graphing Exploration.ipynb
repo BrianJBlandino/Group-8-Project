{
 "cells": [
  {
   "cell_type": "code",
   "execution_count": 1,
   "id": "e715eac7",
   "metadata": {},
   "outputs": [],
   "source": [
    "import pandas as pd \n",
    "import numpy as np \n",
    "import seaborn as sn"
   ]
  },
  {
   "cell_type": "code",
   "execution_count": null,
   "id": "47633f41",
   "metadata": {},
   "outputs": [
    {
     "data": {
      "text/plain": [
       "(1698, 19)"
      ]
     },
     "execution_count": 18,
     "metadata": {},
     "output_type": "execute_result"
    }
   ],
   "source": [
    "#Start by reading in the data \n",
    "url = \"https://raw.githubusercontent.com/sjhawkins24/ap-rankings-scrape/refs/heads/main/CollegeFootballRankings24to20.csv\"\n",
    "data = pd.read_csv(url)\n",
    "\n",
    "#Take a look at the data \n",
    "data.head()\n",
    "data[\"AP/CFP\"].value_counts()\n",
    "#Remove the unranked teams \n",
    "nan_mask = data[\"AP/CFP\"] != \"--\"\n",
    "data_filtered = data[nan_mask] \n",
    "#Just confirming the data got filtered \n",
    "data_filtered.shape"
   ]
  }
 ],
 "metadata": {
  "kernelspec": {
   "display_name": "base",
   "language": "python",
   "name": "python3"
  },
  "language_info": {
   "codemirror_mode": {
    "name": "ipython",
    "version": 3
   },
   "file_extension": ".py",
   "mimetype": "text/x-python",
   "name": "python",
   "nbconvert_exporter": "python",
   "pygments_lexer": "ipython3",
   "version": "3.11.11"
  }
 },
 "nbformat": 4,
 "nbformat_minor": 5
}
