{
 "cells": [
  {
   "cell_type": "code",
   "execution_count": 8,
   "id": "0d99f7b9",
   "metadata": {},
   "outputs": [],
   "source": [
    "import pandas as pd\n",
    "import numpy as np\n",
    "pd.set_option('display.max_rows', None)"
   ]
  },
  {
   "cell_type": "code",
   "execution_count": 2,
   "id": "3a232721",
   "metadata": {},
   "outputs": [
    {
     "data": {
      "text/html": [
       "<div>\n",
       "<style scoped>\n",
       "    .dataframe tbody tr th:only-of-type {\n",
       "        vertical-align: middle;\n",
       "    }\n",
       "\n",
       "    .dataframe tbody tr th {\n",
       "        vertical-align: top;\n",
       "    }\n",
       "\n",
       "    .dataframe thead th {\n",
       "        text-align: right;\n",
       "    }\n",
       "</style>\n",
       "<table border=\"1\" class=\"dataframe\">\n",
       "  <thead>\n",
       "    <tr style=\"text-align: right;\">\n",
       "      <th></th>\n",
       "      <th>AP_rank</th>\n",
       "      <th>Team</th>\n",
       "      <th>Week</th>\n",
       "      <th>year</th>\n",
       "    </tr>\n",
       "  </thead>\n",
       "  <tbody>\n",
       "    <tr>\n",
       "      <th>0</th>\n",
       "      <td>1</td>\n",
       "      <td>Georgia</td>\n",
       "      <td>1</td>\n",
       "      <td>2024</td>\n",
       "    </tr>\n",
       "    <tr>\n",
       "      <th>1</th>\n",
       "      <td>2</td>\n",
       "      <td>Ohio State</td>\n",
       "      <td>1</td>\n",
       "      <td>2024</td>\n",
       "    </tr>\n",
       "    <tr>\n",
       "      <th>2</th>\n",
       "      <td>3</td>\n",
       "      <td>Oregon</td>\n",
       "      <td>1</td>\n",
       "      <td>2024</td>\n",
       "    </tr>\n",
       "    <tr>\n",
       "      <th>3</th>\n",
       "      <td>4</td>\n",
       "      <td>Texas</td>\n",
       "      <td>1</td>\n",
       "      <td>2024</td>\n",
       "    </tr>\n",
       "    <tr>\n",
       "      <th>4</th>\n",
       "      <td>5</td>\n",
       "      <td>Alabama</td>\n",
       "      <td>1</td>\n",
       "      <td>2024</td>\n",
       "    </tr>\n",
       "    <tr>\n",
       "      <th>...</th>\n",
       "      <td>...</td>\n",
       "      <td>...</td>\n",
       "      <td>...</td>\n",
       "      <td>...</td>\n",
       "    </tr>\n",
       "    <tr>\n",
       "      <th>1970</th>\n",
       "      <td>21</td>\n",
       "      <td>USC</td>\n",
       "      <td>16</td>\n",
       "      <td>2020</td>\n",
       "    </tr>\n",
       "    <tr>\n",
       "      <th>1971</th>\n",
       "      <td>22</td>\n",
       "      <td>Miami</td>\n",
       "      <td>16</td>\n",
       "      <td>2020</td>\n",
       "    </tr>\n",
       "    <tr>\n",
       "      <th>1972</th>\n",
       "      <td>23</td>\n",
       "      <td>Ball State</td>\n",
       "      <td>16</td>\n",
       "      <td>2020</td>\n",
       "    </tr>\n",
       "    <tr>\n",
       "      <th>1973</th>\n",
       "      <td>24</td>\n",
       "      <td>San José State</td>\n",
       "      <td>16</td>\n",
       "      <td>2020</td>\n",
       "    </tr>\n",
       "    <tr>\n",
       "      <th>1974</th>\n",
       "      <td>25</td>\n",
       "      <td>Buffalo</td>\n",
       "      <td>16</td>\n",
       "      <td>2020</td>\n",
       "    </tr>\n",
       "  </tbody>\n",
       "</table>\n",
       "<p>1975 rows × 4 columns</p>\n",
       "</div>"
      ],
      "text/plain": [
       "      AP_rank            Team  Week  year\n",
       "0           1         Georgia     1  2024\n",
       "1           2      Ohio State     1  2024\n",
       "2           3          Oregon     1  2024\n",
       "3           4           Texas     1  2024\n",
       "4           5         Alabama     1  2024\n",
       "...       ...             ...   ...   ...\n",
       "1970       21             USC    16  2020\n",
       "1971       22           Miami    16  2020\n",
       "1972       23      Ball State    16  2020\n",
       "1973       24  San José State    16  2020\n",
       "1974       25         Buffalo    16  2020\n",
       "\n",
       "[1975 rows x 4 columns]"
      ]
     },
     "execution_count": 2,
     "metadata": {},
     "output_type": "execute_result"
    }
   ],
   "source": [
    "df = pd.read_csv('WeekByWeekRankings2020to2025.csv')\n",
    "df"
   ]
  },
  {
   "cell_type": "code",
   "execution_count": 3,
   "id": "9f334b32",
   "metadata": {},
   "outputs": [
    {
     "data": {
      "text/plain": [
       "np.int64(0)"
      ]
     },
     "execution_count": 3,
     "metadata": {},
     "output_type": "execute_result"
    }
   ],
   "source": [
    "df['AP_rank'].isna().sum()"
   ]
  },
  {
   "cell_type": "code",
   "execution_count": 4,
   "id": "93f9cace",
   "metadata": {},
   "outputs": [
    {
     "data": {
      "text/plain": [
       "array([ 1,  2,  3,  4,  5,  6,  7,  8,  9, 10, 11, 12, 13, 14, 15, 16, 17,\n",
       "       18, 19, 20, 21, 22, 23, 24, 25])"
      ]
     },
     "execution_count": 4,
     "metadata": {},
     "output_type": "execute_result"
    }
   ],
   "source": [
    "df['AP_rank'].unique()"
   ]
  },
  {
   "cell_type": "code",
   "execution_count": 5,
   "id": "567844ea",
   "metadata": {},
   "outputs": [
    {
     "data": {
      "text/plain": [
       "np.int64(0)"
      ]
     },
     "execution_count": 5,
     "metadata": {},
     "output_type": "execute_result"
    }
   ],
   "source": [
    "df['Team'].isna().sum()"
   ]
  },
  {
   "cell_type": "code",
   "execution_count": null,
   "id": "f871efeb",
   "metadata": {},
   "outputs": [],
   "source": [
    "unique_team = df['Team'].unique()\n",
    "unique_team = sorted(unique_team)\n",
    "unique_team"
   ]
  },
  {
   "cell_type": "code",
   "execution_count": 9,
   "id": "9fcd0e2e",
   "metadata": {},
   "outputs": [
    {
     "data": {
      "text/plain": [
       "Team\n",
       "Georgia              79\n",
       "Alabama              79\n",
       "Ohio State           78\n",
       "Oregon               74\n",
       "Notre Dame           71\n",
       "Penn State           64\n",
       "Clemson              63\n",
       "Michigan             62\n",
       "Ole Miss             61\n",
       "Texas                56\n",
       "Oklahoma             56\n",
       "Oklahoma State       52\n",
       "Tennessee            50\n",
       "Texas A&M            49\n",
       "USC                  45\n",
       "BYU                  43\n",
       "Utah                 42\n",
       "LSU                  42\n",
       "Miami                40\n",
       "Cincinnati           37\n",
       "North Carolina       36\n",
       "Kansas State         34\n",
       "Iowa State           30\n",
       "Washington           29\n",
       "Iowa                 29\n",
       "NC State             28\n",
       "Florida              26\n",
       "Missouri             26\n",
       "Florida State        24\n",
       "Wisconsin            24\n",
       "SMU                  24\n",
       "Coastal Carolina     22\n",
       "Tulane               22\n",
       "Wake Forest          22\n",
       "Kentucky             21\n",
       "UCLA                 21\n",
       "Oregon State         21\n",
       "Indiana              20\n",
       "Pittsburgh           19\n",
       "Louisville           19\n",
       "Baylor               18\n",
       "Auburn               18\n",
       "Michigan State       17\n",
       "Louisiana            17\n",
       "Arkansas             16\n",
       "Illinois             14\n",
       "Army                 13\n",
       "Liberty              12\n",
       "TCU                  12\n",
       "Boise State          11\n",
       "UCF                  10\n",
       "Colorado             10\n",
       "Arizona               9\n",
       "UTSA                  9\n",
       "Virginia Tech         9\n",
       "Kansas                9\n",
       "South Carolina        9\n",
       "Syracuse              8\n",
       "Memphis               8\n",
       "Washington State      8\n",
       "Duke                  8\n",
       "Houston               8\n",
       "Arizona State         8\n",
       "Marshall              7\n",
       "James Madison         7\n",
       "UNLV                  7\n",
       "Mississippi State     7\n",
       "Northwestern          6\n",
       "San Diego State       6\n",
       "Fresno State          5\n",
       "Minnesota             5\n",
       "Air Force             3\n",
       "Nebraska              3\n",
       "Tulsa                 3\n",
       "Troy                  2\n",
       "Vanderbilt            2\n",
       "Toledo                2\n",
       "Buffalo               2\n",
       "Navy                  1\n",
       "Texas Tech            1\n",
       "West Virginia         1\n",
       "Utah State            1\n",
       "Appalachian State     1\n",
       "Ball State            1\n",
       "San José State        1\n",
       "Name: count, dtype: int64"
      ]
     },
     "execution_count": 9,
     "metadata": {},
     "output_type": "execute_result"
    }
   ],
   "source": [
    "df['Team'].value_counts()"
   ]
  },
  {
   "cell_type": "code",
   "execution_count": 11,
   "id": "bb5af988",
   "metadata": {},
   "outputs": [
    {
     "data": {
      "text/plain": [
       "np.int64(0)"
      ]
     },
     "execution_count": 11,
     "metadata": {},
     "output_type": "execute_result"
    }
   ],
   "source": [
    "df['Week'].isna().sum()"
   ]
  },
  {
   "cell_type": "code",
   "execution_count": 12,
   "id": "ac0bb64c",
   "metadata": {},
   "outputs": [
    {
     "data": {
      "text/plain": [
       "array([ 1,  2,  3,  4,  5,  6,  7,  8,  9, 10, 11, 12, 13, 14, 15, 16])"
      ]
     },
     "execution_count": 12,
     "metadata": {},
     "output_type": "execute_result"
    }
   ],
   "source": [
    "df['Week'].unique()"
   ]
  },
  {
   "cell_type": "code",
   "execution_count": 14,
   "id": "256404f0",
   "metadata": {},
   "outputs": [
    {
     "data": {
      "text/plain": [
       "Week\n",
       "1     125\n",
       "2     100\n",
       "3     125\n",
       "4     125\n",
       "5     125\n",
       "6     125\n",
       "7     125\n",
       "8     125\n",
       "9     125\n",
       "10    125\n",
       "11    125\n",
       "12    125\n",
       "13    125\n",
       "14    125\n",
       "15    125\n",
       "16    125\n",
       "Name: count, dtype: int64"
      ]
     },
     "execution_count": 14,
     "metadata": {},
     "output_type": "execute_result"
    }
   ],
   "source": [
    "df['Week'].value_counts().sort_index()"
   ]
  },
  {
   "cell_type": "code",
   "execution_count": 15,
   "id": "f38d2bb7",
   "metadata": {},
   "outputs": [
    {
     "data": {
      "text/plain": [
       "np.int64(0)"
      ]
     },
     "execution_count": 15,
     "metadata": {},
     "output_type": "execute_result"
    }
   ],
   "source": [
    "df['year'].isna().sum()"
   ]
  },
  {
   "cell_type": "code",
   "execution_count": 16,
   "id": "15ad7fa7",
   "metadata": {},
   "outputs": [
    {
     "data": {
      "text/plain": [
       "array([2024, 2023, 2022, 2021, 2020])"
      ]
     },
     "execution_count": 16,
     "metadata": {},
     "output_type": "execute_result"
    }
   ],
   "source": [
    "df['year'].unique()"
   ]
  },
  {
   "cell_type": "code",
   "execution_count": 17,
   "id": "dc573911",
   "metadata": {},
   "outputs": [
    {
     "data": {
      "text/plain": [
       "year\n",
       "2024    400\n",
       "2023    400\n",
       "2022    400\n",
       "2021    400\n",
       "2020    375\n",
       "Name: count, dtype: int64"
      ]
     },
     "execution_count": 17,
     "metadata": {},
     "output_type": "execute_result"
    }
   ],
   "source": [
    "df['year'].value_counts()"
   ]
  }
 ],
 "metadata": {
  "kernelspec": {
   "display_name": "Python 3",
   "language": "python",
   "name": "python3"
  },
  "language_info": {
   "codemirror_mode": {
    "name": "ipython",
    "version": 3
   },
   "file_extension": ".py",
   "mimetype": "text/x-python",
   "name": "python",
   "nbconvert_exporter": "python",
   "pygments_lexer": "ipython3",
   "version": "3.10.12"
  }
 },
 "nbformat": 4,
 "nbformat_minor": 5
}
